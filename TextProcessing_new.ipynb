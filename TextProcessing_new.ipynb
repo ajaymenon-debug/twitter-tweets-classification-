{
 "cells": [
  {
   "cell_type": "code",
   "execution_count": 2,
   "metadata": {},
   "outputs": [],
   "source": [
    "from __future__ import division\n",
    "from itertools import chain\n",
    "\n",
    "import pandas as pd\n",
    "import xml.etree.ElementTree as ET\n",
    "import numpy as np\n",
    "\n",
    "import matplotlib.pyplot as plt\n",
    "%matplotlib inline\n",
    "\n",
    "from sklearn.feature_extraction.text import TfidfVectorizer\n",
    "from sklearn.feature_extraction.text import CountVectorizer\n",
    "from sklearn.neighbors import KNeighborsClassifier\n",
    "from sklearn.discriminant_analysis import LinearDiscriminantAnalysis\n",
    "from sklearn.discriminant_analysis import QuadraticDiscriminantAnalysis\n",
    "from scipy.sparse import dok_matrix\n",
    "from nltk.stem import WordNetLemmatizer\n",
    "from nltk import word_tokenize\n",
    "from nltk.tokenize import RegexpTokenizer\n",
    "from sklearn.metrics import precision_score, recall_score, f1_score, accuracy_score, confusion_matrix, matthews_corrcoef\n",
    "from sklearn.linear_model import LogisticRegression\n",
    "from sklearn.naive_bayes import MultinomialNB, GaussianNB,BernoulliNB\n",
    "from sklearn.svm import LinearSVC, SVC\n",
    "from sklearn.ensemble import RandomForestClassifier\n",
    "#from sklearn import cross_validation\n",
    "from sklearn.model_selection import cross_val_score, train_test_split"
   ]
  },
  {
   "cell_type": "markdown",
   "metadata": {},
   "source": [
    "<hr style=\"border:2px solid gray\"></hr>\n",
    "\n",
    "## Functions and Code Compiled\n",
    "Functions and combined code for the text processing and model creation"
   ]
  },
  {
   "cell_type": "code",
   "execution_count": 3,
   "metadata": {},
   "outputs": [],
   "source": [
    "def readDataToDataFrame(df):\n",
    "    i = 0\n",
    "    new_df = pd.DataFrame(columns = [\"id\", \"tweet\", \"gender\"])\n",
    "    for k, v in df.items():\n",
    "        filepath = \"data/\"+k+\".xml\"\n",
    "        tree = ET.parse(filepath)\n",
    "        docs = tree.findall('./documents/document')\n",
    "        tweet_text = ' '.join([doc.text for doc in docs])\n",
    "        new_df.loc[i] = [k, tweet_text, v]\n",
    "        i += 1\n",
    "        \n",
    "    gender_encode = {\"gender\":{\"male\":1, \"female\":0}}\n",
    "    new_df.replace(gender_encode, inplace = True)\n",
    "    return new_df\n",
    "\n",
    "def createTrainTestData(data, testdata, train_split = False):\n",
    "    if not train_split:\n",
    "        return data, testdata\n",
    "    np.random.seed(3)\n",
    "    msk = np.random.rand(len(data)) < 0.8\n",
    "    train = data[msk].copy()\n",
    "    test = data[~msk].copy()\n",
    "    return train, test\n",
    "\n",
    "stopwords_list_570 = []\n",
    "with open('./stopwords_en.txt') as f:\n",
    "    stopwords_list_570 = f.read().splitlines()\n",
    "\n",
    "class LemmaTokenizer(object):\n",
    "    def __init__(self):\n",
    "        self.wnl=WordNetLemmatizer()\n",
    "    def __call__(self,doc):\n",
    "        tokenizer = RegexpTokenizer(r\"\\w+\") \n",
    "        tokens = tokenizer.tokenize(doc)\n",
    "        tokenizer = RegexpTokenizer(r\"\\d+\")\n",
    "        number_tokens = tokenizer.tokenize(doc)\n",
    "        \n",
    "        tokens = [w for w in tokens if w not in number_tokens]\n",
    "        rmstopwords = [x for x in tokens if x not in stopwords_list_570]\n",
    "        return [self.wnl.lemmatize(t) for t in rmstopwords]\n",
    "\n",
    "vectorizer=TfidfVectorizer(analyzer='word',input='content',\n",
    "                           lowercase=True,\n",
    "#                            token_pattern='\\w+',\n",
    "                           min_df=0,\n",
    "                           ngram_range=(1,1),\n",
    "                           tokenizer=LemmaTokenizer())\n",
    "\n",
    "# def getDocsLabelsList(train, test, flag = False):\n",
    "#     trainDocs = train.Tweet.tolist()\n",
    "#     trainLabels = train.Gender.tolist()\n",
    "#     testDocs = test.Tweet.tolist()\n",
    "#     if flag:\n",
    "#         testLabels = test.Gender.tolist()\n",
    "#     return trainDocs, trainLabels, testDocs, testLables\n",
    "\n",
    "def showModelStats(models, x_train, y_train, x_test, y_test):\n",
    "#     models = [\n",
    "#     LogisticRegression(),\n",
    "#     BernoulliNB(),\n",
    "#     LinearSVC(),\n",
    "#     RandomForestClassifier()\n",
    "#     ]\n",
    "    for clf in models:\n",
    "        model_name = clf.__class__.__name__\n",
    "        clf.fit(x_train, y_train)\n",
    "        print(model_name)\n",
    "        # Do the prediction\n",
    "        y_predict=clf.predict(x_test)\n",
    "        print(confusion_matrix(y_test,y_predict))\n",
    "        recall=recall_score(y_test,y_predict,average='macro')\n",
    "        precision=precision_score(y_test,y_predict,average='macro')\n",
    "        f1score=f1_score(y_test,y_predict,average='macro')\n",
    "        accuracy=accuracy_score(y_test,y_predict)\n",
    "        matthews = matthews_corrcoef(y_test,y_predict) \n",
    "        print('Accuracy: '+ str(accuracy))\n",
    "        print('Macro Precision: '+ str(precision))\n",
    "        print('Macro Recall: '+ str(recall))\n",
    "        print('Macro F1 score:'+ str(f1score))\n",
    "        print('MCC:'+ str(matthews))\n",
    "\n",
    "def predictValues(models, x_train, y_train, x_test):\n",
    "#     models = [\n",
    "#         LinearSVC(),\n",
    "#     ]\n",
    "    pred_values_dict = {}\n",
    "    for clf in models:\n",
    "        model_name = clf.__class__.__name__\n",
    "        clf.fit(x_train, y_train)\n",
    "        y_predict=clf.predict(x_test)\n",
    "        pred_values_dict[clf.__class__.__name__] = y_predict\n",
    "#     return y_predict\n",
    "    return pred_values_dict\n"
   ]
  },
  {
   "cell_type": "code",
   "execution_count": 25,
   "metadata": {},
   "outputs": [],
   "source": [
    "train_data = pd.read_csv(\"train_labels.csv\", index_col = 0, squeeze = True).to_dict()\n",
    "test_data = pd.read_csv(\"test.csv\", index_col = 0, usecols=[\"id\",\"gender\"], squeeze = True).to_dict()\n",
    "\n",
    "train_tweets = readDataToDataFrame(train_data)\n",
    "test_tweets = readDataToDataFrame(test_data)\n",
    "\n",
    "# Set train_split flag to split the training data 80:20\n",
    "train, test = createTrainTestData(train_tweets, test_tweets, train_split = True) \n",
    "\n",
    "trainDocs = train.tweet.tolist()\n",
    "trainLabels = train.gender.tolist()\n",
    "testDocs = test.tweet.tolist()\n",
    "testLabels = test.gender.tolist()\n"
   ]
  },
  {
   "cell_type": "code",
   "execution_count": 16,
   "metadata": {},
   "outputs": [
    {
     "data": {
      "text/plain": [
       "3100"
      ]
     },
     "execution_count": 16,
     "metadata": {},
     "output_type": "execute_result"
    }
   ],
   "source": [
    "len(trainDocs)"
   ]
  },
  {
   "cell_type": "code",
   "execution_count": 26,
   "metadata": {},
   "outputs": [],
   "source": [
    "vectorizer=CountVectorizer(analyzer='word',input='content',\n",
    "                           lowercase=True,\n",
    "#                            token_pattern='\\w+',\n",
    "                           min_df=0,\n",
    "                           ngram_range=(1,1),\n",
    "                           tokenizer=LemmaTokenizer())"
   ]
  },
  {
   "cell_type": "code",
   "execution_count": 27,
   "metadata": {},
   "outputs": [],
   "source": [
    "# Fit and transform training and test docs\n",
    "x_train=vectorizer.fit_transform(trainDocs)\n",
    "y_train=np.asarray(trainLabels)\n",
    "x_test=vectorizer.transform(testDocs)\n",
    "y_test=np.asarray(testLabels)"
   ]
  },
  {
   "cell_type": "code",
   "execution_count": 28,
   "metadata": {},
   "outputs": [
    {
     "name": "stderr",
     "output_type": "stream",
     "text": [
      "/Users/ajaymenon/opt/anaconda3/lib/python3.7/site-packages/sklearn/linear_model/logistic.py:433: FutureWarning: Default solver will be changed to 'lbfgs' in 0.22. Specify a solver to silence this warning.\n",
      "  FutureWarning)\n"
     ]
    },
    {
     "name": "stdout",
     "output_type": "stream",
     "text": [
      "LogisticRegression\n",
      "[[259  70]\n",
      " [ 49 227]]\n",
      "Accuracy: 0.8033057851239669\n",
      "Macro Precision: 0.8026094276094276\n",
      "Macro Recall: 0.8048489053345668\n",
      "Macro F1 score:0.8027539650576301\n",
      "MCC:0.6074542048604283\n",
      "BernoulliNB\n",
      "[[232  97]\n",
      " [ 62 214]]\n",
      "Accuracy: 0.7371900826446282\n",
      "Macro Precision: 0.7386092700745893\n",
      "Macro Recall: 0.7402647460464297\n",
      "Macro F1 score:0.7369572410247717\n",
      "MCC:0.47887115460756313\n",
      "LinearSVC\n",
      "[[261  68]\n",
      " [ 50 226]]\n",
      "Accuracy: 0.8049586776859504\n",
      "Macro Precision: 0.8039678894065665\n",
      "Macro Recall: 0.8060768248094797\n",
      "Macro F1 score:0.8043037280701755\n",
      "MCC:0.6100410688915984\n"
     ]
    },
    {
     "name": "stderr",
     "output_type": "stream",
     "text": [
      "/Users/ajaymenon/opt/anaconda3/lib/python3.7/site-packages/sklearn/ensemble/forest.py:246: FutureWarning: The default value of n_estimators will change from 10 in version 0.20 to 100 in 0.22.\n",
      "  \"10 in version 0.20 to 100 in 0.22.\", FutureWarning)\n"
     ]
    },
    {
     "name": "stdout",
     "output_type": "stream",
     "text": [
      "RandomForestClassifier\n",
      "[[229 100]\n",
      " [ 98 178]]\n",
      "Accuracy: 0.6727272727272727\n",
      "Macro Precision: 0.6702967900908631\n",
      "Macro Recall: 0.6704880842253644\n",
      "Macro F1 score:0.6703850048428281\n",
      "MCC:0.34078482062627313\n"
     ]
    }
   ],
   "source": [
    "models = [\n",
    "    LogisticRegression(),\n",
    "    BernoulliNB(),\n",
    "    LinearSVC(),\n",
    "    RandomForestClassifier()\n",
    "    ]\n",
    "\n",
    "showModelStats(models, x_train, y_train, x_test, y_test)\n",
    "#pred_dict = predictValues(models, x_train, y_train, x_test)\n"
   ]
  },
  {
   "cell_type": "code",
   "execution_count": 22,
   "metadata": {},
   "outputs": [],
   "source": [
    "# Select a list of predicted values from the dictionary by the model name\n",
    "y_pred = pred_dict['LinearSVC']"
   ]
  },
  {
   "cell_type": "code",
   "execution_count": 24,
   "metadata": {},
   "outputs": [],
   "source": [
    "# Write predicted labels to csv file\n",
    "final_csv = test[['id', 'gender']]\n",
    "# final_csv.rename(columns = {'ID':'id', 'Gender':'gender'}, inplace = True)\n",
    "final_csv.gender = y_pred\n",
    "final_csv.to_csv('pred_labels.csv', index = False)"
   ]
  },
  {
   "cell_type": "markdown",
   "metadata": {},
   "source": [
    "<hr style=\"border:2px solid gray\"> </hr>"
   ]
  },
  {
   "cell_type": "code",
   "execution_count": 4,
   "metadata": {},
   "outputs": [],
   "source": [
    "train_data = pd.read_csv(\"train_labels.csv\", index_col = 0, squeeze = True).to_dict()\n",
    "some = pd.read_csv(\"test.csv\", index_col = 0, usecols=[\"id\",\"gender\"], squeeze = True).to_dict()"
   ]
  },
  {
   "cell_type": "code",
   "execution_count": null,
   "metadata": {},
   "outputs": [],
   "source": [
    "test_data.head()"
   ]
  },
  {
   "cell_type": "code",
   "execution_count": 8,
   "metadata": {
    "scrolled": true
   },
   "outputs": [
    {
     "ename": "NameError",
     "evalue": "name 'test_data' is not defined",
     "output_type": "error",
     "traceback": [
      "\u001b[0;31m---------------------------------------------------------------------------\u001b[0m",
      "\u001b[0;31mNameError\u001b[0m                                 Traceback (most recent call last)",
      "\u001b[0;32m<ipython-input-8-829d5443e4c3>\u001b[0m in \u001b[0;36m<module>\u001b[0;34m\u001b[0m\n\u001b[1;32m      2\u001b[0m \u001b[0mi\u001b[0m\u001b[0;34m=\u001b[0m\u001b[0;36m0\u001b[0m\u001b[0;34m\u001b[0m\u001b[0;34m\u001b[0m\u001b[0m\n\u001b[1;32m      3\u001b[0m \u001b[0mtweets_test\u001b[0m \u001b[0;34m=\u001b[0m \u001b[0mpd\u001b[0m\u001b[0;34m.\u001b[0m\u001b[0mDataFrame\u001b[0m\u001b[0;34m(\u001b[0m\u001b[0mcolumns\u001b[0m \u001b[0;34m=\u001b[0m \u001b[0;34m[\u001b[0m\u001b[0;34m\"ID\"\u001b[0m\u001b[0;34m,\u001b[0m \u001b[0;34m\"Tweet\"\u001b[0m\u001b[0;34m,\u001b[0m \u001b[0;34m\"Gender\"\u001b[0m\u001b[0;34m]\u001b[0m\u001b[0;34m)\u001b[0m\u001b[0;34m\u001b[0m\u001b[0;34m\u001b[0m\u001b[0m\n\u001b[0;32m----> 4\u001b[0;31m \u001b[0;32mfor\u001b[0m \u001b[0mk\u001b[0m\u001b[0;34m,\u001b[0m \u001b[0mv\u001b[0m \u001b[0;32min\u001b[0m \u001b[0mtest_data\u001b[0m\u001b[0;34m.\u001b[0m\u001b[0mitems\u001b[0m\u001b[0;34m(\u001b[0m\u001b[0;34m)\u001b[0m\u001b[0;34m:\u001b[0m\u001b[0;34m\u001b[0m\u001b[0;34m\u001b[0m\u001b[0m\n\u001b[0m\u001b[1;32m      5\u001b[0m     \u001b[0mfilepath\u001b[0m \u001b[0;34m=\u001b[0m \u001b[0;34m\"data/\"\u001b[0m\u001b[0;34m+\u001b[0m\u001b[0mk\u001b[0m\u001b[0;34m+\u001b[0m\u001b[0;34m\".xml\"\u001b[0m\u001b[0;34m\u001b[0m\u001b[0;34m\u001b[0m\u001b[0m\n\u001b[1;32m      6\u001b[0m \u001b[0;31m#     print(filepath)\u001b[0m\u001b[0;34m\u001b[0m\u001b[0;34m\u001b[0m\u001b[0;34m\u001b[0m\u001b[0m\n",
      "\u001b[0;31mNameError\u001b[0m: name 'test_data' is not defined"
     ]
    }
   ],
   "source": [
    "# Read test xml files\n",
    "i=0\n",
    "tweets_test = pd.DataFrame(columns = [\"ID\", \"Tweet\", \"Gender\"])\n",
    "for k, v in test_data.items():\n",
    "    filepath = \"data/\"+k+\".xml\"\n",
    "#     print(filepath)\n",
    "    tree = ET.parse(filepath)\n",
    "    docs = tree.findall('./documents/document')\n",
    "#     docs = tree.find('./documents/document').text\n",
    "    tweet_text = ' '.join([doc.text for doc in docs])\n",
    "    tweets_test.loc[i] = [k, tweet_text, v]\n",
    "    i+=1\n",
    "    \n",
    "print(tweets_test.head())"
   ]
  },
  {
   "cell_type": "code",
   "execution_count": null,
   "metadata": {},
   "outputs": [],
   "source": [
    "tweets_test.shape"
   ]
  },
  {
   "cell_type": "code",
   "execution_count": 7,
   "metadata": {},
   "outputs": [
    {
     "data": {
      "text/plain": [
       "dict_keys(['d7d392835f50664fc079f0f388e147a0', 'ee40b86368137b86f51806c9f105b34b', '919bc742d9a22d65eab1f52b11656cab', '15b97a08d65f22d97ca685686510b6ae', 'affa98421ef5c46ca7c8f246e0a134c1', '7ebfa9227af3b76ea693c007db7eb83a', 'd8cdf701a99c9a4bbb85bb2169a4890e', '9147f96117e270f9aa92478ca1f37ccf', 'f6c5c9b5e50fab18461bb883a762d925', 'f8a4b86bcaa2b4dfaed29c14a27ce0b7', '6d29ca3ba724d43676ed46abb929dea0', '7f9f7c60389c2e63c21d612c8f17e2bf', 'bcb1a90aab31898982764f7396b4525d', 'f1375d89d477ca2512ea30843fd67e1a', '2e1f7aa4ea8de17044b17df3a50ef479', 'd560cafc83e95a7ceab43538ad31b66f', '675fefe06e2c562e56530739814483b7', '77d858eb2350274b754a338c5b76d7d9', 'b5cdf021d9b1c7d5da1ef12fc09ee405', 'ce6da8912b039169e6c25b426720defb', 'fe4aa7954b3d5798dcf3055205789056', '7b93cf81663e677fd70d4fd264f85997', '3478b8af3817646730f78710fd7cc84e', '2921fd9f757a647f92bb05caaf994abe', '5d0c6c359ac25f5a9a4a481a905c3104', '489b1c7118d2a3629ada4809eccedd65', '859a3403b4758039ae0b136b96d8149', 'bc69be41fceff0b577996d7f5f3eb6a5', '7a0b77b56ff422c9ab7e7377b6314c5e', 'b732f003120159fc6feac01f0ca1affc', '58ea2700ca9a7be0842902edfd1aab3d', '57c7f00909ecca6f0e97e3e0af0136f8', 'bbbecbdbf2264e5bfc4d58adc3199d3', '88c6b44f1d520ce82e94d5f271fb06f0', 'ea95229fb1fc79e53478a73fc89699d7', 'c3cb2d35e68b013c4f6206f44ef4cb99', 'd817cd1861c70e04798c7ce30d0bb01f', 'de56a6acf96c3097c2ce62f323a75ebc', '455d676616ef36a00ea997681850f942', '1b44f927baa4d43eb660c55722b16e65', 'fdf6e9f2569337fcd15ba3aa6e1eadb0', 'bec09fd58c2e9f01093e9e14f9021f76', '97996ed0b79c9a044d89532175e2e759', '74aaf9dbcc6d4075608fcbb79c852a20', '438c210946d60a1f2c31d62b1d6fa721', '35e9c9f2246a8b1bcecce4e194b95db8', 'a411d04acfcc6773f63237efcb65bd21', '57d5f45c70534b32c62aab4156d042d1', '99b223ff10578d0b88c2101447dafc79', '141accadedc68221835bf9c7efb1615d', 'bf5b59b6e1602ac1a8d9d79d43b537f3', 'aeacd46f9e17855a242faaf526a369c2', 'c186b201bc1304d1c37a63133ab3cb7b', 'f63c6de516d135f72846fa37903572c7', '1d7972cd65c504e517c0bfe7260903ad', '22cc8df38ac052808a357f451f03e189', 'cee7faf942feaba21ea714db1fff401c', 'e26827647dfc9a9f61f63e58f7e68656', 'fa276b0579c1d33823222aa87e4337da', 'efd07593ef4165e0c616c8b5756d36f0', '2e0b8f11df7b08de82fc03ce1de6ecce', '835a707182f1dba8a0672fcb03f7c8a9', '1acf436c37fa646ff19a55732077e03a', '1f4f9233b07670726b64675b73618378', 'b9615705666cafc2a29677e5e61388ef', '867ad8a77ed26659559a421619284758', '3e300aab8f5a814ff65bfb246dcb086b', '1e79021deccb14520cb73613fc6d5965', '98a0ecb18df488c636981af08fc9d80c', 'ebae21815714ecb9d4f38d55020f5147', '5d052ab9de720ea8ff471d7f4d184dac', 'c5990409d9aaa7e6287bc2ed8ecef824', 'e593984d8db068a75f1c0bcb301b3e00', 'e2969aaeef5faa585c0bb44214a3afee', '10fe1538f8ac69683ebf8af14988e89d', '1f389e679fcd659dd0c25a96ccd435e4', 'da3dce3f5ed0ef5f69b202d3927cbadc', '9c3b6cddfd0186f04cbcb6a82a3b1101', '368f94579283c3daeb4b5d70abadf375', '55397a3682c8592612a1623b873cc40f', '35b6c18ffdf86e0632597fa0773ee45', '849b9e272eaed87e46d897a508180d0f', 'fa1243814605dc8d601294a570d1de2', 'aaddc833faba66561b9941cc07becf4d', 'b2d6f031eb2226e08c7bb07c7b88a3f5', '5fd52193df683f4ac825bbd17b631a1b', 'ece1c55b06196da39a4ca65372deb93a', '4d7ca0c84fc6766c9e99b35ab1dc19ca', '8dc82c62acf3c499a91577e97e438e72', '29e7bf6917f4f888748b8224778023a9', '9229726a3b3bceb0de2cc806b619de4b', 'c5ce3de43ef834f9f4b1a713571f9334', '12501d4a3db09f6b9dcaef2c8736b1c5', '93c9d3d368da9721904b4d889472a444', 'f1c520bbbfed2cf15fbbec463a5e7120', 'd2d790b02c3b767cc772b7f8388f96a5', '9223d1b1219646ef02227b2b2fca81fa', '6242adbf967eb885c46b5e700ea1bb5', 'aabffbf063559bd8404300c7b402a634', 'd33639427ac7917537669460b67be201', 'fe0d4ed763fcae2b05469ccc21489c80', 'd2fb8013733eaec34f6c858164bfd558', '58cfb960483c049dba8781256abc1414', 'ed6eaec16227378b65702ff99a54994d', '376d806adb04fff8a0f77da4ab7d378b', 'e4904f5d9f0aef32c15d9244642aa776', '460b948a7925f23006e6c44ea0683fc4', '9aa807ac361f7335d8c97cb59c4e5334', 'd5e13f4e3cce4cf4147d6fbfac2dc0bb', '7e008cb16cf1f565aa60340a48a77cb5', 'e2265caa97815bca13408528d954c00a', 'fcb57ecfb1a669bd3270dec6f79d8c60', 'b305e9a353be5d8fde5904792196870a', 'dea42eb5782d05f21ea3bb68910b7f26', '8afff3b6d36a41996393b8e098923e1', 'e21ecafa6bf330b4d6baeee34edc68e8', 'aeb2e80618c635954b8c15c9f3d2e1d8', 'd0198796f26e55d780ceb0da866eb77c', '27f24d761fcb9a7614dbda0f160f026f', '1304647c1401304048e614c5f522df7d', '66335784e3ea5b94060213df2f3b4d02', 'd393461fb6c1a5d2a32c3bf8c353a978', 'de4cb29a1f2a50bc1454cede9e007004', 'fc50bafaac66c3175eafd4825b9996d5', '49fdfe54db362c227909dd72c18a74cc', 'b19565eaa051b46ba80ad77759244fe4', 'cccf66701ed2e697fa66140b60347008', '80ff674f50da4f92f2a0c64b2cef1a7c', '1b88900a706394d0502fc9dab682adf6', '5647d97047f92803f03a592ef960f202', '321c9018f42c92a2189fcfe558c60887', '777ef7beb7465e440ded541409b2a30b', '200e612d61fae73756637523c3ddbc60', 'e3a11f85b390bfcbd4ac574d8409f6c2', '58d5f0a7d128e673c25ee726c690a46c', '602eb00b59ae861a418964821f24ff56', '72fd86b0f6c901bcf72e28fc1e2382ee', '33b1d561ff56d8900888f2afc1ad076b', 'f52f7db6aef63033c02869a3ecf53abc', '1e1cd3365a4175b2780f8adafa71cd04', 'de758c25fb9a3a948ffc021dc17c2211', '343e8d58cb0aeeb837742a5176120643', '3d67d64a101999b08b7d54221c59db37', '1ec1a8d26341366d078198a06954237c', '849a99517e0e1ee3b8e6adcbea476759', '61075adb1c8c6c412b75d4e3c2029cc0', '8c99c9c6af61002363f593fc398f346d', '2368315bf440e36dd9034e6c716715c2', '8d68b2c98a07aa7779627461f4d32a8f', 'df24cfb57dedc0335a4debe2ee90eaab', '6e8ace33ac3c2e2b6755fb80ae619849', '8ce9429510b39500504112462f7cb65b', '8bf4616196bbc4026122dd5abcc54632', '344397f5c30792102f6f6b585a5e1606', 'acbc528e8e44281ef1f8653ce731e71d', '32b6eaa0ac0e70f262a3525e551e6a99', 'ce0f29dbd7a322aa4dc1199ae263af16', '20fef1f779953430db32a7fc1f0011c5', 'd5a8c78957a0849a09a2f16de20a1512', 'b8c32c0f41d98d7d426441652c4ff7de', '9264e7b99ae594c1715597053bc32ce1', 'fb95cfa6ba1473e5c125a00bf734de23', '3790f1f5dbe3d8d928b7217167f724df', '85b7b6367d73f9c7a5f4db51312020e4', '2850f6d97f8441f0c969079455f4fbf5', '2a95fa35b4daacbdec7f1dc848525bb2', 'aab072fa10d08ed69d0bb6bcaa45364e', '97e64def35eb0d82209268874de15131', '1d675673a0883e4f7d4eeb54e73d1fc7', '311555ec53d8eaaf786e28f039f89945', 'ecd8a6a7fecdc7cea653dc4e239957a8', '47efbd79185bca99515adbf79a1c4e5', '373466329fffe42870e78ed8e969ff70', 'f1e6a7c9d993bf4e066eb93ac8cd6edf', '9725a8597291198ab8a08c744c4f134f', 'bd2f7e3aaf2d25b2d1626ad5b31edeeb', '8714a399171d499bf6c4d1d27feeb179', 'dfce59a56b7af9bfa1ba6f94be3d4e88', '716b8f255475f227e58d67a9dcd896d6', 'd884ec2ae10150e00c3709ee4edf32b6', '67776969e560096be1c059d60bed810c', 'a15c52ca5d6d6f8bb21ebf610b590ade', 'dc2a3c1be3d1dabce7f3bf577957f438', '2c347fb98d1a9684f9da96f8215805b1', 'cd0e34684db71c842c77e752d547419d', 'cf02abe29b324b0d5c972c4addd4b874', '45209a0a0fbc7b921fadb1cf384c91c0', 'b3759b81b3f3252942d2f934b15ee0de', '850ef92a1496c0be06c57bd526c55672', 'bf0620fc9bef34e009e7c7c1c768ece8', '5f013eeb9be96847ae71c8dc101b41b3', '25248e50aee564e2fcc9a5e3709fa7f6', 'c1978721d144f148ac7adb59107ea0c6', 'c4f9c724eea103b04c609229ec584e52', 'bf5bbab37125dbb6a11af46644044c52', '8d5ea31ff27136187f6033e5e1d9a3aa', '9fe28ee7c08bcb0daf629b798153d040', '50370971542c30a51114c7b1d9c3cdcb', 'e8d2009bf8eb6b8c25a8076f57d05d36', '9c1a9017126ac337eb43fdc644a80bc3', '558f112c3b0e43fade2b322f2c5fb86c', 'b2b715b58b8307cc4763fd4373ba5279', '5073180ba9be65fb3b8c10a06f5b88ad', '7eb757201748c44b0c94b7eec40780ad', 'f4f531d185d4bd1e7bbee4df1b94605e', '27d996ee27351bb0114e674cb7129819', '18228297b2d8baa442dc5d9dfb158f86', '4d76ff03c010da307d8d492fe0406771', '4c607d395fcaf4b4191d0a296b2ba613', '87e73fcabe9dd178c00e9f938efb9eae', 'c2a05de2cc5d7b19e83f198bf684dcd8', 'd2b51f8bacf182b5c1a8054d9b42a204', 'e4468f405d006ccc2b3aeab94f67ac07', '4bbfc889ffd90a40d581f3c7d7803c63', '48da5580e8f566ef598f55105f4b7a05', 'b04dd106c634b407365ef58dc0a0a9e9', '9849743d1073c27430eee1c398a90db4', 'ffbd53773c792831d5b6322b775faa3a', '7392f5e958304cc4d9358f1625f1012d', '37482dea714f7668f29c41ddbc6592b6', 'f957e4ac307176a3e57429cce414dba6', 'bb40cafb29cfd15e720971b097b28209', '9ad072cc8dd380a0287ab4a29611a409', '5c43d5fbacddd3f6a262217520427e61', 'e92065709e65b1cc109658e2c113f6c0', '784b3859946fabfb6e075023342dd12', 'dd50d7bfa0ad22a1b674fe4f75cc3f2f', '76769a7a22e731adc977dea11bedbafd', '83ed5cbde0421fef1c1d2203dfecf3ba', '68dd47ffa01a4852e089ddb1657edfef', 'ad6faf0d1624a7015f0eab10a6516fc2', 'a9e58fa8f4db6df3d791775d75e1822', 'c6411f271fba9071f6d67ab7f47e7db8', '950cfda002e74208208d01c2f5a72650', '1bf4d59a4fe9fa8ee1076303c2cdc110', 'fda2054a344f62d934a14d4bd1084dd9', 'a155cd046b51a0c442f57f1a2baa826c', 'ba15d67d1ab0e970b5d4140b81e1d129', 'f6d2400a14529892a457c22358f27126', '9d2ea2a212bfaccfe7605163b34ee00c', 'd4259624bfe49ddd10f2e19be0f0d582', '6950857f64e92d4b79465a98a779f311', '7b33780e34ea4af79fa4a320149e1828', '695072210de11e97311b46a825f3ab0', 'fd4b0a45e5fdfacf051f4c4a578ca2b9', 'bba5f50516e17e508879321f8b7fe2d0', '3a74721adf6040d15461c598a5c47d2b', '2ef93f4dd9af2e491de37f5fd64f5e16', '6808f5e0baab37c727ee71674ca61d60', 'fdb40289e4e0f9031e8d93123ab40e75', '82db26ead04f7c59079a6da74456e793', 'dc28c3c16c97374c7232940c20857bb4', '2f382f13580c383a0bd42471362922bd', '91fa1a3bea0dd5b55d80f988c99dc3d', 'fda322048c6d10bbff033371a6724aaa', '9abb3906165444e9d9d5c504f7432714', 'effc4e2e49e1311b9ba2f0443841943d', 'fbdfb0523ce14f4ae454383b57ddb418', 'cbdb29a7e5ac0bf8296c89cce2b259ab', 'e961e7ce6741a57e70e228d83394bca1', '27bd730ce3b7431a4ebc5fab637a44ff', '74bcf99189f36395442bf60c86c8cbe4', '7a2b6e351032615aa3c19d8c252bd552', '18bc08d56f04c6cbc6e1b16be4dc06da', 'd0b2a2f5c8015d35cadbdf57cc9f2c4f', '371dce4de0a4644ed5508bb5a917b97e', '987257143a642cbaae633e50f07cff98', '4f09bd80c9324759deaa294078e4f884', 'b40ee9dba2ef06867015c868bd87496a', 'c4b7d0799f237c19a244eb7f7084421d', 'fca629d0b4d8054f6d2290a8cb506c78', 'd21bf43aaa6b5dbb7c70559ae467e877', '106aa0abb81873d09028b01658c37611', '814fe3cc5776429733e212dc5825400b', 'c47a1dca056161ba6b53ab3ebfdc4eab', 'd253dcce49dc32756114decba1e2edbb', 'f3d3096e82e4b2360a9285036dd76715', '8eab27441caba6470dfa89af79e3bf09', 'b6372fafdffa28988047f6f0ea46b163', '9f15c06405ff47009c58122b3096e307', '13861e88e5df2a16fee127b55a188cf6', '415e0eaf549772c74eb67a04d5616bc7', 'b54c3a827d141918de3636cd87ceba1', 'dc603aab908ece2975f0ed2106597aa4', '6339741bc67064e071a2cb595aa2f11d', '56368478c5906d3ad856c5894d048b5a', '4193ca662928034b67f0fb2dd03578fe', '2be26839b02e905ff8ff9970da5c7f52', 'c1036def9f834631cf922c6cfdb42299', '8642119e87b561401f5ac936da441b3e', '6d1ae46e3dac3db38f0ab20448a4b63c', 'f82917ff0297c4be0f5ba54cc550dc85', '35a22590ec778f8f2ffb61898c3e1458', '882e15016243f9f72632073a6ccbee28', 'd1d0d8585d5e4025fb0b6b9786bec49f', 'd3e7c6caa5b068aa95ff016a2b6a3c18', 'd6b6906298c32e7780f6aaa87af51ca5', 'd4602b2d9bb2862be22b91001263ced6', '108d0b0b44c53042b7ee4fe3576a8cc9', '342dd1a8a0a14425364b7f72c930f741', 'f10f6b2bd59b71777dadd2b54e7a9cff', '5214484db6802216f199256835b8e6a8', '8212d78932b2fc9afb8f4ca943dd6611', '123df77f5e77a457f7125b0767afd9c5', '647784f4303f13a1d6d5dc4e6924276d', '77ae09b1998e0bff290d344ea0c4701a', '3e04418dabce3572a986bfff3a095c3c', '263da6c157fd20294bcb6dce89d1b613', '623d74e0d49610dc10501c7d02a4b433', 'b090b385d42752b899d99d11fe894278', '38d2e67dfa25dd60e8093f6bb19ef649', '8ad7f0d7356581e3331f18e4b161f3bb', '14f1dfbb1e4624272971cd0082bc9fdd', '8fd522fe51669089b8145464908e6db5', '8a7227825c8bf3b3112f0a33f7edc26c', 'd9a901d1e5e279844ef1e22617c1b288', 'a5b167d1977f6f850167c9133dcbb8b2', 'e7e00742d00ccedd7b68ef7bfc67be8e', '6212ef40be9430117e3cf3f56ffd0d3e', '9bf30cfa090bb592e2b9ca071ae4a3a8', 'e729a068e463bba87730f109e10ca6ce', '1a7918827006521b7cd80ff7d1b1e228', '6abbe500962194d69b6b7d6a70ae30e', '3fc1d5a795d4e562e067f35589b0a96d', '1f6f82997e5e26395c985414fbda1d3a', 'ee0136709e58befe257de7ff1c6b32ea', '11d606dd4a0a62f2c6449a36f2d79c51', '9f2d405a95b0f458fcc5f40b43728acc', '5cb4d8162ca91ac674c83816b4ac0183', 'f018af7405a2be33c56a2d9d9c056c59', 'ad8589ac44e97c530602ddf5ccad3e7a', '2771b827506f2d294556c58e395629a1', '6bd3a374fb9a8cf6a784e626339b905a', 'e9021453f240279dacf743cf5a836a7d', 'e4c17c6cf6bf88b2ae72bb78499a7b0b', '260c5fc6a96a6d954ea48f725d7cd22e', '73955ade234750cdd6974a14b25c64eb', '14e9e194ac15f13f9255bb7fcfe9c9ac', '267e518f59421d6ac15b6250304d780c', '62119958f2e56251614f530e009a0e63', 'fb1970a45df1ce1edef89b4e3c58f219', '827c2dc86e11b9db449cdeac7578830d', '6f33b4a3eb27df7f55eb678a3ad1c15e', 'f1b60737a7243337e1864e18b17fc4cb', '3b7a2a6ae91d7d85453647476a19173c', '55b2e87c8bb1e244fa11f5c16c18a64', '67d44c7fada40269c932dd966f84987e', '94b283a6af0276ba9a6f8997bdc1f41a', 'b93cd4bff2b63622be2516e134b338f8', '2baf3fa6ed5edd343cde2c1100d9947', '8d5eb0f855da73ef573e5212d589a1aa', '9a016f3b315ea917a31205afbce7f2d2', '29d5b1f704f8f722d8ab7c85b7c8f0ee', '9e609288a4f2305b9968f3d529024111', 'a1d180378e217a05fe06a083243491bb', 'cf3192a1f76cc13d0b90d46bce7ddd34', 'a97def91bf32efdc14bae16c20bf0eff', 'b3e87a80d8a37b9dd196222997f4d558', '343d36ba5204ebf3ad5940501bb3dbd8', 'cf695f227d8adda261d09a10c62359b7', 'd9342286e98743aea07e73c294bd7b2c', '49468987d1cc9149fe0c4bde66e423a9', '2b25b32e756b5cc9a62f5227f63967c9', 'c44da548d4672d7dd956a5274a7e0e74', 'd1f7790bad8b2c3e0e98d02000ccc124', 'f1e77ddded9c60f8228bc4ee62c8287c', 'c737fd48a4bd717f0aaafa70cae39475', 'e2a7640a22d2e104b6c1545bc591b26e', '4eea26a04591be17f48b1f264f2f9325', '23cc43066370bf5f2c13f708b25bfb3b', 'f10047182ed0089ef20fbd4d1ae76fc7', '9012e8dcff449aed59d67b5f8af566b5', 'd9eb2f0a913c44db50e4c10d6430dff1', '3069f07bf0d348f46edb4f8bdcece0f0', '5f5feda20b739ea00bfdc00fd0ca5127', '2fc146554944233b2f5dc93403b9a9e7', '17a93496102a4d311c9c658358635451', '2a1be189bca025d6f532fedac60aa280', 'fa711e096fa1e68944296bf2128a69d', '3a0e7e5f76c40b3a504772457fd5fe85', 'ec926f61d6f1513edcf795d343b2a52f', '85c874347bc93977cc4e412a52c309f7', '680f96e23bc877a3f34dd447cda8bbac', 'a5ce6b65760385a4e5062351e8f62227', 'c41c89a88cdba7ae57d6d22d370184bc', 'f2ca6a00dcc2353ead61e72e937dbbd7', '616a31884397242a2bb8aba5c248b32c', '5b10923ec7a4fe4e3236eaccd5e02469', '1747d59d8d314f3db859e65a3dff8873', '5d5555490c26a59a8d16db7251949545', '94cb9260e4d036b0d7f62f83c9c4aa4e', '56b4ff0baba162a5c53323fe3dcd0d64', '1bb8a6f38889df461511d0f41138da90', 'e0777f8e3112561299f83fa6ca8f19ea', '41a46838d84ae5ce34df26a1bf1c6a24', '678657f2050dfb3972d8aeb586815cb7', 'c045e41adb19fb912b69e94c7bd7717d', '503547ddc025ccf8de0f6472f8b96b87', 'd93f1b9191b509b9cfaed1115922d08d', '750bb8ad25ad20a015850a5a2730512d', '39bff8dcc6ff26a33c9932a9f4808624', '26270bee3733dbb00b6adb1183a0fb5b', '5856de7d92b867f1cc172b20ef58ca8', 'c6ed1be9a44326ea194ffe7ec89c82e6', 'c79106605cb897a8465fcc331d2c1ce5', '5dc1c48863322109993a435abbd9a747', '8b15a4470d4631cbdedbf426f059a87a', '87cb562f8a0db3a4506903a68adafb9d', 'faa853395e53925c7e3a99c71740dd0b', '4da4d0a546f188cb67e883992599482', '85b73035d24ff97874badf6d1b759c83', 'a0ecc4a0dff22c6ba1c00d3321c5053', 'ec13ae8a3fe121464400f05100c3c09c', '53b30116091dafe7da86a25d54bf9f31', '3d7086699b8977f207146e04ba05a47b', '1aff6860d57c75e4c82c144b33d9ac50', 'fa4ee89200a5819cdf0187577a439cbb', '278a4442bdf8bfe4bcb22c05e6751bf', 'b123667f9d6697eb2828dc00920099fc', '3852fafcbda29a5777d41b4534db0bd1', 'c78ba5d73f898afc8f027948848c19f7', 'fd803d92922e8086eb23f4410eaf8f5d', '2d05e95a88f1985fc17c6848aade5510', 'b41a88fa152eea09ce70139ab573da03', '79c2f0dbf494e663b2d107f407680cad', 'ac0ad5ef82c0feaa72dbfeb4eb8ae9ea', 'ee1b527b89d76ec2df0ed9096b4a47f8', '7a3474655bf3f46a34ceb2cd1bba2062', 'a3c36e3d994330cdc2192f10a9fe53cf', 'c8c2765f52ce33653b8ce5f07d40426', '2a65fc65e10d67dccfeab9fce854f05e', 'c5837a3f07fac5fae2aad64fbd409edd', '29cae4bc4f6b28f0ecc3a3d62000211a', '31e1b61709796d6fb556eff60df53a6f', '5258350892c6689a0362e41fed6cccf8', '4dbd49cb6fe542993bfd0b968be669bd', 'f13af4aee844ed3e03075faa4aa20c74', 'c9f618f4947e24b1d2af0c73f20bc595', 'cc5cca6b5c8a6545c30f40651b4202af', '7f66c29d32a0795c0158072ac967ca1d', '68328fd088e36e1ab4f79f2926550b9c', 'ba64e9483262a78e6490ef217a906613', 'e40536e3eca974fe03734f934aae441c', '9e81e377329bdc62b54e43c8ad17ae63', '53d55077f3408676d34a42c4f17555a6', 'ca345e44f6c67182931cd66de0776f57', '5729f649157acd7097343f24d637b104', '22fe7f79033388cc8316508644b5ce88', 'd109167842880fcb4686890833d98e67', 'd87bce7865724030049df4a9b2b68f19', 'b8d3d20cf4af10fadce06638f382e154', '42dc691f860354271b77171b152967cf', '98bde4c91cbfba935196108e598e0ec2', '64dc942602eb74bbf8766fcf493774f', '1342f1fee84567cda4741b41a770b4e0', '5e856b1af0c783fe6493d07432054979', 'b738314df80097970cfe76d399319e1c', 'c9ec82c0106c26333a4566a190a2a9a9', '9f9e1bc67b695f9bd9fcbd37ff4c068f', '1855f47b59882a54525aa8ba4b19d4bf', '3122a074d4f9ccb923bc74af536297fa', 'a42c80ff9a4ade2115b16e63b3d688b7', '7b11e1047bea750e0a461c617aa33654', '4138304267eb93062dc127e638f99c24', '18071e32681879247ed6d162b85747c', '83a6a5649de4cec10b5dfa9520c661d3', '8f3fb5460d98afb849ab22ac33fe0127', 'aa0a7a95d8347c0a7b4ebbb154ee4623', 'bfc9a1131b1ba9c7ddbfa1a44b3379eb', 'c4312059635a18381cfa93d706aafc09', '3b13137258ffbce907a75ece5b7fc5af', 'c9d209af548deda78984751009e23454', '52fb92d20cd63685c95e44f9b396cd3e', '79455069dd926772c6fcf7821be4436f', 'f62f2d2bf5bc2895e4701e3f546f0243', '95f5bd129a2108ada367d7c38b97d51f', '6bd70e9370f477d1da563a495f5de9f4', 'ac8a2b05c85b64c5ee46cf604e9bf5a2', 'ad75d687c9fd869e86e9bd2f651cff72', 'b3be8cb449a5c9267819731ff13fe072', '3a6ec6d56d0cf935a8c1d0e179082bfe', 'cb737560ccc3f5f5e4dc9d5e27a3474e', 'd6e1a8be0ee4abd549c0e757f1f36cfe', '1d9049db00b58f22564db47f68fa072c', 'bcf5344e500e1bd8267f8ba2328a9cc2', '78efec84cb3cd68208f73adb6bf84f3f', 'e8b05376a32f69b560f255ba0b9d6473', '70a60523ba7eb4d4e4288854ddea2ef5', '15ee6c8312db3df93fd209e091453188', '5c853746f942b93fb01127810a8fb52f', '10927a4b7defb6c60d5c4ac254050c2', 'a59db9a09423343608055d777123bf87', '980f3b4ba31999ef40b6e8749b59d90c', 'cb3d88dda49fb3d6404425a06bf37996', '43db92e0692c91e64da3a2d51449dcde', 'b2d0dfbcdbf1d0faf38667d9353a709f', '9ac180bd993295886d8c416175c6dc55', 'fcf475b27213e964c57ee0bb64b935d9', 'bb29ff0a61d5e43b93a94a3cdf8bdd23', '5aae75d455e249bae77706f7817ede5e', '6e18d7aa9765c83b2bc68f8758c88ca6', '69b127747c1c98427f3307cb2e075dbd', '241d6806c3833844bdeb8de15a15c521', 'fda31bfb4b9474c4da4ad82bd4ab56fd', '31449335b7bade00c0ee21021bbfb771', 'c71b3cd4d6d5684166a9c9e1a35593f9', '2b3664ccd638ddf6def74cee446c1b0d', '305be2de52acb7595fbc7c6284f202f2', 'b0c0833b36fa05956baaf17ee103e917', 'cb1040d1012459a1be941d6929e11c32', 'c4a8f31aa7b12a54df6fa8e99a43caed', '472a41f9a914b535264627e38955bd52', 'dd2d62442bcf7adec38c8aa3ce2d8019', 'be5bd7e4102beea0227b90af1ae224a0', 'bddfa7a091e5686e37da6fc2ad3f685a', 'db7c5b9c27fab5d25779875d67e3ed47', 'ab08e983d78a790d5bb00824017fab64', '5b73970e3127db07f26bbbf1b881aecb', '8906a9d37edab2087c078f28fe08960e', '613911dab08662f0a4c61358e3d2bfb', '3258d69219428005f40a53139c48fb50', '36e9fc8913e7cd4606aaa0620394389d', '5ecbd82206387388110d61d2d59df83a', 'b9086252df02b43e94893d2405f252d5', 'a073c80312950e1b8f363e95d3760738', 'a1952b908d405cf6d687851aac692d9b', 'b0ea2312ffeff8e46086067a4f6d7cfb', '39043c804d67abe58227850d794b848f', 'd20e5cb9c27bee219291f09b26ff6542', 'e20ee6f97eb29ade9119e5b42bd2095a', '713aa94024252409d5378376d99def00', '47e7bb82b4062116f4dc8cb15b8e8b70', '338eed06af6faf96ab554f499b8ba660', '7b08e029a01f021236a8106c3958bc4f', 'df66818f80b2a0bf2e8578b038c17a64', '323437e2b494f1858a4ea9116bf56be3', '86e759997fc0ef9374c510ed29d1c9e8', 'a348e2b2bd89f07c9197b4c942a8b0c1', '3186e511f5e014b30b50287e45d2627', '1fc35a5149379fff131e939f18257341', '2cdd34f7833be1a247ffdc6f3ea655db', 'ed1a6c0f4e29bfd5a087beaf3f2c4d87', 'efdc0ecd87d81e7cdd7f73bb44b042d7', '515d6d0befee2a7ab7674fc87087181d', 'f97e5bd36facf36500a03a6268189090', '473402ad5d1a95432538bd9fd4c9756e', '95e2ed2403fac9826daff9de35654916', 'cf732174e3dae14220de4fd5c6aad305', '6897cde4562d078c9912c90635ea4a51', 'a869556c7c25e36f123c279cf286106f', '5e18a1bf1fbef4246ce04d4e57040e2e', '202849f7d0894b25bb16f5e341ce00c9', 'f2c3028e1d2f470650e6d175256a514e', 'e62535673c25729cb55554e4744655be', 'f6c0270a2b0ac5c3cca89e0fd41707e7', '676f12d642b74af5be25cc92ff835297', '96bc7a27b81a358e40a8ec54cb1fe23c', 'c442152357e6441ce5063d132a558d82', '2c8045e748107dcf9cdb94287aaff68d', 'daa6321dffced9ed87431c06ea71d688', 'ea56e2275b129635d38b0a4f9e6691ca', '3371744b1d38062a1bf43934dd3554e', '1a63151ca8d69abe1243e6d2d464c131', '91a883903386e981d1a437495421c76e', '68ae630c0f1f2f3d5a3c29ad518e7761', '96583761883acbacc0459280f49db2fb', '494f11aba6dfdd60b53de80de7830d89', '52c02a1a54f74fc29cbb69ea5b4a944b', 'f0c981527bf5b99e30b215dc58558966', 'b59b52b4cd1163402051e4877dbf4158', '9eaa2e3d6a83efb56e846011197a1343', '9a82f0e8ec950329ab427a1d3e46b8f5', 'e0bbef33125e9a529742ffc12392f864', 'fc6edd44b6352458c31a1877f8d0fe9e', 'd331c1179ef829298a667f118f44b381', '5cf8a51b172a4943746a49e0147a5948', 'df1c14e405d605787558c0b12823c21e', '7465e632d15fccf954d61635d3992025', '94ffbabff73578c9b856495b07e9a396', '73648ab4794ceadfd22c9f17e1efb19a', 'c5d074611fca3fae573beb0de95218a8', 'daa4366f823f2647c35d550d2c452f0d', '965bc0ff6c0e5bf59b342a9f4fc522fb', '4502f17f7a9d88f6a9594e82968740b0', '869250e0882e393a3d7395444d58db8f', 'c362baef08de6304e4a641cdc08c70c0', 'ad1b99bd41ef75f70cd2e8406e254015', '91d27436ef1ecfaa7a75268e4e5aed40', 'c4e99a4e1004532eace3540fe1aee26', '70ad38848f6a32edfb1aaed4d567993', '121e1a87c0be5ea9df4af1d2bd32a0a5', '3a5161421b81c99939eccc1ea43d4a32', '33df8b06698430975373b12f0da22d99', '6ef39c08e4717516435505af61eb53d0', '7152adc57945262cbaa02e87ed4f2888', 'e370058ed3fcece335ac8e14d837c41c', '1cf1d1d2de63aa120813f3b920b891ee', '61ad7059a14ce47956b3ee64037c448b', '26036073c16c8cadc8effd4c763b56d1', '1b3a7514aa94c2b58f5aab47f872fcfd', 'a0c372c81e40d4bd9a697610b3b84fd6', '5ec8b8ca620c12a874e7def65d5e22c7', 'ca53fcd798aef281dccfc78846befcd', '73234c7d16b28d1c908b2d4a07ba950d', 'dd66c56e825e55d6d61faae58b46eea1', '54b42edbd72a511533472127858c93d6', '67a75a5dbafceb6da63d2b88912bc7d8', '2c691c0cb3eec8fff9c97978acc36754', 'cb039d8a9b055a1c32820e9d3f46f74e', '2a64e09dac4b6312439949580d0e3892', '444370a76a00a50420b8d16d6dadedb8', '859258712ead149a0a5d1358d762b1a4', 'f06a83fbd620aff659fc7671298aa69', 'ccc9e07dadadbeebeae4f48773e580a', '28c60eaeb6bc61285763413f3b493980', 'a9c9b18a14b3dce0a8f7c1acfc0e1058', '797032316cd5054cfe85873b1ae81685', '8407bfb621a9314eb9dda613551d38cb', '7048a30dde92605f16950402d1226bd', 'f0f42029cb2b66d8e6ff8b126be08685', 'e58540ad4a155d1fe48b87fa8cae2d9f', '2cc2df0c3315ee1645b4ff1e8b33bbbd', 'd59bb6f26ef8ad24f10a850c496b930e', 'da2dfcac9375b238f3aaa2dfc2b7a181', 'caf2c4bae863e97bd8c736ef8e4c8aa', '1d76b99f7592950aa29e1e03fa68374c', '6b364c72ae8ee1122e45e0b6d626f1e6', 'f6f50155f9a85e1983270f9ecb5457ec', '5db0d3b8f939b3669414726fc458877d', '6df9b0de618e1418357564f62b1fa135', 'b56d909afda9a926fd6e5e0323fb7821', '135d0bc24de199a17657c9809500dfed', '51c8ecaf02e8075d3da1de0d40a73068', 'e1bb3908334aac563d681861c6e1f0bf', '5fc0d0a6f90891a3cb4b32d7169e6676', '7c58cf2032e41aa1d7e62afea9980bfc', '7239e94b980f8efa42703f6c1b2a2180', '4bec164b74cf3362405ebacdb6f4611b', '8d36d0705d672a060373eb14f971244c', '385f88d81c99dd5c6da3284d5f12aca5', '723986db9d2bc1fba6f7b0752958437b', '3f810402b7f62298b7ffc4c1314c65ff', 'c02411e35124b4777cdcb705911081c0', 'f1e2e8d91ee46ea26518093f7b05568f', 'a8e5b429b873b7a0d3395ad0168e3c98', '8a50b1f6ccd8efde5901513838a96931', 'e5883628088fbc116a8b482e7fa58950', '3d8285a6183b250bf7810f1110ebd408', '8f28a9f29573b37ee9c7797fb26696ff', 'c1b25d99b7ee512120d2dc27c50515b4', '5589910d0ed02a1fbff62e92cab0e14c', 'd7654b277245d14f5f01d6ffb697ab85', '40eed880356e2a4a19b0376f22977d38', '2632cdf84d1b267ff697424b290714be', '84ab4e9fe846707442086343dbe5d045', 'fa9f3205c16f4e40a315f855901bf032', '38a384e5f54664d04bdfdbd96b6db073', '7efb446ee94133c9f0d27347ca1ee5cf', 'b2b780c4e4f5fe50c9d034a95ad9099b', '6d9a873949d84fba7f89016516b23743', '39f505a3f8e1a391d697203a498b92b1', 'cefb918536d8eed74ef2966cb8e2a100', '43f642e97021a9f1e235c4b7c6a2eb07', '42df481ad54ec7d64fac2f7215c10b4', '9055348e7ab518ab24d5c4604672aff6', 'b260714348711a79889561bdbd96f1a4', '2dce88ad6917a3602493209b000189c4', '5d0fd7e13832c2c50aa2728427e668c9', '6e4328a4453316e98033523a24d05f86', '2e0a5b5719289af9ec6a2ee6de7495ce', '91439ce8adc9ffc36a78bbef70c47818', '39355523c270df4470ffe6684ecdf67f', '7857b2659726d2c95f12fb7bf50e9b54', '3904f309bbf2aeb7c341875d6ef24689', 'efb58e76e03af3987d5d18b6e29db053', 'c9b66c263ee240bf1e4771eca9f9e11b', 'f22b15ee4fb89970201366e1e4ee9c1a', '4b664f543f2b6a4fd5e07497565d6546', '897d2be57a27a2d84966f3141e226dd1', '69eb7a0d00e76adc385dcd481fa9439b', '9f996600ecc00707abfc82af9ba29688', '1e038bd3a97cca9bba6ff8e00562fae6', '702dda85c150c7c4d673cb211a2c02b5', 'c2c67d9af72b23d823387ba453bf7d09', '422404f70f43ae364800a6c079d08a97', '7ccd52dd5a556d7195e0193bafb1791c', '59ad107d36a8c3cc37b5cab59d878656', '4b32dfff6d668914b56bdaac84f5c6a', 'b56f9f1ef99ec5c70ae057a253707707', '40e4203a825effc01766a0b2815b374b', '239748c8c9eabc11fe1c03998525b104', 'bd5024899a1eb72fb9f0b58aabd55aa1', '3d2241bb469f16df9ff34600f921a781', '43532814b66e86ec28680909f7841eeb', 'eb799ff053919bd859024f8ce22a08dd', '842806363af2eab0ec9ccf5bb3f5266c', '47318e147cc1a42aeacd15861de7241', '4b3ad141c30b5a19e93b3ec05bec0ea0', 'a8c233deb8093cf3d8dfd45e017b51d2', '2e71e9acd05b07cf48fd503001d9eaa9', '2df6b21fbade7045a48c6d76076216ce', '1bef9ce90775ed634a77367b3d50dae7', 'd12afd896dbc82e7ba3e2f64866838a1', '59bf04a76f472e284bf68bafadbb1329', '9685292560a950fbc7a6f962c91fcf55', '39a58491059210afbc436232edeefd52', '85f3c5023c8257771b2c69952f54b0ad', '865bbc3a16b7b96c58941830568a9c7f', 'a004f1b810402a4e391ea6b3702f2b45', 'd8a17465938bacde7db1991bb9ab1cd5', 'c524a98a812c7513f9498ab7c59aa473', '5d8c63fde1e6a629e4a987de302165bd', '29af6cd28045098b8e623b7c3743f8ce', 'fc6f924d3258ad47ee7a6d04c0daf3c1', 'be256f03b400b3e2db0323198a3a7987', 'db024f43f1c62e3c8b9d05c1ae3ac9ce', 'adff66d87f415770e5f52690b116f15d', 'dc98b0f37c05812764a25d4250451fa3', '8d43003a9f1f52b86a929478d63eff1a', '846bebc568808548f482e2bc7b48be11', '59079005355da6e5d7caaf5e2fc972a5', 'cab560a7a0fd09b89f7ae0ff2bf8de51', '734178fcaa3e4ff04478f1203aec7460', '1696ecf15f18b4f5af1c1caa13803b49', '884b4e76bd3be95e27ac1a7e77116cdb', 'dfc5e4f29f191cf4222254d4b8b1c929', '54adc80f2787f2e95b9438a52c8f0968', 'f971bea7b54c776875dfcfde3afef044', 'ba6f1a42a9f0e593eb9a9ed239bae00', 'b711e060295084c346bfec2b53677d69', '87dbd496ecb08c49b1c41097702e030c', '8bde1a153a6ebf02685d3bfe8139b72d', '398bc5eea651703f306cc7bb5015104', 'bd6060dc876c60854253ba20e2fc24dc', 'b1e5e3da66c7fe4c951304f5eef95451', 'ea4ba05c6502de432eaa778326fe247', '849769fa2f9a5b97da104d338f6fcb9b', '6f52118e53900bfdeb65b7528bfcd936', 'fd82e3815265bdf7b881a3fbcb2a5d1', '6bf5370f312aab354c877ca30357b041', '44d651eb1c67bc4ea402b523e100f66c', 'be69555f116bd6fc780285fb8a106fe3', 'a8d501e54354f4e715d96511459478df', 'b17c4339bfe34e7fbdc2e15b60914df4', '6aa9252b942e4018a917795f5ea785dd', 'c1d17c44a366a8ba770d93535a9009e7', '62a3dba698e96b7d37771350ab30cf31', '6f84cac70743c352ddd6a489075a9fae', '35528a7bdb6159ff54e462812583a192', 'c6cfbe73dd89a49bdd14c5cf79f78e66', '17979783aab6d4313c21ea182146587a', '6f479b1a7476e896bfd2cc0a06c50fe7', '41dd6d6e829368c97496fee3904129cf', 'b6fc1662824949fa22c9e75b98e5a5be', '3df216eb21b6feb2d89a671b35f50ea1', '9d791bd58055fa6de08c25825df130e', '65b1507c258a134458d7ffaa9fa43ae', '44054114eca8133bb72b4772c5a6ab38', 'e1184afb6409657c5a7aff5d4c9df3cd', 'fcf3d14f687e1ae06a6a0af9e0d59fb9', 'cca654729b7efbe0c3371d1c85b6e950', 'eace929fa5e7da7b8447e0e2f985d909', 'a5649b8399f1f598128334bcbb0c423a', '9db384a659c76fa4115ee982bc59b3a8', 'fb70c2cd4e2d759c290a406da0b691a2', '3cdfa1e63061f325ed92df3242d4da9', 'dbd12a61985e630c27395f158ae8a814', '5155202d78dda9b750c2de1c4c93023f', '991f5a4c639813c58764ede843f9b9f7', 'dd97f5cae4a1d7e81e5f6d816f4f67a9', 'd10112eeff995352f904a443d9dcdf65', 'bb22918fe71cb229d453c00e85bfdf89', '1da7bacf27220e119f7e1cc5a7b988de', '58275c5877083d32819487bc812c7f32', '311d462b613bce72b260a5efe347d66d', '3df81ec6520954744fa023061ae94385', 'cf19c340dbb317f72b63dd337a733ba2', 'fe93c6a4226611c79f944b1629fcdd3b', 'd67b0a07c5db7da4b50cdbdbc718d45d', 'ecbde0ce054ebbc84742124c0655229a', '54e1e10a0c85a494d775c4b3221fbbcd', 'c56df0f200d178b5b3163291f9cdc873', '8c4b2f76b85369e09ce5e90d47d6059a', '8b9d29e66875363bf90f4b0ce6814046', 'b5d7058e30e12e1b45bf5c11831db48e', 'a6889972d5f38dda6fb7d566ce27d845', 'dfa2664285e6cd59926c5017ff814877', '908d6488f88caac91267749aabfbfcef', 'ec931f67ddeb7614687368b60ec3ed1e', '8cd4d3e9b5b3491b305f64e791b7b805', 'd87a5854cac462002e88ed0a2627a6cb', '4f5d4f669de953eaa225f10d47b57e3f', '1e3a6e24f81c159940dfa5077ce5522d', '1314faef941d4b3eb8631be95f3f8336', '8f1b2df36b1fda21b4d2063dcecb5e1c', '546c2dc8d5a19278860354fd0d9276e1', 'afc666872423d6c832490ae3aa49861d', '2843a32faad74bc369ee5393e36df07', '488306d5e743a502a5d17da20e07d402', '3d81b1e6a5e3ef42cb98563bca521435', 'ea1b989becc9ee0c35c18d682fc6161c', '8a951845dd74f3dc9ae79d093a7a6e0a', '7e8d106a34d54a506574a6fde0d48ac3', 'ec6666c61d07a9019f3f0dcccedfa421', '3c49e3eb029ecfa516c4aa5d36221d54', 'ebbb450af22b264b94ab70c051fe2b16', '876b9130d3d096651f152515c8302bb6', '6c61a4ebe750ebd9b49755789a4e4298', '19a429c11e7aad28c52bbd6d9e05c34f', '6743e3a55c4ba6f5abd7b7e33e2e8cac', '44f1d61e53e167422d28fadbcf3c3921', '28ef27366e006fa25016408be96ba9d3', '25761dc26f069e83ad9ed92cfa8d1e1d', '800ba2db5349d3e17a95745503b69115', '85d229451713de1be586a6161d313432', 'c59901adaeaa3629b177e5d3d850db2', 'b703c240bb919d956ea5b26edbf3e5b6', '2c9305d1faf39be0b452b79f1f9bd4b9', '4a577a34e3fd59cb26fcd83cd1d72fca', '589245edaef4c8c49a9e45e1e6d3ff57', '5527be7f6e83d7bc5275045f0186133c', '22ba9ee1db3b4a2cc00054b3d8bd4183', '94a31515bf83090ac84393eea195e8f4', '57bfc594b7942f4e4e6083baacdd197b', '709f2a68b83af8dc43dc67f38e6c0a93', 'c2fb04918415e486ecbd843c5057473', '44f6dabce1760e8891d20a319937e376', 'b21091607d67a1f715707df6c68ae0bd', '6a7a808f069e296c104fe821f64c94fd', 'f1617552e81a392452e6c9e9fcece2f4', 'b5c88bab0ffe4249d61623169336b818', '78b32519f144bcb7c8b419f450844ffe', 'a9563f8820e430667c1eeca863fded54', '669a158d82b83a2f012c0aba33908ef4', 'e9a1aba910ad970983c0f229f74a959f', 'fe8cf29e6466dc777f07e55a9d93fa0a', '703cdf0a5e2b8dd82629935fe7e440ce', '8129dde93e85579c3a043a84706ef52d', '6a2aeb9b7c2e76be47554fd6a9577ac4', 'cfa86cf491c5a803103846f0d827de71', 'f65728d39d717755abf6de05bd5e6467', 'c3dad8dbbb94a686c9df1453bdb27069', 'afe75e22b7b4bbb3678d95432de0faaa', '30b2f2d5fd02d53d395a6c50cbd21fa5', 'e486bd6ef9a792fc0dd194baff2c06eb', 'f4977f4ef727e4c6699bff873704c24c', 'd8f1bcca40c254ca26b5d2840ca4c076', '98bc0b653b17e3a97f34685746db0e35', 'af966ec85ad50fafe918a32fee22d701', '9f907cb2220b76089754567dbdfe7650', '7a2496f6a359c90db5e74e35956f600', '3476f4487c97d5a611522a65cfecc2d1', '6d5a8db7a5b28551741fdc461daa2e13', '763976b4ba8c8b11e3cb73a9bb9db680', '4fa28108766683f8ac01a0cc98c642a3', '9ae581dda7fd9c3587b5c146ad9972b1', '1a625f6b29281763fe7fbf958c0fde73', '7d85d08a672486c621cca05196febb9f', '3e3420d6c74dfba70ddd0ed77f5d3f0', '6b0d529abd2f49153326f7adca3397fe', '6cd647ba2fb04d2bce27cd755e29ac90', 'd62a5a52928f02f992a96353ba41abd9', '9bbfd556753f98a812d902894a9d6f6d', 'cfb03cfc12cebffc4ec7a45438aba671', '8e06b1a07d11a697525082099fd80413', '515f877608adc68367bf19f40c8ef9ce', '9b274340224b00fb17479b4e28d04ee1', '123edd34c84569df10a8c143f8633a6c', '300c397b605280d1e620544ef88e65d', '49a7bb3d9249b9c217b538782fa2319b', 'd6edc3578f84d3b0a389070ca06312dd', 'c62b3c8229d2ce0907eaa89cd6032186', '32a1fa4fc4ac03f16685a1babad23512', '88b7d05c33c60886bdec7d4644b4084a', 'b7a354ce032c38376715f0c8361d5b98', '52cc0eeb7474a56e8432d598e9755659', '6c92bebe2dabbdeccbc7bdaa4bf9292f', 'db67384106a24098a55501978674916d', 'a35d46a5db1e6ab250928446a116eb49', '53ed3850adb10f3e0fc0163533cfb8b', '1813754406b098996adc6313a89587ba', '4973a9a1e7efe5bdba26b73700a105f9', '2c5c13b488c88a31d4baf69d1a78ff2e', '489cc7c438fe88db54b3fc18fe56a8fc', '65e1255f43832578aeb53f51351d355e', '9d6543bb653ef3f445951259223136de', 'e9cd1a184a4c34f480748df1bd3d2bf6', 'b79d367a1969d39777f22a84f300c00f', 'd016cf91794a9f20f125611a8a217a72', 'e3c99fcaa003ac9d9e75597ce6d22859', '68fcd21308d05b2a005a702c9c78f251', 'cec8f01663bc33ec1a0de5b0e52c6f28', '43bc71c8f419b7b8ceed89e75c11b1be', 'df5159d8114b6ded40bfe990eb8345d8', 'db82c4053b31c47da5ec768e59c6af38', '11e8850f8222665f64247bd1baa13bc5', 'e21fab0d965e89931d48092061edfffb', '9f63af95ad65ca3ebc7d045c28bbefbb', '10f75269324b5ef2a193888682bde4f1', '19e4bdc2c4286c02dc6fdc271ef51faf', '3e4fce4372bee01fa4b4ad83d8104aa', '66c45155acffd2cb9f67f319e3847939', '46b30982dafd0dfc364bab087a509e49', 'adf97e095e3855099577bc3304970832', '60b727e25925cfb9d4c2777dc21be91e', '6b233933badcc90987b4c6a9766a6608', '5bf8f19df716685cac96a509c377e305', 'a0bb186784f31dc4eb81778da2a89bf5', '7596ebe1a26cf3d13984339a1bf3e1aa', '9a37e8df2b4471ce09bd676d07a1f255', '3952e39bffc30a39b6fab12cfad86093', '2261500e4e534ec3dba85039c57ada00', '65eeabd2be9ae3449042bcb1d90c6531', '27522c42d34ecca3051d8f56ba474b99', 'e26fb5f6152f848c1c4ea7c3e51048e8', 'a7d8c7aa1d2b4616d17dc8410de107b5', '746c2b9fcb92fd720e1952f7d97edd9d', '79485f335303b37d59dbba84a72ff425', 'ca973af5436a2700574cd32f88e81ec8', 'b46ce8a60a8947ed3a0f6007ef18d9f7', '2ac71c3a5f206ae9b1503a0634b3f386', 'da9d0114a7e55c26c6562a9d8a53c580', 'dc3afbc3ded5193f5d13aabf4632e9be', 'cc128e1dd81c283b030cc9091b7967ca', 'ef293012a5be2eb55022006a1e179e2e', '45d6db6a92e06e4b86ad85e606925e49', '2a23060c9bfa7248f2fee57d0e49832', 'e69f2861db1d65d05442e1fc8d9fb183', 'c76e96013a6b4b01e2b32027e74e67fc', '237323cee411084ad1ac1ddf35620fbc', '736121fb4e2555eb4116bba54bd0e973', 'e9d9c6eee3bc825aedbe02b010419fed', '23007db346957428739a7bff0dd19773', 'f5441d5f5c89e083605bb4c47c78583', '70d8faab32e84c6d6a36ad55d4b1f2b2', '1d221b8853ea24a9ccaae43a13f5ecfd', '876e4352a96460d0e06900ab0326c503', '6e908d42117899abb82562c18429e6a', '3dad395120fa4e8cc6ba1ddadf35089f', 'b1541c0b349a95fe79344f1c4be0e953', '588d15a012cff0a01e4abbec56cefbcc', 'ff8d3c95014aab6158899a5efecbe0b5', 'f6e6d43ae69d9e9d7db222f12292158c', '4b3bdf1ab771e70f15d699bdaf62b8e6', '45d09db4cea5a2f78f7431dadcc7f4ce', '6e8969e061f87e31ca8af037d934556d', '79c906f4711050b7a5e11b69b58ad21', 'b011e325f400943b7e34167321318e0c', '2676793786ea96e8c5db079590289b29', 'd6b2e46ed4c65df7214e0d714ab54ce2', '3371ca67c4f9e988127ca8091e825d5', '2d7023bdc0ce0350eb646e8d33b3c496', '5dc76228038606193297d8358e6fe98b', '4711536857c12b2c21cfcc84ec1dad2b', 'cb295c128f8654d21ad8fc2351e66d2d', 'a505b4e3468f9753935e630e12d03996', 'b55ea0b09b0bc4aaf2af7ba9e380428f', '87a94fe7e60c1c753731cdc2ed1fbfb8', 'e08bdc4a6991bda3fdfb72703fb7f638', '3edef04f54b81b4653811e1a0f3bba13', '8ef9d9e89c1375fa3afb853be1e0fd01', '709187aa3e9870329fc151918d31335c', 'fd4937fd14397d8d7adda4d90fee3caf', 'd0c9f03b76ce799da9f3d7c43079c28b', '26abe8c233c164feb95f9a0539a3cedc', '45e5a29c310f8446c9879321cf397ccf', '6d2ebee950c3f92cd5edf9731d2d164d', '96d091d11b644026cff14880eb19207b', '599a3b4501d88ed78e48797b9036cffc', 'b13f871afa48f4b0b9252f48b1330e8d', 'da43d6b3cd8f8ace7906fa2031453027', '67ace6e836c8f40756ec834d882ac738', '4395ca88d4c5b26ce07b5a8668228183', '1f0fed351d6a3289cdb94d69647d1ddf', '56d6db353484b742c58fcf670d2f37d9', 'e83d63fb5c8acb7bc67e574b20fb484b', '77a78758c6f1d17ea3653629bd15b094', '92fb3e0ce525cc933767c0b0fa50ac87', '7846262df2f2e759c81e0cf69aea739c', '2d222237a7fbd417aa964ee8749a3065', '48b7c7a2921ff72d87459d07f30d973a', '837a8319893e0bcea294dcd67436c0f7', '9223c9e70f8a3808d43007a0af4c037', '89a29ef715244f28d0990a5ef04f6e45', '1ee49a50de64bc135a97180dff3b5839', '60a3d82dd0798077675ccbfdef622ef4', '72073259caf0ae03e67d7bbb2a252f93', '80127ab1a5040041989fbc343024545d', '2f2eb01141c3609e7055d553d6ad4b90', '73003ebf579e5755c0ec58dd14b4304', '7041d6c0e4c17a0f1026919f68e5fbe1', 'befc3cd0cffad93e19b16d45d6089d3a', '40ff18491c1f3aefa2557eddb2346882', '6c9b052e5e6bd48e6a23e4b2f24df9d3', '26aae4341ae424bfb3a3af34ead81d10', 'aea6b0cfc3e18d36ae45f2d3fb72efe4', 'b3b89ac594b609dda2c64ed61499714f', '5e66c80df9542d3b3250858b1f9e4d0e', 'c1f1b3dc79fd4310f287d749024512f7', 'd17aaa7f644ab6012dde4c5e22afa102', '9675cbdd1ef1a52dcba49333ddc68770', '4b82113936379cea67d71657d794e51d', '41cb79eba7932ae827b4737180f038e8', '694cc3b70e8cb2d2374f06c92017e37d', '3a67941928a66658684880acef197b7a', '2a224f78e2099a8fa1e2052a0fbedf69', 'ad0583fece5cfe395a495623976b7a69', 'b0d880e21480710e742119934011cd13', '333f3299118eb45f5d10005a9dbca905', 'dca5d22795a05be01d3266e58089f59a', '9bedcbe82e801a5613d4c98de6387140', 'a1d01d17beba49168a5c7dc963a356be', 'e6279a546cdf6d7a52839644f611bb4b', 'd28cc6a7e2cea642cf94fa89a80549f7', 'cb3651625d05be99881bcab97b6fe4e3', '3efb375d162c71cd6f6680dddb6cf0f1', 'af2dc83343e637dfab2d3d3715025888', '6a3408bf3d486f32bbe90a2666c9d59e', 'a804eb78c7fe38272b2110129b0a3a2f', '39f16ee5b7c339688a97bc42778ba40', '878cc5d74f7f58775fd8d54e2289a4bc', '849685b489bd5d40d78ce7ce67482830', '5ebce9e33b01e62d005b89317230a0e4', 'f810fd1d7a7c5ebc8adec8ca48a20043', '4531857f0bc9be81710f33fc71c5d1f5', '9c65afefd4c3ba9d0e5aecf5918d760a', 'aa0f13b8427fe170d90d7116114d4c9f', '26c455e4f5fe6451a11906904f34332e', '554df2fa94715e5e35a3c686ae5a80c', 'de361504c6f0892866fceefbd5c04b34', '911cc001dbda4a6e3bf2d35acab40966', '935b3fc1bf64a42fca56a97fdc2d73d4', '448fccfe5aa4bcdb20365f1b7ec0e972', '4d8ddb27a2cf60abeb1dc017dff70a08', '74a97cad05f44c80abcac3af4886f0a8', 'e6485b1dbbe778e2d049fcb8af1e8951', '5115fa761bdcd49e3ffe5f8c5a64a7b1', '2a974ae3b584fce4f9d10549cab85f6a', 'c456e8010563a2241636da562b1a07', '3d8c305b6e5cb98d33a2b8eff62e634a', '438706f44c3d16d17a297669f25aea29', 'e105cd3833143052a5301cdc87fac580', 'a77080b2ccee51d694ef95fbc3f926f4', '8456498904d90b64d15c872cb7494c4b', '40b6c988dc0927cabfb86a750313c21', '4d120301d3880a3c8b374639f190fa40', 'e959fc9ecaf91493c5fef1867b4b82e2', 'f3a0daaa5614906491ae28ca33bc05aa', 'd06c23b9fa2a566327d170d20f5ebe2d', '76b64acb6a72cff28e8f47bd37809509', '3651b3bbe58bd73dcaec3d1f43d501dc', 'fafdddfc46b9d84ddcc9543887cb6837', 'e03d5e6b7f64f0dd50877ad632dcbd53', '1b96441d626007f89993a7a7f5645369', 'd259a7d19ecadcd47994c8ed59b99851', '7b32d83781b6184d3880cdba0ed09a8d', '50570b7aae6e37a7febe9b66f4bbd0d9', '5475c246b8ff33231824dd110ea2af36', 'e79378fda9effd40be8b3c5a7184d9ae', 'bf3d2ae4c0e365df431d3ef134ce2299', '4f21dac1710f82bb09b06109b3393ce1', '50eba7afe1385b65821bce3f695a937a', '65f0a9839915220353a2cc3064cee3be', 'd0dd1c14b063229c124f7a295b5a8840', '1ce971f9dcc01813e0fb50f7eeb2fe1', '7682578510d98627c8a5e630390f3fa9', '60c4352f0ccfc5d8a41eaca7b81dadae', 'c010d03bf485a3acbecfafb026541dc3', 'aa5eb1a1969e21762517aaef8900a91a', '62db986a921f6aa20c1bef01a1628cc0', 'dfde42eab9081f7cae664e39f93c8c8', 'e3c72beb11b49672c5bf26645a615914', 'eb9863669364ec670c8a24fbc3563678', '58e437dbc420a137f748375deb618f7d', '9e8bdac45d65709a623b8daa01f3ea66', 'eec9003ae061e99774fc67dfba461759', '2aa0dbe22350e918bae4c1c38fc79e4a', '4acbad7d312a507cc868d1ee7850b1df', '6f18f391d88a273b9c3858fc568a9e58', '71fa0b6d8f36ca60e2d7a90aa0574593', '3ef3f5ddcc6693a487338fe65d24773c', '5ab6d8cbf1828c120839297f98191e85', 'cee6bf0e4c6b4ef6d6e74b0617e753fc', 'af49419ec78ce3161fa123fe22e702d9', '72dad0e83dbe1f1a1305b3ae58112ee4', 'f3fe14c9a3c12a93e02c7439cbe9d274', '391faa59ef1370cc9265ce5ed604a83c', 'baf2ae7d4f04ee5ad6e856e3dc7e8809', '9765f8df8c481b8c00154db3dc15460a', 'e460a2cf2224e714d439a6915e948b54', '82f9f68f473297863dfd30711cc9e1b', 'ef83155b6c370de43649d8140506371e', '4b4169fd5acc3c1c443c5fc7b087dfdf', 'd1ad64c431aee71b3e8115b523edbba2', '7dcdfb9e1965b9df090fb208232c5428', 'b59719c7abe16b6c552085579fd2f22f', '2555285f9dd53a6e9b453801afdc0a6', '953bd75133ab327b10a35befd0831af9', '7d225eff74bdd2365be0b5de49a92f64', 'd3cedc4a25eebebead24df7eac7d2de7', '110d70bc834d8b2f5358b0894386747c', '188ee9d474a7e911d85f77367e4bd49c', '8010783f0229a25dda78bf561d30ad69', '4e77a41f774625f6c1ef2fa1f5ea34d5', 'd7eada4dabe16eec78ab069ba4b4c69', 'c57504a8ae695e2be8d8daacac91e2f6', 'fb08141d5a548f0a674366a0053deb0b', 'c1f08d34461152c8f52c077d04699a7e', '7256ff18879255a23b4cd6b17a32fa42', 'e85f9f17215c8afb51759b54270427c6', 'e5e23c06cc5f610e11695bd5852281cd', '2f38b4a848e449a4f32bda563972e70', '81e3a975ec3dab4f137c38ceb1b05676', '24b3b754d837f1d655941c8283b97287', 'a7a37d8678136b739494b0a49deb263', 'fbd76c91ff376b068b7de1e6e7561d52', 'f2d0f0c8c579b550b810b846cc6ccb19', '6863ea1658383596b9181ae4912cdf1', 'a4cc69a7f9a3e7141376747164a699e', '96f9957531419816d04b66ef6445bde6', 'f03a6518bcc6f70c959eefc7a1fbbd8d', 'bb8c2734849ab327405d4cc826b24ff0', '9bce5ef087339f0f96ad7b417b2b2684', '46959acb3e1339fd45dea2dd7c2cfe18', '9f8630de7f3f77a045363e7f90d6f92e', '9be6cf36b552600bdb98794781a6d3f9', 'a9c8366f3f38936cf1b917aca9ff650', '15dea056d358c19b64f6357ac9469592', '96cb03fc3d0320ab924199433237e638', '5cdc7610ce9a2f6473c5f96a790ec370', '71d249b710552d6ededed8502b738352', '9c7eaff7cc155340c6b6016f60f64a79', 'b1770445e16b00399f2c19dc42250c59', '1b5fa39a99f774adee4ef02b7580f328', '132bb10fd3facbce5919e0ed74ae01dd', '686d0f57cb3cd9c89bd9d4ff5a3767ba', 'd9e4b20963a5605d9f12b158e61ba06f', '86093ee7f4468b4e3e727021e2fa500a', 'dec0a6d5831e8d7dc5c81ffda706da14', '9e5f43b6c4af65ba6c184047d47605c4', 'faa12f743a4e6b1b003ff1d78736d4dc', 'ab598769f304086828200977af271103', '3ebfc85cd533a7ac5b0defb646e927f7', '9356d7b9442e8a5cc85989912572ac8c', 'c4771f07238c648448dd04408bb28862', '8785f92b1a1f9798a360f9d27a7de1ec', 'ff91e6d4b79fc64072ae273aa3fed77e', 'c44701bc10a43414e3278b47352da8c1', '742c2bf0bfe453c10b49a6791aa8c274', 'cf837aa7f888e1d7db3411329d0a46e3', '2c1747c039b5f2717a7c11fbe131fa18', '44389ca7b3298aa76df47344c58ffadb', '6c8df7cd4aaf7996b33e2eed6d6c54c8', '2e8c194594cdfb381d7764ba31ece2bb', '60d2d1c6f9c043bf1e299c914e77d862', 'ec33d88d276cdb37bc5c4191373a9a43', '9f4bcddd35b910947e8a23e06563a6ff', '2d5088fc55ab370a4c2b7ac4673dbd41', '954268ae1e3400be7cfc19b248345a3e', 'ed64ab2cac6bed71cbcb92e00ac1f7d9', '805fd6e1c02e7319e602fb93a4083cdc', '13a23f370a53a49a53facaa9272759e', 'd8e73f77a58620eb6a1efd8a67987b12', 'a472a59f33218a755ec673b2f393bd3a', 'd72af6704318fec667ec26dc7a18635d', '121819c2283a139ab4c8bd4c2ae1d005', 'ef59326ad70e50282ebbd48868799959', 'f458b70cd6d8a8e902f4e3f4aa9f19ff', 'd171511c4a2c45212608590832ad955b', 'b85da1b8a8df00f29ddd27a20e84fb91', '3f765b6cbc81a76abdb2ea43f41b59f0', '6f0040ab9e60314189360b1ad9a2cf8e', '3fe8b7e32f044e440909ecc8aefb3a9a', 'e47ae7b6fcb2f5e8790ffe9495af09c1', '564a67191ba1424b001ddc3a7d4dae12', 'df2c254d8084f5782aa590b6b609104c', 'bfddbb80aa7c83a342204903aeae6ef3', '117f3cd1bdb61171688123d2875e1c9e', '14e5f142a230e7d5c50563131b702ed3', 'ec6e270ec347fc438131e3f00f05b1f7', 'fa4cda8b17facd7715a01dc2257a4084', '2e92935950e328f21258cf1a890f6db9', 'f7ded387dd08c17b7e4fa84f0e878fea', '13b436eba5b057402e1fc457d5c30701', 'fb53fac3af76f2bc2a25b7f2347284de', '5c2841ffe91e37e4e92c18371013e407', '6fbe5de8584f87e1484a5330a0ecef40', '84531278214057b7636b722acf8038', '3bd1fd7a26c342cd7ae85083038724a', '18f18e589212a17a9546369da71c2974', '69c81032e91f2cfb8a72e73e1cd16e4', '65d901c0f3fd834f82831a9a3bd128ba', 'a7b72c12210978eb8d76a9593e57aeac', '50917481032d006c2241aac5a764b720', '5303fe3cc0c49231c5f37bb41d5430c1', '723ec77aabc63abe63bb09c91d107f19', '37ebfa070a0c8272ec1d8003ca9814ab', 'c8d5d19bd13d3ef7dd3033445a2b2a21', 'a68e08c1372d1a0daf0cc5afbdf67fb8', 'ef63dba3763d3a1bf2083f30d09d1950', '606904b16fbc8f5062015e5dfc2e223b', '40bd52d22b50d4505c25cf9b1ff2780e', '951a8830636ea924196e08a744749103', '8ed8cb11745ebea846fd90368151ae04', '8f5bca44b92074fc94781f0b0143d3fe', '5ebe9049a684fde412aafe35c87db810', 'ee80ad51c7787ece2c860f430b2af559', 'b957fefe4be4ac9d43e75730f196df97', '7ff39aaab614c27ec2caf55b5e2e3168', 'e31229895e6e47d91b252a943245de82', '9668d950a4a92eb16b6ce2e39a4c1fbe', 'f131eae283c5b7e5a658d61f3152d1ff', '3a0d01a73587724d4eebd47f376c7377', 'ee9d4f0e3d7aa04bce593fb8f46dc5f5', '55bbc6ae5e7241d09e0eac7df7402105', '3724d4d3a2114ed7c89bccc6dfd38e83', '4714c0184f84152cd44532c490a6605b', '509a2a0cb339043b66c3644d17b12d1c', 'ea7b4f02fc2dac8af1868df718eab944', 'fbbb2a1d0fa484ff7c3f9c875835ecdd', 'f2a8e47b2eea90ac1812ce19ffaf94ea', '1873f766ba93cbb66cd078daba9786c3', '6d68816d979b96cbbf55cea4f9d212e8', 'ebda8fc3e1008577b3a2c1a9764029db', 'a4912b4c23a525312872575dba9403e6', 'f20b48b948534ef5c3f5b17fef8f106c', 'ccc556415b7845e67454977639df57a8', '460d193d5405984f41bc42f52c4df1e', '51473474894ee962363764b78458fa40', '84fa9e19a574e016d497a1bb497907bb', '3fa2f8c51b8543772764b271867afbf9', '80ba1d0da811ccd3d00abd2d44302137', 'df1451646775cb0682350d3cac0de893', '6f144578c3aa962519ea42085d0b70b8', '8613dc60bc9b07a25eb2fafb31c605ac', 'f428a6691aaa8a400833f70bb0cae31e', 'ac3ea44c5dacdd22fda7f673975d1f71', 'd8be448d0238868d8a3a31f40a4c1733', '8f7147536f0f2b228a21ca123c87c7c2', 'adbe15082af23309c11ddf3e72888c35', '6692881178c864e0cbf42fc5c0e1ed8e', 'd181625d0d5c775d0857820c31a5a7c', '1280de3b163c6729cae0c3057cfcfefa', '908a55ffc8e7141eb18338a32042b673', '6e87cdb975ae51283720bf8a5124a213', '8d834cfb11e09c8152ac0c11286152e8', 'ff9d65cebcbaaeca6379eb6cb73a576c', '3469afeca1000aec0b46c663ff2749ec', 'cbef193d389c3e53d675c003567517d1', 'bb263024c977239d1a1a752c8232ce81', 'e82aa0eae3e4a6c32850a010c91ec110', '7786fb2a2259fba771156805199870fe', '9b1c76767ff939d6e2b4dcb19fe2ae6e', '68084d82e11d8d8303c2f219d0ddfaba', '6773fb56fef1a0f364ee5a3aa611ef88', '1fadbb99bb6cce129ab2bcb1d81a2667', '9d045e04c6a59365aa14e2be871a12e4', '4aa8ced985d225a2d534b73b1da04dc', '8167e552756efd0150e7cf665254e8ac', '3a4325973340a427c5dd0ec8082cd950', '6b77e75b13e30af0911b126c001d2fdd', 'a386eb93fb2bd6c648aaea96ee382423', 'ceb54f617b5416586e79721e7ac2e979', '5eed4d1f1b3cf846b471025f6376ca0b', 'e75fc0da1cd12085df65a32b3d6b447f', 'e976cae6467a24e657c068a723f6f862', '4abfa7140370e2ec62f244dbdab8e633', '4f9026f333daef2f87555570792b70f8', '86b7997bea83618d7a9740fecf1b9367', 'd4663c34e2727a0dcc23442f18640653', '5aca4baaf3a17dc6e202a578b6571e5f', '5d4e87b77077eb428a34d8a6e1221aa0', 'b53eca22bd37e3cf9bd57ed12e2ab93', 'd8c44f8901f880df15fcd6c76e63f629', '2df7df4300342bce2d78ca7e9fe9da01', '7dcff8617780c470e52fca2b8881d5cd', 'd7febe2b4b6bd808e911a7cd0218f535', '93c6327ef2d97b36cf67516d120fcb41', '8e8742511e36171092244b4c560b7f42', 'b6c9d97d1bcba9303ba3c5d3af30100e', 'bf1dcd25e42468821a91c3b2bfd4eaba', '55b8c8039922dd054d1876f62cab341b', 'ae9d467ad93c8bfb67684810b0c31307', '4932714932911009667cae12ab79a285', '8da0bd436291a2e25c3e29219283afb4', '7294350889363d714af79a30636076a', '8072750fb3c4ba37e60927f8556299', '2afd1dee012c5261d44b314dec9cde9b', '93ce57f1c7e0c3297e59404e9f97e0da', 'ca3760b0932bd71ea6209f663f0c0455', '56c948f386af10e852bfccb504a09fae', 'f3f8723bfe768830cad91c758a7599ea', '11178b405bc9b727004ad9a578b42a8d', '7c1fb179d2a81e60764fea3c8c9ce940', '4badd428b4c97dcabb171c90df6e3b4d', 'f7704e90dfc842cc516268b4e634b663', '3a634668e2dabf8032f7f543565111d2', 'a4a5f6f410fe008ac698ef492bd1e96e', 'dd0dd2d6737d909b0cfda8697704c62e', '62a7de341616b7d87918f1a3d94398db', '2a9dd11227d3fdfde1b356adba5c4778', '1ca4e8888ad0f746f351cf2c61fecb32', '1074ea46e0f2d49b18b4d77b9aa8c9b', '7aa760078398ec78f14c82644c8ba021', 'dfd0f20552549bf781a644c5bd50c781', 'f07928272a9e9a47dc7612923eb2d37d', '3893e087b31c3c0ea428b286c6427654', '97ffcc541e1c4de8f59877d8e5e6d89a', 'ad469b64e8f8ffa45122856804aac8d7', '3ac71e831fa42ded4f6cdb86aa804e9e', '869c7002580f26a3e71748fb869213e4', 'f4437e64199a3c166e5178ae67628f55', '14d577b58c7a324b2f2a4c954dc0830a', '3be9de4aa85b7435942c93dbc6e902e1', '987dc9b498255ec546600d5208c730f3', '32aa977d3b49159d95b7aeb1f5d19ac8', 'ddb296f2a125870c9a4601310aa14ccf', '4ae7d353d36cb32d976c0421ca6f51f9', '81955036254da7d9d5fafa3af7d28401', '39464f26c4a6d6b8cb312d888d1a74fd', 'e05e52eb4f6b90b6275bf86aa92a7c6c', 'd6670f0d1e0218c2ee0cfa45bb3478e3', '99008915c70fb64f17842bafc0aed7a8', 'b8d39d156ece3d6568fc37ed6028addd', 'f535c98178dbc06c63efbdc47c24cae9', 'a3fc8c960f8ae10c890e42191fc5a01f', 'bfc332517dfb104dff5beee0f2c4ec18', '92de8f6dca27b7441c50cc5f65333e70', '61c15caf6796c3eb218acac4db87dbb0', '49dc56bd02c1e6eb4962bb34e2993aee', '771e7c4c6bde2d4b0883e131d1743534', '8e5f43a0d2cfe57eded92b8625bef396', '481eb6a04f497cd549968274dd5b6631', '9aa46c8e85e744e0159d97ccc8c8b7e5', '2aff163d85cc979ad67409fad91e700f', '66f3f24361ba9b191ee6e369f400c594', 'ecc242c3785dcfb89f71cafbc2607ead', 'f9794bb537fc0f4164c8f7f9c15054d1', 'd950a6cadcf931aec3ab63bb32ad96c', 'c05033e3b9a3303fe3f17c1cf5dbea8e', 'b225483b72ff12268a8a9da2137b7b80', 'f9dda77f2d82bfe134193bd61f4f070c', '943911ed2fd9a42202717561342f8484', 'c3c8a534c98ca35afdb3fe341e499164', '9cce15a2def8d8dcd871c8dabce8e22c', '1c4c0e12f255501723e73c3e189eda6b', '9a9442eae3147671ef5038738d8e231e', '6b8c1ff68b5e7a5477df2c71d8a3c892', '281dc5bdd9f93d3db423a2ff6919e941', '36889abd27a257cd5372a2075ab96b67', '6edfc8027a63b1b3ebce879107df7024', '3f35f7f23b89b68dfc8d25d21218d276', 'd6608cf93d233ab6165acc38a76ab1b9', '44a54f1bdfc0fa0aa8f03448218262b6', 'a496f618134f699b5c764463f84fa05d', 'a4f54f1a399522d41c5c2a32b9cedf69', '25c36e7365c83385a38a1e815a1dc53f', '41c765eb5cb96472c3fe84302be23588', 'f9a25258dc1fda0b94337d14cb3e2e4f', 'a01010be3c014393bd692356d5cf3016', 'e98d743e539e9685d1e534fd2c446c00', 'd8e87aefb61a7c6139f3aa4b90fc22c5', '615eb5d011be2d3c469bdcf32fda271b', 'e47be622cbb7f5a54d2f479a92b7c980', '93088f6c36e8e14fad34a010e2ed0609', 'c222c5b205fbb531e78c07b9ba9971ab', 'ddbab0e64eeaaadcd9d4aae5ad690d8f', 'b76a921b1fe7da902a7df61723db2127', '6558ea4932c8b59db2f929cf8b499e7c', '1f7eed0fd7fba3a87d421659ab776711', '9a8dc422b9fecf8c98da4cc49398e31f', '189339dfafecb6df1e1084883a69a874', 'f918a92a2248f02726ed1c717ddf1b87', 'e20d1e8fa67162436ff1109d2378a8de', '1365dab099ab9db564613b3ff212ae3b', 'b8dffd143af7c7b4e90aee174b8a7ff7', 'e4620b27c16120de2eed1c23a4bb813e', '9193a45e9af3d8b37e37a87c65e7e4dc', '7a7fd9e2a6d45ecca5268d12defe836e', '1362ac57156d8ba0f8f72671813efbb4', '9ff97715cb0958dc61180018453b529', 'd1fd3091fa4bc8cbd38f4a1b8302af42', '3d12f740af35b3d7cde70ff76cb997c1', '883e71218e0e907fb3823ade8d3a1b24', 'b9156eedde75b05367a895e8d8735047', '8e5ae50ce9b94683db4a8663d3635332', 'a661613a5c70bbf87a69eed269cb86a', '36cd1b54c6b9de6056b86c3f93ed3ce1', '47a99ffd3574db888d478d8657b97af6', 'ab0e7c4bdb0db8a687fdf12cd4085e91', '7b767bce75cb17491d48281ff7d4d4de', 'ad8822a9ffa7ee0d5d076bca79d2b4ba', 'b476c5ce441a91e37eb25a5953f62e86', '28c2b1dad535ce3625a8f02bc0ce2a48', 'd2e567d677d8d862db65c8ff0efd5a26', 'b806d4ef20ee6228cd9bd0f36132a1e1', '8726c72e32fbda388b10f03de3a2c275', '5617514c6c633ff3b4423119d9367a04', '483411c34bb6b0480c90b7b9afd6291', 'c7a7253473499764c273395e74712543', 'b9a594f31b4c964a2a6b8ed902d48e9e', '63d18de4d379b59cc3fe1b5e875ad4db', '18ed49a77c9f5b5a7fa90885013d8c46', '7c01666da4fc2047357744466d5567f3', '4f3a5a625db5d5ea317911ca764947fc', '759df179edd7e3f97ce2140966a850ce', 'f20690a38ca86a26f3ec7b4a9944ff99', '9694ff9c6cbefb77852c17212102435d', '604c0ca36005ba26c60e1bdfd0d6621a', '82396c7dea03f5f4b503861fe44b8281', 'b4b98282125bfc2a430542a705e6a098', 'd6947d83df24e5899836f2d2c926feef', 'b107282babd8fdea6ac962abcf5936b9', 'cbc0e7675ce123b7ca31f127dc7aeff5', '8d2c67b2ec1ebad51138104cde3bea90', '3e8edb0d5c7d13245dc2fce65fabb9fe', 'bb519fc64617bf22af16f7b3997f50d1', '4141893eb63b03de5183d6b1c4af5c00', '33ee40e35282ef559c484d210fb91ea', '123ba6fbea29794df553e5bc2ad04b99', '6ecf2ade363fcd9a908bc1aa8288626e', '2a184c5c85fcd765d17267b6783d5ffe', '1c3b16429403ad91a29483bf6ce98bb9', '62e96cbf7a19131b9311410ca707afd7', 'd9a0af7fe7af36e9880fee2b52593d68', 'fdf2d978d2291fcc75fa5538de249f5a', '2d825467c3d7ebcf5db90183e453c116', '2b483dadcc0c0a3d66369ca37f635840', '6934a8b23d62b7d960d8f33c88fccbfc', 'fa9bea782966cc23d3166bf19b8afcf6', 'f6eac0a8820f68b37a4ed82083dc3c9f', 'e200614594d754ef707d3e4e3613311a', '2f1d0557c4ca61e98bb68051db2ea450', '36e45d7876c11948fb56adb65b52399b', 'c06eac52f78e6172502469a1bc84530d', '8ee59114a41b540bf43c0c204278e0d0', 'df2f37bf2633a7a5117547b17093e214', 'd36045e716790c2d6bffeb126c27bef6', '722b9e87ec239f5efe544593ad089ee8', '8313d23b70cb51a2f43d5fbcaf073703', '9d0d468fea4b88aa253c707977cc172e', '9625f53a82577216ff043b4edaf9328', 'a278bc498b8321057f5b2566955d2491', 'c38e5264da0f13573581bde56ecbcb0c', '7968d3407d6f7d25a9f79583e9f5b1bc', '95d8b6e47d58d6f05f060f6f91e404ef', '164552552aebd86098cf0f4f89488275', '9445387ca10e71a24e6c77dae9fb9b19', '4eccbac79737f3bd6fd5645c0136f547', 'b2806d1fb2a83e0de43b476a997cda8b', '7ff9c9dd8387a98504d9881ffc6c0627', 'a7468e520164eb1ea27b0de7cd86b455', '354edef39dbb728af349b7e7f3c43f9e', '2d5c49a1e4960b2d2191590e88acc3a9', '75a065dbdcdd9af3892f113c920b14c3', '5b4cf8695af0185d987fa0951e111889', '66eabf9f244ccf162fda0500d9d6891a', 'febe00323f1fb395290b84c7c8f94d8d', 'fb9d191da4540b0ad3952242b5377ff5', '570d86557919384fc9482ca96229fbdd', 'aa52cc0f70490062adff238a645b41df', 'dfa86325afc69b1254c6371c3de8365', '7dbf65f57d70a3c79447aee4c28e1606', '223d6ea6cf8d9243bd640ded30954afe', '3947ba8665c22ac4c4af3266d96bd48c', '366ab020848cdd0feafcc29d0c424b25', '28b81ebec8beb9c2fdbd460ac2fcccaa', 'c4b461cb666e147a2e4372dbad5921c7', '36d459a1e445d0da7be71fc691e78959', '6bc24329212222fed1ab2038e119b58d', '8b200a32f326c16919fdd4b94900b29e', 'd4f3c7fca5a5df8cafeb3496e6d28815', '1a19cf00b7180520d43319b5ccdbd381', '939ea937ff108b33e18483b631943738', '85c72785bed6fd329b7b436eb2ba8536', '3ca25a71e9d4d6085d5d1d61c8450f09', 'f7dbb84a737b1f7537dfd78df203620a', '588c6b6f2976e618bfba46ced2cbd541', 'e85dc310e2c38af5238b1261d0ca722e', '21e30e7648721d535af63b81191acbb1', '8399ef25bb5a60cf8b436102771c73a2', 'dfbe671e16233b3775cf8108edec9e28', '8838c85da9f6aae750109c8be81511f5', '8bbaf8237695dffe77a19e05d1bdc10c', '958af926faa568cebe5287a8f05627e5', 'b4aa88940f8e5aaf55dd1000c1794bef', 'c54ddea72ebde068ba6933ddc5b78671', 'b99744e7ea31c3cb5b52ef2536c7c5a2', 'd5a1ae3a9594658da66ca034e9faebae', 'e28bd3e46a28ddc310bf598b817b88a5', '1b4a9f27a4ca5bb101db4248de3800b9', '24750381eecbb8b34f848ee36c282201', 'e7908594e2fe49add7c9a4631b7f12d4', '4802abb43971fe8c984e09df7aeefbd0', '2e6bcee6023b20beddadb2035ea5adc0', '421df793f9b76bebb699e6f070332aca', 'fc2d964e60718790690e9448db99e9e7', '4712f8b8f9db254532f4f308e7a43549', '29070c79bd6aeb0b733d32775cf66fb8', '36ef73a7e319bc2394cc2c0faa7e5661', 'd4f4bc553db4ce39c1a4adaaa2766c06', 'e70c7adb64c71d62b7cf1dd7373d6353', '9c9f24657d26c6dd1d90545978709afa', '98fcc80531981ab2df9d76c865499d46', 'de0371c77bcc959d4978415e59b2c530', '11181e35d5f9ca3dea7a8a277bbc73e', '8b3f51bc5f1d243e7cdb96592bcaaa30', 'e12b295980d5c21d503e93ee51ab6043', 'f20583e94ac87f658c973c3ec36a993b', '9095a8e1a4b26518cadc8cb4ab003e3c', 'c2bbc9984f842d05e193ba8039193d75', '643a82d5f3fe0168c53214b8e19efec3', 'd2f670b2d6dece0df85a553cbe6a81d9', '9a50e74b9f805526aaaf08631bb2af77', '9c0cb82753cbe9f9268d058f2ea240', 'e6a54d3ae8440a21c726bdb66350133e', '5862f6bf0a59e098a1572e264f5c0433', '8a2e4119a9db18e9ffa3b7f58d8c0254', 'bcaa5afadfb03f357db1abda5f5ea5ff', '696d3526e67b12b1969cbc35d606271f', '2fb083b98a09460f7d2c5531806ee92d', '3aca68dfccecc70810dcfe0edae6d64c', '67e72ec0cd15faa247a927c95deadf3f', 'a8a5430e65acafc9d826f828f8014d52', '27f149b70c91292ded81d1cc9fbd2fa5', '8de6680f63585ef5b69e6a8bdbbb2eef', 'a0a4b029e7dfb95a9e819a61fbe87fec', '9d627d1c227c18198aa7430528f6121d', '20209383d91ae6c099ba45cc666ed9af', '3d099d395ee39fdd4e620aa1a420b8f7', '2000b0b78a20092465e09b21de044b03', 'bd77c45cdf040f530430ff8cb8c18ae1', 'd204f942003efee2d7f49d376d2ddbe', 'd23c84f607094f5f4862e44f8ba4919a', '5db739060172b8f35a84393f0cf4deaf', '79f7d128dbea3b82891e727b8fd6de8a', 'a54db579eb4c686d07018d902877bd75', 'c5845826bdf2537adc420aa9d665f4eb', '49a83c1dd9e91914da614be40ca472dc', '7bd43f56227455183a64e116692939dd', '3ff707e92609a8bb4af56384b6060554', 'f2e6551d9da371bc603b1ec957c2d0a7', '224341ff0301a54d40792902ec9f4e64', '6cbe938cd58554b0eed7a75841a9d8aa', '10adebacc07508e4e5e921d1ea6fa3b5', '5ab5aa53dbba4f2402d88fadb2cb7791', '1c6aaf8192593af0b2620bd6ce978cef', '18b46cea3a850b92bfb8a2870020628f', '5b7e79335b3c7d8879a872fe501998c2', 'ee6e50973c503830ce4ff76b0dc3f6da', '33abd67377a2dac682b2635bd600f47e', '8e5f01ea5df568b629cee2a92a01d6c5', 'cc13372a8f86cf1ae572ffa2fd5d916a', '5fb8b8c65defda4f7efa32e0cff3567', 'a16445e368d2597b0ed3d1a519714dda', '9a142adee232a3525b851b9dd603a76e', '4603b3d9ef82ae62262767f78fc15c4e', '16be738df652bdf797232d36de7f7870', '6cc3928af6e14344a691d04a11203646', '690f9ab988633b96d4ee9dcb5316292b', '2bf40fa51e75eed375c4b8c3e51bcc91', 'fb789a442af2f13e1b46d3420d066499', '1ef9ca59bfc836b11b726a6535ffb7d1', '1f29c7e8aa97467ff63456d835af1d63', '3843ac448579c5d7ce73371592d58d69', '854d30ec22ee6ebaf632e3e9b1946c22', '5849edbc23ee81353911f951e0903ea', '83dc07b6d05690c2e66ab25e0f38d4ea', 'b6848510dc7f5831ffdee518e4c0d892', '9dded0de692880f102a9803cd54f661a', 'd82af32b53d3c732ba2283d715e556c8', 'd6f1adb2a9ece64f80c4540ceb2855c0', '551ace7bf12e9f5abadc8eba16cf5d4a', '93a885b90ef85be27a31eea3e773c019', '8282dfd58b041fd510ffbb756f7a3667', '4735a9056b04076fdf2ff40838e1c19d', 'f6dd319e0623963e872b8d4241091a81', '9887d62743459eb9a7316f154a99d17f', '408a89b259d31c32f8257c186dea11a7', 'f6fb23a555ffe6d9e1ba01f593a280f0', 'b61ace2dc34e760b99873a9d0d7088de', '41ce1604176ca657edc16289be0ad399', '7596d8f8b1198fc3eb9a5b6e984bfd1a', 'cf297fd84d4130e84d94e9482c36da2', 'f90ea9f339ff0053c2828ce4d162cf47', '4c1ae458b88c248fbad195f11bebd0ba', 'd1d4dddcf7a465ac87a2d97116ceb091', 'e8c62d518904eceb2f24303d4a0e485c', 'c2f415b562433b3d05884a2afd43090e', '505b37078d17e53dc12b206c6115163c', '44384868c97769fadd3f25da0809d5fc', '428e2177b1641e5804d3dd3d61d391f8', 'ea4f395d476567c2f348491797eae3b7', 'c0ef585283994f32d98f0734b2a84278', '1bf54229ef4f4096e701ead48cb731fb', '92c9d30468a5b9a39f9e5d5535f1bd70', '6bba5b2bb80aae30804c5af03a81462d', '9b1f20cff5dd4ae5e018cd94a6a17f5', '55984b47889d631ec94d77b300ced51f', 'ead69c4fd07cf925bfe43f9dc269270b', 'e15ff8259c2b18778594e47a4bce375a', 'fd60f0dca3b058ff63225c9d24bda884', '5c2d8ecd00d2521b04c0344006f82c5', '53d63e534be68007e2d43eb71925d664', '4e105007715fba2a2ee1f669d70d78df', 'cfbcd53bd171776384b17e69f086eae8', '50caf5962b793159bf2c41824c04e387', '6e35aa1ce5cd96aa4eaa2dbd44a7cce2', '9e740f8a19e698807a119db24262848e', 'd575d88e7b6a48988729491c39f0adab', 'e561387226ee7260da0d0e7e661ae90c', 'b778474b6f7c1e494b8c588a7ba424c0', 'b57c7d2d4726305d6c5d4f781e456b5', '337493831ca980b59bb5047f96228032', 'ceada5d1ffe85dd9893d3c9ec9c0360d', '94bd8be94ac091626e0d39d2f70767d', '763ef1d51a3612722a9a0b4f47d86be4', '56c494ae0d434589b77d71ee40996189', '2fef5bf5a2934734f5dd3263412e3530', '5d6442fb4f2a1182c8f0d69e47bafbcf', '9643086416bcc1d198a95b5737c5e619', 'd0b8e77bc795ce6a481eb17ee39ac413', 'ff72e0d4ebbe14595f69b5f27b30a4e1', '7bcd5d07f0b2d37d98927b3e3b428a16', '1d1f43a0719418d574ef54a82d5ddcb3', 'e9e14835049e361d09add1554726ba2c', 'ffc349a1e4c9a3b37fd8798e82d703a2', 'c24feb7a83042b8c940be5c6f105b57', '517a369dc7d6cd105a3f3e04cc96b86', '5670382c08f9ff9ec7581391f726cabd', 'ec1b92feb75e1b15b19b879a088948f0', '384eb002aa8b81f877a610e39bc32b50', '231c4b7aadaeb2b94c398958a69ebb3f', 'ea3ce82c49557d041b5616e17ce40c6c', 'c928deca8f8379c96935d3449412f1be', '1905ad245a4f6c7f720ab80d7334cb59', '285e156aca8417147454e43318da9a5b', 'ab3af6f88d747e84a939084f890193dc', 'fab22f02da88a2c13219dd43f2e46648', '4d0480a3857913d90186f79b04c325c8', '251736d4e09276d3d9f994827470418e', 'f2d66df5311c0d0eaa526a7b5cd2533c', '7db9f55280d6bce9726d5c2c588e02ac', '410c4ab65d51e619f34651217a3030c6', '8deb0c736ea438a454023419c97c712d', 'f2f6a1c7dddf5c7e92018fce880992e6', '9ac191fb2d2c53d8e2e331a75b92af83', '6619c1d0c76b8732e2a2ec15ebfd7d16', '9fe472105b2092cc0be9167e9d579a93', 'a5881091a85c402a501dd7c7131d9326', 'e9142669d851267ef697c81addca1edd', '30800dce95ab3e849dc1d75f97c75935', 'f623aca885a23b4724e7f8875fd039f2', 'e8229a17310fd284692c3ad827c3ae1f', '6eeb5947df5932ca8576a45101f75dd3', '5ad2d39dfa5e038b44fc3918fe99971f', '505da57fd58bb00c6a164789c9658c58', '34993970b1a6b1deaa3393c94fb84d99', '9306eea7a312848be67094c66fcce534', '19c6b7d4c6b625e997a18fd0e1c5e922', 'a1eadd5f39409c00b806bd144f124729', '2327e9f918d9800d27db78f6c7e229c6', 'b6b6692e39abac485181b70fbbcdf365', '8b86a343251a9c7a33fa1a001f273b92', '4e32dd2b8adf9a5a5425ed81fa4dd5f9', 'cabefdc06b2df0bc802d448773e1c47b', 'b0b9a6f361c60971c2fcdc9a230664ae', 'f47ee8d67bea03af81bc67488c878195', 'dc5bfb4810fc908a1a7c73dac30ec689', 'b141c2b4878de0837e4c3bb85cefe3c9', 'ab2da301f270694c2c486bf6c557de79', 'ac2a72878f6b8d22a4f4ee515e881fd7', '273ab17e931b37415aaf18b850f34def', '40350dfa5daa55dbf6fb2aab45749272', '8d000f3ccb80ee2d035a20e7bcdff9a8', 'd078bd5bc9092e5a4e55ef4cdd52f22c', 'e9c7d6b3bf2ca0351f5c52610ceb9ecb', '1fa255c9c2d230f14128a18871e93778', 'b1cc1bb22c37f4303401f6b6ba25a6dd', '6bec44964dbe8218575b6424b7d90aa9', '4f7ea50056378576a43a2951fa0d1199', 'fb6d5758e81f993abfbb0328fe35ecb2', 'd75fdc24f69ce9dc15306e511c718a41', '18fdbfa57e0e96f9b5cf654cb2a442c7', 'a31843aef196e980a0001ccdd4dbd61c', '96264a2cd5d900ec4eb58031db2f5a19', '332f36b14ebad2b1c97a7e3273c54291', '9d45dc101bd9ca0014166756dca679f2', 'd1359925646ec4b61db24ce29d13f167', 'dab278e93cb5fb337532a47a13988a53', 'a5561e7a1a680a08fd2862b4252343f6', '29d2ba5fb894ea32389a82c91ce6ba2', 'd7ade62fa79c08ba8af6e899d6c36764', '30dc97675343b2813a86da8f0a466d5b', 'b8238491c31e6b0bab7c240f44b57b68', 'adc6812b174b391b64b7bc694056d3e3', '34caafb7caff10ee36f383478cebea2', 'e857d457d9c8cb0d696b81925be89166', 'c6217ff85a6bb67e497883f8b86c4470', '84a4c311516931f8db18954564e91682', 'ba2ef138b8f670fde63edcccc43bee58', '6fd75e33bc650f92f3d319d46263bc01', 'b1467e8e2cd1d3f9ea364fdf64bb9027', '5a81cf7b8e39dfde3d0b10d511a1796e', '77f7836df94c8884558cfa77bb07728e', 'ee8911779ae8b077b0e95b7de45d0505', '716a1d4d8e040774666d00fd64edc81c', 'eed911e9991eb73496a3c1384ff0e23d', '7645b3ede4cfd4375631b0c1a4e69c5', 'e8853a823d2fd53aad4a7fc3074bbb6', '74b2920a2c7bd8954d33cdf710274f5b', '782c58481747e34bac72c0de6d36bf81', '9d9002cb5466ad81c9460a1c890ac395', '41ef6752505e9758c65390064b3ced95', '22ecb27eb2b31de62dbfa3acf165890e', 'e24bfcc7901e5342625bbdc73aac6e', 'bb5ba425624405018e49cb1c266dcaf', 'd1981f3241495145896e4c0196844dbd', '1cefef2dc414e00578a7303d1d023a0f', 'bf72cf86ba6daf8c56f4fc923441ed62', 'f751907c877d77adfd427681b278d10f', '91a1d638943bcd24bb6c3ce9b17feed3', '3106203b5778cceb9923dfbf229f04c3', '8f35898b59fa798cd3908ed44d65f1e4', '8de2d798f39945d58d4a8a51ce00077b', '740f1ca9bf6efa60013e632c143c8469', '3e2a2c4fa91ac23baff1ffdac9468cdd', '950d8aed4cd75133cd6436461d5b9845', '96080171b6828e57336ba2b1885963f4', '41542ad0040a456cfa5a59a5e12cad34', '1202efa49592417773cf0e868cbdaf1a', '73ff1931656bf3f272ee7e47f2da33f', 'f36809bbb9523c493ab52311c1998db', '46a8c844a18194b0615f7642ef2f16cb', '811078a40a0f331f366cda814dd967dd', 'a2299077a1ef6defac46a077864ec887', 'ac9585759072f7fef626646890d531f0', '66c364bbd83739b233e805fb4877dfd3', 'ce74e84653e35ebbd3eb2828b550a547', 'f3ee463bed72abba5fb04178a6ed2546', 'c6d29ed8e985be0a5c1d6d541b40c96b', 'd0c41987e4159ee7f91fcef2b5331c80', '6e8e70b1ffb8357c22475b968321c9b1', '3839a728a8ac1b1ab981efa63e84559a', 'b1504c3f931dc8479e3e47b232806419', '95e1d6a31b334800a64afd305c6864e3', '7e6cc35865d196bd9df684091da0bba9', 'e2dc259386a5196f8ee8a4a177d58cd4', 'a18c0d0cc09d384776e4aa9d43fe56f1', 'b7c34a0e908e54bd163410968abc86af', 'e0fe543bf17b8ef64ea81b2a333d62e9', '638f15acf5d4b469b4d0219dc1515e97', '5a61761418a8db2ccdff2b2aacc3a64e', '742e996d7da6bfb83170c262168d0510', '1a52b9201de1afffd8a79d343df35ada', '888f28f82cb23e58652104c61edbdee7', '175d75154227242958ac5a09d24634b0', '2a3d68afedadb875bc2d20222ff3e80c', 'fd87e1b72305812a010235a367f3f3f8', '3f00aee9a9b432ae7411f84b3c9a8ea1', 'a124fe50b9d87e6411857c5bcebf9ea', '56e910d5e7913c48cf87a2574d1a8d1e', '66b379da4b726003f2c9fb8fb9fe0311', 'd3317c35e044ee39822c3b780f4366f7', '3b3d9d217cc6c186481470992f698f6', 'a55d285f0233c85a1940ab2cc568574c', 'e2f8796000619e8cd9e091a2cc5b8f67', 'bc07f0a592b6ffd6fb18833a1e5beb98', '462ee1d71924122bdf8a531baa798287', '158180a898f72045fc7d17b027ce7c36', 'f96822e5909fcc2c02caae0fdaedfca7', '29f531db0df7c8bebe0fc32592d9e356', 'bc31cce68ddd538f9a42799becc22f81', 'ea1cf2a6fe33c64885d7a72a6e60c1a', 'd827709c4c79efd68357a4859564f7d9', '999107456be004f6f52539924b2a3667', '7dd543ed438493d5d83388b1f6d3c486', 'e56dfaf4db910a9c20c10b0b0db41ae7', '9d7c72c31f373786980e1da75e9733fa', 'f8935b9cf9a47a589e4e61fa49eeaab5', '7e506246c98758eb6dbdbfc4537fc6b2', '1928bcd0fa9fdca697fdb233831c6fe', '51aaae27b563154fb0e3fb20e874f221', '87483c7bbfb84744bed74199f986d9d0', '1e98563b61f656bdd20c026afc7d42be', '9e5544cc6d42a9b952383238f60af826', '535d4456fe483e4494075eff37c13aa2', 'fc30e8163acb70432f4d8b09df5c1b45', 'c304e6d7926638403f58b78511e5bd36', '49a7829a8008bc23393718e3677d4be2', 'cae6b26c84c1d6c1a8ad5d4e512e17a4', '84775b9c79bc76e8fce185422e056895', 'b91efc94c91ad3f882a612ae2682af17', '87d5f326a52fa3b416b57d6cfb665898', '84327a1ef78073417ba077f96de91922', 'f35ca7f1d1e2e8fa38b6b091ca91b77b', '5676cd3169e05a9c9db74d923ed8f5e8', 'e0877a144264091b9e9b3d16f2457884', 'aeb6a63285eada40cc5c26cc714794d', '72f1e98eb89e5a53fd1b629d528348e7', '95ec6a7bcf6ff29d1754fffa04585101', 'c0fa91662b3c3a014136e483c5041dda', 'caeb7e72dcedf3b594e229910ca02fbd', 'ef0975616c2e488b8ae49dcacccbedac', '205e287c9ef3ce88bef68c27c7121d3d', '5a0b41c1260a3725de680070b859e131', 'fa0d4331d8a79340d0720556f04dcc79', 'ac7b19d04760fe46783bf7edfadaa8c', 'eb76ed8d8ef9459701e3b0153edb0109', 'b25057d3bc8238919c074c1e173d266d', 'a6ed628c9ea961351f50b7bad19ac15d', '8657a575ac4fe0e8765d5b5f0b9ddbe5', '989e9e26c1e10b534d4236ccc99ff0f8', '5f2a1b80dfc890965384d9847cf46d4c', 'c81b65ce26f97533e2dbaa6ed377a3', '7e99a1b3b3c7d54cf1bd91a97b6fa8fb', '16a32eeb61e9394719d7fa1feb10c4fa', 'aa667e6be2e0bf01ecf02ca57603bee3', 'cf9129787077cbe195a390896f59f257', '4950ba279ed95bc863b1a51bfd726847', '73873ae2fbf82446d90115b8d902fbea', '8183ff7447a030c063233d0882ffe219', '8ead4080b254a34384825329f658c337', '37c7283e00a0a52a445576af26347837', 'ed73d35ef7d295a614f9ad35dc9a37d2', '273e820c9af6c9fa933df301b51500d1', '836b68ca068a8fd2060dceb98cde1ac0', '766c972d1f04f21169798dc623c610c3', 'ecfa46a8e0aacc862332d4edc8065b43', '68b4482cfe047d6073c841f062684497', 'fc2a6da776b5a5abe909f39f64448efa', '498fd477d695a868cc440aa6da2ab2c', '16f26d25074269fdcd4fe4acc0d6cb88', '5ecc37c224bfd1a60aa092e529123665', '419e5adf71c70984e944eb071289fdc6', '8bb0f57015b82f0ca60bd07dfd67a3f9', 'cdb1ac0d64e5f05b490f3356aaf65b5c', '51f70b992baf2b9b484e5e8bb5dd349c', '93c69f35395dc77be1cb465a3c39cab9', 'ddc33135d1654713faa08736d29fd280', '4f2c42e7f7266b0a18bfe513d70191', '1e9ef121a2ad8cdb90f0082d01e7c565', '7b8e315e12b46c2f3eed44059b04b09d', '520b1bd9c293644f7f8fbf8ec95e52ce', 'a44dc279880378a895a6cbaabf927a5', '571467b2067811d455f48a7de278615', 'b0e7fd4b16b19232a3367524a91596ed', '9342f7d9508a067d2b871879efb28257', '411aa32e0a3a35711ee11d395af2c185', '4d04cd62a711c5a8229659b5b505e634', '230ffa1893282959d44aa15d5fadefcb', 'dabd75890f78ea0053a90797613178d9', 'c78ef4e8e4b114f8883e6e112519e7f0', 'e1ec6ac163cc6e46c593d672498bbc81', 'ad794306735c2ff99bbe615cbbf104bb', 'de1cf44c4394135346e6a7e5b8690ccb', '5e021618f59ac80b228b9548ceeb0226', '2ec29554102da8e46427c2f783c29926', '705b8c7981723fff41518fe66b6db95a', 'db9f28549b1d622466f922b518db4d1b', '1eb3aa12caf70ae313bb38f3b95d0c9d', 'd7aa558cecf407cf75a0a6958da15b96', '22d4568344e014a64baa40f33f0bec31', '10b8bb142fa960fabdae4028798b6cba', '13052ee01882a88571949862ef493898', '693c663a9590ba042f227457c08d5781', 'b2090a6b6f2ad25d058d081825403b85', '2b552419d4f00f25bd233bf8b6f25ec5', '47bfe02555f57b03093fec3f2d6dc366', '282529482379a5c6eedce4495d7f3fb0', 'c4f175f7f1f07bde476b5b1bfb35ee11', '963e3995840bfaab4b818f90f60e4c72', 'b45b74a9a24bb30a153ef5b334a8423c', 'b7a721abf85d740d3b1f7cb20d0ad4db', 'da94b7bb83ec29f3c42708f7dc8c551f', 'a8f1d4f39aa390925f562f3c1a89d8d8', '2480d1492d6e6e94298a8f80d4106300', '280723723dc15fe2d8d1b5a63e31e5c8', '3e7dcffdf8d9bb9715a579de79abbb4d', 'a492362a992e1ca89ce6c8861e9e1556', '94ec40fdf1e9c2c34fb33ef2dd766954', 'ca5c2ee3b1f5768157041cb1e6fb2057', 'de7ccbcfed8ab0db0f08cbcad5d92313', '1b5f7aa3a90e86eecaf50e5a98f46b98', 'cb5b2c900e76464dd1c2313cca73d566', 'ad2578a02b897d97ee5b421e5d91aabf', '73a96894eb637e7cb9aa620a2f9d61fb', '5a848105d4521bf16f6295e4eef4e69', 'b7b9f87ed2a186e9da1016ad819a4151', '8e6e0521f702c2c9508b2239c5971b8a', 'de05b5671c579cd0b0ebbed1c63f62d8', '58205e7e09d330aebb99f14ce0b9184c', 'c19544d28e2849099ac81a2950cb230', '3af3059d6be87e127f862636fb9d6490', '72f69fb04a8a51a053467ef9580a8030', 'daf72e7eb46494799c19a03e93454a70', 'c347863ea99186ed34ee964ae518941a', 'c0f47894365e0de66f9d2daf106c990b', 'd528f93398e2882c3b4691cdb432e14e', '22d469770308de45fafd1446318c2f6', 'fe7a97f61086a63b7923ad2e718a6dc4', '9d81612a70e27e74c60392fc2cd71207', 'bab2b693488a2c70de92fb153eb04d23', '2ce1ae0523fa05bd54456aee8ecd7897', 'd7260aed3e2097eb2faa711450fe6b8f', 'cd08833a43544126a8b3213df8e8dbd1', '4c36ffa387f78b34fb25a86b2c60a431', '92ec89f912fdb081a8af53d435c5d55c', '296982eff1715ccc51e2e79630c5701a', 'b2b8f11be13798b9d2f2191907468724', 'ac46daad9bf2371fbd989fe4760721c2', '1e34b926faf3216b07867a8d98ead3a8', '373ecd007289fbd7b42d8040639a918d', 'e7861c5412ea87eca4d6c120557b7e4e', '7f60b26d6f89e7f525d6c49fd29bf9e0', '92ed919fcb1b8ef943862877fe48695d', 'ebfaaf8c74ea9852c0b9971693c41e2f', 'dd62d58da4a59190a4b2af23a54b632', '237aeab17c36db8caf90351893287db5', '48f1f54d6b77f315f2eda8b26c72dcc0', '70918afdd47dc1b390320c50bc3d4ee9', 'eb8953887fc270eac77d2019819c7bc2', 'fb2a46692051c22e932e30eb739fa40d', '17387be259e26f19c718094597df84b8', '36f46347bd3cbd53d4535574a316c9b8', 'ad30ac48952941c086864a12aa5bfc62', 'd017b3ae2eb3155484f058e4517bd8cd', 'f67ad1a585ec987a6d0dfb7fe7113505', 'c1af02431a4f22ec63a6e2125af6f0cb', 'f383054645cd45c01a0a9fbebab394df', '7fe7ce48dd7b04b506c58cd876945a8c', '55771b5d1afe2366b292b4f6baed3c48', '9657f1ead561a5d1f57c728f4d98d6ec', 'aaab38dd225777c3536b5a95dfeccc7a', 'b1ad2f7eea718d4473672f93a72a3098', '854dd2af328428b9105d6a310deb331e', '636a26012984c13e0d9f60073cc4656b', '17794b989eb5d1e1eedcabb7dfc83ea3', '9881d3f4a6098c454fc75640ad635566', '60e0b0786d5bc45885674a43a2f8b1fa', '7f2a72b943548c43bd66bf24bdfdb2d6', '6d76a5f4ae06377c0869827df8b0ec46', 'ca3df92ea429b9664cc0c2dda9739235', 'efb47ba3a0b0a35fcb24d989c7b1f8b', '8cf7060832258c8095a8e5e16889b3c', '7384e9fa5a63f36565be8fe0c27e70b7', '544863d7c3c62a5c2bead11d113c9187', 'fcd3945a134b3b30cd194ecab6337305', 'ea6736db67f081cb6da1e1d426687651', 'b15147b8b7a3f1e92c2e5b23c70ac34b', '62bc7ff37f42eff1f9433b1ccc47dc4d', '2da2e1a15dbc7cb3819440e20d749b02', 'afe0d690efc297724dc6f11ae5f4d60b', '4d47e060485b06cfcafffcb89d0721', 'b380ef199e12092111adf1c2513dd5b7', '325b81c9862a5e04db1a87ee852f96d4', 'ec973275faea6fc44955e4648e48367', '9f0c83ee0f002f6058a06aa3576c4e5e', '4ce9d1d61f32612bb6b578b08d016c25', '12971c07ee25f10f10f4879665b7fb3f', 'b38a1ef5b552451d3ff1427f794646bf', '8ba6b9c0fae4557ef6dee93de2ac32c0', 'b440f5886e5fd29a20a3ea13c52dcd3a', '6721cdb7032b115a55ecf15ed17e010d', 'ff39c8e5ac99305a27c1134884b16ada', 'a6dce38fafa8f76e90b0811dcc30afce', 'df9b2da5c961ce47f99383429fd3218c', '6deb315c0758a99326b3442ce14bc259', '92d147b4b1e7e1cbded0722d80a04821', '8bee9464d6a20e8d6a4d03031c4cc325', 'e0668a09c41596b1a863c6e28a616008', 'f643118a59744c47b2e1965fea3b7dc7', '1e27e38d269ad28ba4235d3b340d5a17', '6aa1ebb820290840fa1de7cb23ca1631', 'b227126bb26393f4dd11a912d957a848', '4f03a75c5dc2d041fe9ea92d78e6fd4e', 'af9b0ab6af545d1e9fb1070cc9c6c105', 'dbd86e5f172c67f7a405ba65cd523e13', 'b21d87083cec3eb6d50848fac84b1ac3', '68018a4a2aa8bf5d980a93275af77ae9', 'b31bd310838f0d34e95f53ff05c2df9c', '9aefa7421bfbe162f6bf924d1937ca8a', 'f8d0a802e7383391ee88ec296ce0c8eb', '1fa334c9ac5785dc86a23ded2edd60f8', 'f684f8d98aeea2ede2304d2073ba26a5', 'c39018396d924c25ebf8c59fa8a8ce14', 'b7809a54f4e836215d2c3025b7d1b386', 'd3cf7e006b89691e173d26a3bb0d3047', 'bf67b2331b348faaa88d88888e8496a6', '999737aa5ed70b5f8f3ec9f872ff3e59', '1575fbaefda30e5b4eb3f3575ec0c16', '36a5a6f13632a5522cf50c72b745c6ac', 'b0346935760600dbf8cac9c26adb2960', '2d2df5ef5b74bdd66b80b7ec6aedfc37', 'cf9be2f586e2dbfb083e9e62d75b7eb8', 'dd720d39f67ef8c5ba8e2a01fc1d1d73', '79ab875b1f11aaee978c8d3508ec84a9', 'c2cb3fe7a56391b79945e34dad99ab75', '144284dd77b69535d540df4ae82d525d', '1ed033554853d72d60c78385311e7101', 'dab28df2d25ccb8c3668059b01b03a0', '6b49f28fda4585beddc558a832c0b960', '3f951fa8e1340f6ed863ae78298bd1ab', 'a764d5a1a107bc1a76a106624880a553', '36c1e608a59e1d04a1b6dcd452238d85', 'feda424edc7c191726d1098d34357227', '26548c2854e02169a11a1548ae3de3ff', '38d0d2d680104cf751288742cb3f972f', '70231e27d539fae46e705a45b9211e56', '6690cc88e800d58e83070377a05bd593', 'dfbe25ef035fd06f56227f8c89c26fb1', '2c1729860df3f892b101b96bbf6c530c', '19c02d405d3fc44883482fe3b1ce6584', 'a53afc08c0225cbe99048908965b3db4', 'e2a295bf6f40afd2e6be583949fae006', '48185885073828455f28e3bac6fce016', '7fd945221f3a712a1223810e2b1ddc10', '3afe9db859e8a12c38e60a2b48a45fd6', 'a1756a7c5158a0d97467b058f2856e5b', '17b052e853ae4a001adc8f5f717ccc63', '3b4e2bb19c0f7d098243cbaa1b5bea01', 'a123ed96bb58ff20342e46258a479304', '1ac7a7acc78338e721e8f43268402587', '34daf1bef5be039e43d8a96607047638', 'c195bfc2c2c3c6bf43efd43e127b4722', '701dcbf41d0b86882822e2974840cdcd', '474d70ce1a9c73d6b9d8ee5c3c9c1a4e', '7a4ad79ce651d6fd4089207ac6bad6b3', 'ea32efdf89833090d1449ffefcd6e793', 'c8f882deb769e6f9c45681915f0fb38e', '9056b4bbdbadb3122d3624e84a9ca992', '4655e8db3358732f43201600f62967ca', 'bcf471a8f9b4391c7d03379b2ae24739', '9ff5a0bba7cc0beb211c7486b981b41d', '5faa05abfc367eab971fa6b139909479', '3ffe661f347984c1386f56a0b01d3bb9', '19cab4ad9811430d11bcaf29b669d92a', '3948b3e4d5522317f2675c6e8c5d3543', '941542496ce72404ec1d6aa0b5cbe99e', '3bbc0f607805340d11467aff607c98ec', 'f19d058da02039aedc945427cb142ae6', 'ba40564abd949e251770ab3801add933', 'b64c7144274829ac128541069031181', '907a96af753ed9019649fec41e5980a2', '392aaed8842851a52cb9845e24d982a2', 'c79c09c69e295e6f71b53e54544de343', '9671d82c56a1983b949390bd5d76993c', '39e8699a08f2dc3a2e562a9885dd85a0', '1de5e53b813163d9c5105cd15ccaa842', '2d00d45f04d2f017a46bb3322f1149f1', '2c819fe5d3f31b503f16cf763a67284', '68cc6ddab72a344d0191550252b83747', '2a901b3509f4c5eeb699c63314a64918', '5663df557ad075017114c83d7994e089', '9a996a1fb8afdd24a75a5b94c255ce8d', '6f325a5bfb7cc2c38eaaf63e0cc4c313', '438e03654a160f5d95dbbebace35ba3', '9eccc47698d4804faa8a084642a971d0', 'bbef4ba5d67e0b8fe836147d28d7db0e', 'e7a16cb7c0218cf1670a6bb4b8498a4f', 'd48c9d2e7ca2b60bdd65099e08ab13bd', '83c3d180fb6cd51d7ac4b2775a9f47d1', 'd7874e1acd7781e4c99cefcabbfba8ed', 'c93fd1e3c9e5ba437a544db7b84e375e', '7937ef34630dd7c50f910ae78dd266', 'd909115d646fc2ea84095dcc59a974ad', '7d36052cc6cabed8c067bbcad0315cfc', '50f6c30ffd0406fe8a15b9eaded21d74', '6c3e04afd67498bc8f12c940c011fff1', '1dee8e9ec132de0bcc21be1322c6f66c', 'ee96986e81298242651ffa192cec0742', '533f4eeafb911ac4816a22a13087f47d', '268d84bdc6b534c396a6a0200708ad5e', '33de5fb7bc931dc08cdc84da6dba5507', 'fb14ef77d3c68dd177e14185602bc003', '8b2c92dda1e01124e644cda069a5c316', '16f0b757675aba425d4e7be3f59fff8', '198ebbbe3474ffbbfa92e9a782907d81', '335ae3cfa2328bc49e1afedcb2116eda', '5b33f98c71296e4ec98c893919ec8601', '706c14674f7c3164cef7f5c31804591e', 'd3b42832034d158e54b6cafbcdda3ba6', 'aa17bb5f1de3ebc4da43bad6600fc480', '66923fb00afba4ede2f60d5d527d4ae8', '32eabfed1fc8d08e579097df020e77ae', '7850bd8b1e494e05f1804e1e52b4a5a3', 'd439307a41f0e8c0ac10e45515e2c99f', '2488a2bb2e9d523cf4bbeffef16f9d67', '6f8961d21385c84a124f01daecf588c8', 'df82c29c950a728e06a63b47e7fc99b5', '55db07133dc1e84100c8e477f02c325c', 'ee881e08a32133acb7585e05e41705b6', '3ccf11b531e2f093f6b3f10fcf45df8b', 'ba78a87eb0d64065c10d1884a2e0ccfb', 'c88e59b72b112810f4a3e47c496b8558', 'e676901d8ea7e47cedca8b2904eb1cf1', '59848e04a63d3af2865bfbe35eba57e3', 'a22ccf42b4a41ca7405a70fc8d9d5bba', '2ce8ccd321d95d217fa90c46de2c15fa', '6fcbb7ab0883e6f2ac28654f5b1e647a', '54c602e3253927e5e1031a8be10e985b', '96f76e7660a4c3b4889f624f657a030c', '4c4331ebd05163c02ff468d97c5e4c69', '49530609d9384f14a5298f47bc0d4828', '7ef0a2eee065a5307c34dbbd05e05423', '9d54a60782d3d923f42f3adcde2dba12', 'd5f651fe7daaa23f1fbce1080037130d', '6e481ce478c8f27dd2e6fc69444af5da', '6781df43d41c931ad4646eb7ef5b70b2', '52b7bb4b139172dbf5521e2857474977', 'f0b49e5a45fc87c80b27124c1afee40', '3f3f09aa05a0c4e663d7264b9dd46f67', '97c3c4cf62eb2a617dd9771b6a545162', 'd548292a71cbee250daffb999374a48e', '8d496dd0b2fcfdef91c2c4191ec17d91', '31292805099a66c6447093ffef72cc82', '9a22ed78ddfd65ba8adb6a23fb621f62', '5c18826623bc9d56fb4e3bff06b4eef3', '2e7229c2230c47425a8aaef6b6c7c92e', 'dae7f321ee651cb27c643c3f7a659c59', 'dcc8aba9bfec3cfa9badd1d1856722f0', '797780747c58d714fe4eb38a58cb35fb', '6e68d9339ed6f2781582d3884d18beb9', 'd275bde41ddf30c35f52314cb5142ec', 'd3a8b1b1172580c194eff05f8eb2b5b7', 'b29dd05fe8d1c6878530c4df9f58a889', '988e457fb978cdcdd1013d120c731f0b', 'e1170b2e8a57c550128d14de4446c57e', '5d4847c5eca389caf00b34da964b6992', 'adef0c9fb879ed0db3cd947a39805178', 'd3ebb8fdd5ca0c9eb184ca9f6ecf9f5f', '70cff88325c54f89c49527e251ef8e4e', 'c7358e290968eb4aab9dee967f0bca2f', '674ab7bb0f03a445d48094ef2dd2470e', '947456c77876452a2cb72a603593a263', '5b430e66ed86deb73b216c47af0e0a53', 'c21750c122d7e5ca67092aa89512aa8c', 'f897d34da4f42141be6fcb9a336ef6e2', 'cd8a64a009814af4fd5b387ad65b8ae2', '6f934ccf43b63e9fd3dd0c9e16d2664a', '80ddb6154fc0d665f72978ee77c15ec3', '7f762a2d3c2df945c6cf5dc72c4a1c8', '489aa3a6e066afe4d6928b2ecefa4acb', 'a333617a837f597ab40c7000eb4f3bf3', '2128dee00ae52067a0311e2e1deaceae', '3794e8c725fa2342f3adb3413549d1f6', '79b814eff889c04d2d22fae2b3c708e5', '67f045608cc139e9a6336b900f872601', 'c644ce97bff020354e4f71ef38fe88fe', '4f9616f73c369e137b3f20626a8183c', '21fa1e9247196b79d7e54249f1cdc12e', '69875662d440e0c56363ad3db727ff0f', '623e0d31ef46754fedc22a1e098f68d1', '397fe8b5c2cd17f1357fd9c97791cd1e', '627ba6c5283a5e933a700395094c0141', '6fbc8e1d7c149c62d5e60ccda63366c7', '3ab45f5f0c4e5ff41f69f433e4203bca', '9712f44b4274008a7cd631c26ec8708d', '13ba51ee9c97bf8f397691612334cc3d', '3eecd2290d8afde6cd68625a29c8ad59', '7199a0daf4e5d9f33da8f6ab351f61a5', '46908f6628cacf86b0ac1b9c9beca4f8', 'b89bdf194952b1e65de3ba5d8cf35305', 'dee9928db08544df5267d6a68b7317ed', '70355ce4b88f91a3b920a37e5f0051c5', '7604901e88875c13b256c027b63d2022', 'f92011a1c590a704be204fe99a2bf73e', 'cdc2d20d75f8187ee54caf56b2c77626', '139d97a14695d64f44b3ffbcb2746da4', 'a569e32b3165882700c16512dd0e3c0d', '473d28f0a0d28702c0562381e383b7df', '8f92481c5d8cc8f1192770e7c0b47b19', 'c20d6e99f1c004295683729c22e31611', '49665986052b4ce0cf87a423b6cf3337', '33585a8fe658d64e62c07e6129ecacc2', '5e6e4d50d53f48736274fea488b6a358', 'fb336dd05512c57553f197b650c16e97', '1bc837cd5e6ad11b9f33e02a023fd8f1', '33e0ab4b94c610ce35e3e5aa3887477c', '2368dacfa04282898f9af93c0132f0a3', '3ad4c50fc4be25b3465abfd5f93d9be4', '6b0b4a27c302f3f65ea598403108c32e', 'f6c432ec9a8e5a989ad22d2d4c928035', '5e7c6fbeef457a38583af8d523aae5a9', '29ddb1a6b5226235e5dbab38c2bdc617', 'eed4c9d06b9547dc525179a6460c0442', 'fb790fce35ec25757944f0550720a68', 'c19d1d6c24d28f93ffb0275497cb493d', 'cf66a7f2ca1f5a40dbce1868cf1d8cc0', '697dedfbbdb05887bc0968127de3cebc', '75369e6c54e6b643c7b5112fe484d048', '75643d32c5359e4c855ee37833972674', 'da1b54c48d3219b7913d23bce557fb58', '843e7d914173f77602e4b2fb6f4a7df5', 'f0c51ead4eb93a4a4870a8fffe33223b', 'ca361dfc52f18ee23b8ab945ea20a574', 'b29203bc69ce78af1cd678d36065704f', '418e8b9cbe8624559bbb850a128896ea', '7a6f1dfaf467ba165211b577b4dd2b30', 'd6802d10c724fd1fd1e1c318b7ad3d79', '45e0b78a892812f89a7ef0626bf4d81', 'f577076e2c75cce11083174bb7ec53d3', '753c638d6deaf70f0645654be468707', '56486327535aa8d9c096be6484dc59af', '77c096773aef107d31a58ec0d8265df0', '7948050b2f03c8b3146ec2fc3b7e2dee', 'e9616f3dfc4027a40fcd0ad893f4eb5c', 'fe9b0feadf46744609b38286dcdb95e3', 'ff70773bfc4388c4d233a9cbcb7bd240', '5329ffd137cf3d2895c2d5bac2f9ae4f', '5a316da067430557e0813ec12dddc061', '4095a61c39b181c92445356a1faa5281', '6a9e3a982af3601abd1f6a7ebc8e9421', '3e52925972df15fb0c901764ffd7964b', '677a1e914ba59d98d4a9895598117dc4', '4cfbccedb1ebc407e9083830095f0324', 'd7a8ac5859adb36217f755daba001bd9', 'c520dd4c2b5dde510da08f72eacc7bbc', 'ceccffd5aa2a7c315e27a4a5c590b542', 'b82eca5a3608d3416c5124435551d023', '6e10368051f8660e51515128a38338be', '79cfc225acebdb7ceda4a7baaebbba0c', '72c47f60267e5e2c40814923d1fbecc8', '8d0a23d4ce38657776a53c065a8a0ce4', '3aa3d14610eb6c8d82a7284078a4c096', 'd021a73286ea1e38f6fe380eeea7e3ab', '4d974d44b5e3f0cfdfc37c3139a6e8bb', 'c89c1b9587693cc2fd4f8b021ae9bbdc', '69f0a6a673582d9ab5820a109bfcefff', '2bbd28db908ebe8b65112c855aab240b', '311589da850aa6d5a1d5e14c6ef42ac4', 'f08cdfe447907dca91529bbac3bbc1f7', 'd1eca1a24780ca3ae6b75cc4586b837f', '6812438800a00decaa201500471887c5', '4e1169ea26117d6f982645c8646757ea', 'c6066a844c2eb04a1d9ee8f05ffc4f0', '7430fc424914c2788c701a07fb2717c4', 'bd491357f1d67613dbba6917bf580d5d', 'e69a488c50a331134192ad14707e0b03', '9b0f1f4c8c96c36786faa56305eac91b', '63322112a019d5652bfc62959e6dd6f9', '8e576182c92c1e622b23c4cf4dbbf602', '97e544da051f4248d5a8e374622ee63d', '52b74f58009615b330eb1805d517f9e4', 'd91e1740692d6db094354934fac17c35', 'f20d6e87fc3133bd6fa784cc451f028c', '31200e68728ee6e104edb7ac85282409', '45c38acbd508336e289e8d93fe0abe6d', 'e3add76fabb3dbac87bba995210e1470', '6a360d9af93af9d2bef99e98b01ee2e4', 'facd05662a1620d95d5968cef44722f5', 'ccd7b63a5a384e294cc2900f0598b28b', '94fa6e860f004d774ffd4f57e486a1ec', '57f36140442646725f775809eae14bad', '14dc8fb2c7e54c80f373dafbfa99dc9b', 'e7c5115df08626a58e0110d34871f4f4', 'e34d3b885e6401b563182a163c86acce', 'cfe998a7157a4eebf32a4f5d4f66cd0a', 'ec6a5dd1739239997e5128c400707d96', 'c3e3f2c4d89bbf84b670888d19f5ab76', 'ffa8289a14683e00a607a2d9bb5d1367', 'a0f4dd0d60d69a439d5e3b466dc0fc95', 'cd73934d69061d5ed95fdb8ecd4f592e', 'c11b257d7768a3ca118aa5e944722da', 'd7660ff1dd0f27ad95cdde2911a63b22', '5fcbce4eecf7e937a4dc2df7f288bd8e', '53259762a49f56f451605df3efa955e6', 'b2c2e26f99b4129ebd16f6ebe98f35cb', 'd2896c9046dd72010562e90ce5111326', 'b0cb5350f3af484656a36b23349e90ce', '385951fb71a61eb8b3ea77c4b7b087f7', 'd5f9217e134401ccd98ce52b83692fec', '61f6e70f848f0377337a5a5a04ab0846', 'fe13ae20c24d8dab364bcb5928e83259', '49a6b94266d28dd3e241905d2300e504', '2e0832b3f0f1e9f58b27a40968efec72', '6d05bff3b03ac8d75f414fc2cd1c4dd6', 'c6a4d0f0ee587bb29f0480e06b026fdf', '41129089e73b9fdeaa2b05153556f8e9', 'b5d7d76e5b49a7b1958789e104a2e424', '7d89715426ac1236667c443c7b9e834', '609b9ac49b96ae62b52ecbadee35ee91', '72d371a7093416f6fb2c03fdb9c2490', '16677ba0fe9b4cc0aa7728a87282f39d', '9a28590a68753ba631458a2fb8678056', '29fbd052ca6300e1a48c81485d6c1000', 'afb0f3ac2f67f80ac7d4fdd5bafbfc84', 'ebe7c6bd055319c79a525e01787e7996', 'f216cb4250a86bea99a38ec358af2f2a', '81360762298d54a1b14535aeddf2594a', '28bab4e5509b014e98bb2a6a88642bbf', 'f9d0fed99878d3c15c32e52967ced985', '2abb4a95ac2ff1061d8426cbf1408fd5', 'a9d71783b7245f192acbd92a28778599', '42c336304ab2b3ce8bdcdefa308f9fed', '2effe0f74e89e4da828987d7133a9fd', '975dfd25e811fb73bd1fbec06513834d', 'de3742b3ccf205cea73598df3d041257', 'b8174c958b15da95a42ffe05aa79722b', '4517849641711cc18606b7b8a99380e', '996034c7d5ff0dfb58f3725768609229', 'a79d1f69251e94ac7bdfdc20c05b0b35', '9a5e8a55c465bf2f9425831b25d20091', '572791f05795186c7bf7f38a249a1ded', '40d21577ba03f69249f775c23f4be35c', 'a2e75e4b981b2e13286adbc4b6ac8f73', '6e87b6225542ee2764ff3335f452394a', '111b8bcb514d55f50d0baac84b6364f8', 'd67865c0c7e4f9040ab4c58f54a821b8', '6b20ed81b4d317f7f906b31ff49c7220', '1b152eb38275400b001b20a55f664918', 'ffa27eef9a46f4d6b3e2c0ff3131936f', 'e82c3b3764413e23c438e86b1dc42d89', '5344e7092093a7e057dcd29e8a7f4307', '4fde51cd08b9a1beda81d7b38eda187d', 'd7c32e6d96a7cc114e6248d263fd8f29', 'a5e7942b0c78f8866102d1586e6c87f0', '63f3b8d05272fe5eef0f5212a661955', 'c5ef3b0bdb25cea581dfc1c2310e044b', '86e4d729dbd56cf553a682bbbcc86e1c', '896f55e491434be2730ee84e5bbfcc11', '2aedf60dd2aa91e04d8c6c59db60802f', '9fd23efa97fefd225c321bba4a6998f4', 'af9c14f5c51cb7f3a4a9b03197211953', '7a7600b14fcd4128336d18188818350f', '48abf883b66f58702f6f63d027635ee7', 'df171916378f2fdf1bed4ca867adb20c', '657473a23b324bd5088d4e44a927cef2', 'be3e5c9d07c3823ab2fd69729566903', 'ba1942cb8586f9a2ac533e75fdaa8531', '99bff7b7ffb83a71735c50974f56ac0', '74684a1c57834d488b4f63a0f47f1829', 'b0683659e299c48d05244a5552f3756', 'f6427ee845cfa65b39dccd37fb7b5433', 'b2b14c837da2e4390f1a4c4be3943c6', 'dae31a936f57b56bc621290f41d6c940', 'a8a67fa52c4f2bb331794de89e48aee9', '1a9b3eacde983317d2e6b906232fbf06', 'e8db82d2685ff57492db335af53405e4', '3befbbee23e61b355727529233b5f6c3', 'bdc7dea6b2cc49bfedc4e28540bfe06c', '2ec9c26bf8b96e21eed764b3d35504b4', '21701974ea2a60d613346faa88167842', 'b493e6510052390f8b0bad974291ff60', 'f71aba79d0cce2a3eb7b988a4fb552c5', 'd50c47de0339b492229a86a0dc630f82', '78baadc45e0ad22989e9a0e77caeba69', '8d9b90ed2f7c7cca81bef3b42b51da73', '474fe72ffaf48358bdeb32ad4afd0172', '8b1888fddf59187bb763631031c564ed', '24724a3ea90723e6cfae3b5728be27a3', '639e4dbdaf8e2e412ca25b8132216b04', '528d4310074970d576191fa79d79724b', 'f0b3866d1a0603b9b4da5c931b2e964b', '1d8bb95077b9f73517e080d8022dcecb', '1f135dcd0ad687ed2d865207419a70a2', '6e1911c6d55057ac78a23c2a6aced69a', 'a930d2a2f8e7ff0f03793840373de173', 'f3edb2fc8ec0a9649a909e1f14689c4c', '7c5dcee6ba449974a728991b712ae4ee', '35fe70ee1a9777343386d80c3b2951b0', '4e2dd7c184ccddbc3a34bc3a3da093e5', '9a6823510e52d1a9f3b0dd6778e08ff3', '3b78e5633991187cc647f595181d8dbc', 'f34332113573a50f69e1467800316a0f', '59badfbad6e89ce1cb219cb7fc9fcabe', '5689aba5205fa017fd0b1f62ab99b986', '6895eb2dc20d39dfe2ba6fbd39ac86c5', '8bbd6c22af93ef0400f6c50d41c19805', '76e53094a2cb756d160c4825ba298950', '1ec5faa47b5b11f19773c3b57089be0e', '7b88e2e6f3938cb3d70066ee996f43f4', 'd0e6df7c2860977922c861debe13c7dd', '9ebb795a9e80c3174f143aa4833d2cfa', 'ec1810f3adf9fc176488a1373d578c1c', 'aad582cc83f07586e197b565708da8e7', 'b17f6efd406556a8512583d4911ff88b', '899e46352c55692b15145617973625f2', '7eaab23505a89978f48c1db484ad70d6', '99602a6ea1573247f57e0b3f15f19d02', 'dbe3beae04c4374b54d13c7aebcbc8b8', '2cc5f1e1b5cf461326bd06a3d36905d3', '79c856daa8d4a8d207b3ff4883644c94', 'a3e3a70d3aa6c08cf95cdffe9e7511c4', '28eeff6a0c339289e355647adc05e027', 'd6da2eecf0b24ed0e774bb78c8d9fb76', '693dd3a1758de9cc941cc57768797126', '4ab519abb222f9f4615e0a99cd990868', '73332e28dca839a86001a73c9eda7061', '5c8455b350805ded516bfe45e686b305', '6d956a0f90ed6c769a12ccd8fd0c40e5', 'ec07cbdbb291b13fc47376c38c1b62ac', '63b98830225cbdf9e8a348a01e58a283', 'b50a978df975dde51854dcbe0027bc0e', '19427c3ef8e7b165990fbe83bdd95', '7c61c34e980e22bda49e63f235a08c50', '31e8a4b69e210ed705c0901d41818ad', '3b7b90e2cad1eb1d84c9446d8a67fb9d', '58c54a0c077878186914fb12149001c2', 'bcc0427b30ab9d5ac3bf999843f03bc', '5606e57205d7f3898e3793d993a6bab4', '71d1a8d098c870fc3f297fb40b078abb', '359d06cf70584f16904ed81ef894dcaf', 'd6605d2939afb9b10a5f26e0c30b889e', 'a624aaa44d76aa1bf2ef48932f0bb8a3', '5ec9e2db56d0faf0170839c8e2fd1f6a', '24d65a9013ebdeddb12578c8c7091c49', '18f9d3dc73b07e08534437d9110f9ba8', '8cf0a90c12d5bf50334792ec2cc97c79', 'ce5edef4e4a849e3734cdf05ea552c03', 'd55908c3b9760d853c7f3d83a9498bb9', 'fb0567077c55e7fde900cb8e8d9bfc64', '207844ab916930e01da36d8e2b92d32', '3102770eab9c9ae3422d28210673c930', 'aac0c91b593fc5c4bb89136e83826561', 'aa17e74fc916cc6dd072f56f458beed5', 'c84f04ef6b4ce5d074d712576fa0545e', 'f9f3f8171e85eba0817e9cff07624395', '57041ee51b902fea8042e8f1303c5f5d', 'f1add82d8c479c2bffd3cb095f7a3e49', '3760d1bfba4716b8f8005e9708476aab', 'c85d812dc7bfaef0e59d96fbb20914fe', '807c05ea83c09e928cf08e347d3086f5', '40d94509e70868d559f3b20ed1cef55e', '1a964abd8444f98acb51b0027cbe5ad', '927f57d3cecf4c687461736f7fded80d', '4be58365df43ec0c1b64a6e10d6be5dd', 'bef12751f2ff21b7677777359e6fd9fc', '235368a4df7243ed28ee7c8495604593', '96332e5fa112b3f9d18c79d743d80342', '94111a692dac7de62de6c872332dcca1', 'ce6e95ef8fe5b287c89c658076d44c0', '735c5443665973cbec855fa0124e15af', '8970e12617c86bac394972eb0f6fd443', 'f988ad1bfcbca96341737a17c22cdba1', '54d8469247714bb46c3ebeeaa24259e0', '91a89ca1bb119cf7f50d27a0c7bc2f74', '4585804fa7d57b5aa3ba0d4c4f726185', 'dfbad9e82cd2cd86c6f9067bc8cd4afa', '9c5f9f2aa1c0f4d4376e6a0b0b76621f', 'd443177d00b128904cfbeb7b7f4b3426', '295c6f28eb22c43756a9319e4717652', '8dc05c9b9db7ff0c28431f3770d4a260', '31086b20d7eb0ab0fc38fb24a83e151', '29f4a1a94076f957ca54b0f070959c0b', 'b93f706525d0267831d227fc17530bba', '5b61e1fc445fce1b255732c8c26dec4a', '526a4b44072b4e9d2788f26431a03c3', '5f158aef8c50f2ee493dff652a6981a', 'b04432536e02399b1f08f298acb5091a', '6c9d6cf57f58ec23060f65f995594302', '5e82dc1d741987a899284c5cdae4f7f3', 'f4f5d0c47825e56c431880bb93b8d111', 'c0d8427a38eb9e54abff311398da37dd', 'bb7e58a57cbfd52f3bda80e5eb47c7cd', '85441330b54a63193ce0a190d73852f8', 'bca91125c4d09175a44d90777dbf392', 'd027c6ce71b1a7b517c11d4626bc1c56', 'e9c4a204a59a6016428d12d49d0c5bd', '414b84b8fe3bee862ecc170e04f52740', '4a005afc52629b28571d79e1fa199e67', 'dd11b9eb3851377212f5f14b4722b3b2', '8642ec9da880d132e894412d2340f70b', '78e24e52391daccc0d178e36ff3cd87e', 'e7c385232510dcad99e371436b296414', '8d137a5c90f533cb9adf7e147779e530', 'cf2ee6ca00adec131924fa456d675f65', '4656f5ed4c8fd77563d29a5ab893e05', '5b135cbfbb0cc3282684ecc83fb33cb8', 'e971918f32fe35e018ef253439480c60', '578e7f2a120b9cb9aa27539bb793c578', '3bde88332e6d2c51f8dda422fe15ba34', '3c73b6945d00f7d2154498e39858a060', '9980277d0bf03d1da35631b9a8dbce4c', 'f7ef752fe4aacfc58c88a0f927d9f491', '5f36805328ded0adcf8b5567f8c6b337', 'fa928d93177c36861df972fb50aa84ff', '3ab379572c9f2ebb07c9782df83ecc18', '569dd1803184c2b89ad88c4ec75d58bd', '7c36fee9e71dea6c6a7dead38406430f', 'a7a53405b776e24db851a8587a485552', '697d5af503b88cf51c77b9c1416e7267', 'a51a06c8d6e3e6713cd126746cf8b468', 'ce7c621e9fde1adc367c405ce6b0052d', '55750f521ac58b8f00a3b6b6a0415b48', 'b015f99920c4f20c3b809e8e96fa4085', '5d01cff2cd62b8a2971740d7fa59632', '32a4f4595342a51808fde28028e1082e', 'be1c0bfe61d26298f6de4fcc2971e8aa', 'b7b47aa10340f0d152596214cb329e3f', 'faf8d08ee2e3e5d161962c6b3386706c', 'ea064e1ef1b79c66b0c036f01d328ae6', 'd0a48b63b2963942a8d6b50452ee63be', 'b2c7c2a46292e300aa1c7d584da494af', '998f393990a298a347e5ad9e07c4907', '9902026ade2c668f9b5f902677c204ee', '898806f9b2d2ecd4b95d5997d61e4c6c', 'c9bf0959e9e0e6fb25c8be08593bf8ca', 'e2a3bebd6b178ddbf7da9f90c62b8dba', '302d7e554d88cdb95fed7bb83d6cc20', 'e6a6949c31319d1ff319cc1dc978c72', 'fe9459b733c7b2aee72b6cf0747af154', '44a113e1bafa5550ff490b634be464f6', '4dbc21b9b487ecc6a1d0b88ab88f6a39', 'bf885df30b6b8641d5a71ca4b916d0c3', '578d1740cfbb2ff16de4d13ed159fe0', '6b11fb9c4592c35f4422c9b3f749aaf8', '71e9f3da78b6d62a22e489bc96999b6', 'e520a1d340792fa13c5bff3e5a6001d6', '17a5911f62f8eb3e85edc69c1f0143bc', '5e4b4e7a0c00039cde7f18800e16569d', '34464b8acdfa77198ea45e021fdff5ca', 'dd9330b6c848353fe686966940415340', '4b784c5c69b9bf8098228dbf06cea4f5', '7a485491b19d807582c5d776a35a6c9c', '87095194ff45e711e93e1f1750bc22b2', '3584c2a87318f8ef8cebe84fb61ca760', 'da65809d8b3d7f57075eb51c617c4301', '74fae82454635db16bb464f9ec3d051', '292f55e63c2f5a8b106ef4cfdaa228fc', '9baecdaf5a0cf052bdc24ce9d3b46e89', '47b80edb6f84bb6fda9df65355ff0f04', '844f39ed27061ea47a501cd139b1e0f5', 'b4e01aa926a0c2ecaed1d9ca3a5ed92f', '8dcba6d80c2dfdd5101c5cfc93d72379', 'da93268295ee6f22c3d1dd94945dfebf', '29ffb423b548a4d0ad652c019ec4f644', '961c7cffc29c2dbf0b9e55376083ed90', '7e60b551d999ea5fc9bd67c4e1666168', '173f02d3c83d133be95e2a803e9a2c4a', '6f2aa6fb750865602f80d4475b7d242c', '3795834b7335830b81c52ba568f5ed76', '376fb526c2415bd74a79581c87a84648', '5db2ca9bdd3af61737b5776b5fb966a5', '578230252bce0808c1b455652a8116ff', '290f3cab9ece2f47b4b57ffdc4b39e4d', '7ab271037d1e7eca40d815ea3e42d912', '6315e5502035e01a3e1cc8173023f928', '102cce280df9f6e0e78bfdd266f1abb5', '4fc871fdf64953aa652332425e930b22', '5abd1b5e8ee1907ac740e94a87d4d557', 'c4ae5b480236b5fea5d8319e663ab2bb', '7e76d36fd7ad387f7b42718a7ae8dbd6', '5fc5fd14766fdca581e748fbb68c3488', 'cf153a881d0bd746224fa16c5fc49262', '6e132ea7bcc8be150f2a9220ade4f922', 'eb89cf222b850c1269e0fe8dd8d00a74', '5e1b5e90adc9a4e0f661f60e7c9f0497', '4d79d43cf53a9114ad11529345183a8b', 'f21825da88df52fbbf97353584b27cad', '41cb02201aa284ff562bff422255cc5', '78bcf31e511fc0e523720b1308e16a54', 'd7a113c4fe289a2d78477155725c3f9d', '53b952af2f59ca91ea8eea769acb0b78', '673ead5abdbe728ece61833912b3a0bb', '959a60a6b831c6a1c2c5fa4726bfb382', 'e2863d810f7758d0ac09f5842c2270a0', '6f965389f1ab87d9434c0be2b42aadba', '6069d165cc071cbd61d55a94083a6dd', '623dc83358407fb55c6786969e024fae', '2573edd2265f2c977d451f6291808609', '274b60ab6cfefb98730ea141190a285d', 'c0a686a2a296e1716fc13fc3f922834', 'c2513b912747ac272c36d425dbab0945', '300303e1e4effbf6861dddcc58b39afe', '65e83290c4e7042aec2edd7ef19f0223', '8bc615ab780d99f94eca9edc110af43c', '9355f5a52a7272413136751a7d6c7dcb', '4f6ffb8e4ff75861435eba77b0540421', '7cd24ae4187e1691e9ad083403423d98', 'ef829cc837e7eedd7d375c61e6354df', '1950b9d45fac987fcecc1950ca8d69c5', '10d6344685dece1edfb9331ea6a76f86', '68f4ecc7e4dadf2802ccc70aaeddb7b4', 'a23f38fd22c68bf0cd4c72e8aefd3ec9', '5ca5f4192c3fe284fc489f23f9b3c62f', 'd1840d4cf24fcf101eec07031cab5eb4', 'ac196f715c1d41959ec006cb21966fc5', '13cf5b658ece0a6153e2eeefa40ed948', 'aedaddd0629b66af450afcf5f26cde53', '9a94002cb875e7713851fb93e69b3699', 'c727ae1c6caa75dd2a9e7534f9e7daff', '67c75579cecfe7bba93a16d8fb5f0754', 'b83572700fee107580a20dbad87d3032', 'a7a044076db57d9e5a250f8a0e94dd85', '654d202d83c664a091134462fd8071a5', '94ebd5a3f2817b2f03098b9f241518e', 'a0677f2beb8018124e2f74518b908040', '94f59ca90a2d230421f4ab5750aad410', 'c567c094773f9043e13f5691f3f9cf3', 'ed6246d042d1cf6d350e28ba06e5343a', '7a7544286f2d50ee72c9a1460f328351', 'f945a528b6ade009b36993899fd61bc6', '2f17a809e46ef560b5f73a57d3b382ce', 'be92d0de99f29c14de9a4ec626da7c71', '2f33249f2e0e8639779d4b474ac02582', 'a3ef7d3eaa2abb487f3bcb0790b76ea9', 'f35e9dacaf815af876bfd0775c472d4b', '256f701ffbd33243735445871fc7ecad', '6016218f7a830d19a4c4186d56e5f7cb', 'aa7ca4f98fd883195b740a91610ef74c', '5ea979a7042b5bda3ab3b6ee557edc6b', '878b4e5b056cd8ca224ce78df6bd4047', 'a1f32f5d810061f3cd7c3dd3e94d6dc3', 'cfe4ecc82ac35524755b84d002675a1e', 'eaa73b0aa76c7eaf3a5ce12fbc79961a', '8018694566a32cf72c33cc4b39311448', '2e30e61ef86060340eec6344adb49086', '34ce7264111de875ed0991c5f5a61cda', '9cfbe21a33595687922e2082b6225265', '1fa53724369646af2e5d7c839fe92f7c', 'e32ff6099f29b27d543b33af7b0ebef2', '510fffafac749190350ef7629814581b', 'dc6b49a1291acb349310f580ae437d86', 'cc2fdfedb727a8344aca7042888b742c', '8ce1446a3b715d5bcf6da4f2a60e43f8', '5ae7b6520dddc8a36213c413268ca362', 'd470d431abea48fd9855e6591168cddf', 'e0271ca7a21164a8995f6837d66ba912', '52ebcac257f9e1dfd8a2fff9aa5e1771', '9efac3abcc9f592c074fd8f214e2fcf4', '1b1b8fa7cdba592b1dfe65fef9736755', 'd72a322cfb3bd3fa6cebb27ddf30e0d2', '10c026fc940ae994f0cfaddcd59db6a1', 'c95d4f98c8c8e0930a9d24a1ab75301', '4fc0685c5d0d81c57538a465dcb7236d', '3d51d3e1de48b9ff328cc3e5a78f3857', '7b0980f3f3f1957512b0bf86887deead', 'aa58ace5619c081827dd8336b682f3d1', '8651aa79b69baca813728daa9597aeb3', '7ffd6601f4d64d4383c61af6c69f09bb', '86fcf2373049d1ec06b7583af8856969', '928c29cd83dcc23d1158c986438c8294', 'd128a9d925dcbed1c2940b3d95f2617f', 'fc5f6904930212af672e641100cd9287', '9b3350083c524c1ce9c53e6dd86c07ec', '21bab60831243d8540351ced2912c94e', 'f6bb3f3c94d40c097cc24b6307f1c6f8', '74666ae0bd89d3f5025ddfa04688c0de', '44c0139190b905c64ffc581e889567e1', 'c614cb857beb568780f707da37042aa0', 'f67811553536ada168dd0f16c57d42ed', '3d9052f8403afd9cdd29091a24e8f8b3', 'd035e9d3ff068c3bb4dc042a3d14ff73', '7e37f86da8b7c8dd2d3d196e60bd4ee3', '23ac6b991f484186645eba0795e2e74b', '9edee2acadbaff4aef1505f28054bb87', '766adea1488a2ae8cb88ebae18657b35', 'ba053834517708a073203aef1756e63e', 'a0675b011b5c511fe060034cefdff475', 'ba1a7cc997368189a13cf0df2b7b500b', '220391cd5d53cfbfd8db1dc2be20b727', 'bbc58a9b0d812d338ec3ddeb1ecdd5e3', '346dd6276f279af3538f8fac92484046', '9cc803c5a685ce44078268a0411e4f2', 'bdbe41db738f4f01548b187c0c8d2cc9', 'f0808d0c9c405a3aff40a369c4e071f9', '7141e60dcef013f056232f47a5b8a01f', 'c7fa0f56917adb8260ce4260f6639a66', '4a6e6d6fbbf2d6ed59d659e206195b92', '48cbe1a8125d97050e3c6f7374bda9a1', '72059d939d7047ddd9d00f62658aa1bd', '407831fc74453202175cb4e4a92f8f4', '404a5efb3dd54d8ee2e0159b7fa86b67', 'f1c37c3fe9d68c4c2dac2e3fa73ec1a7', 'c8f35991c60ca0ab2efa66da58907460', 'ad3fd87310ae28a713ed956ed630efa', '8779d730156c040769d7eda2efa5df39', 'c661ebb117f054ac89da73a806015e7e', '60571189207624d20fa1b1bd72633742', '24b25efef7f4d2e16b02c51a38801407', '76be6e9cc1c7f68df422617ebf1e9d76', 'b2210ea513b2fcb13c23783e00c32e7f', 'a01774905388180448803950eacf5a5e', 'b7ef93fd26152e60ae70acac9e702f9a', '7a6066fc710b07509595a8292024df6b', 'c5fc74e6e704fa6c3e3c4ac0c7e00604', 'dbc34d75b518641ca53e140151f61429', 'f1487f04a22f70ba4fdb0f2830cbd647', '121871a4ca5e81e2f14fc65eba6dba27', '9fba3236a9e2bcaa987322d52209192', '30443256fb92572428bb32589e06b482', '393f38bf4bb3cdc70845a03335f1bc70', '8b9fb150eca5f8197edcc819b5982200', '92ffc443bb90dc913d4d9ed6571b54db', 'cc72579085ac5fd1432d05606822944c', 'd9a3d7414732809ae706d5408860a8b5', 'e457bb64d4d4f44313d3fc33cd4c3c38', '66e9d9790afe9aaa33ac7dc22623433e', 'f6b43399d66ffe064bf66c00a8f47b28', '8051eb2335045b45554bd2dc042bf03c', '31a84efd3a9dbd227be617a0d06a5f5b', '4c16bb818c9af5de7e107de07c22cbba', '5a2ef034a9f28e6939b3a872602060af', 'b9b39a1bcf7ef3fbe87341ce46544f35', 'dacf95cf7a3c9e7af18c5db0535122d1', '125ad584f738a380256c20fad16e7e8f', '76b38ce4eb9d1e4f88934a427b001291', 'a9430efa05e5abc56310ff9a5173cd07', 'deabe4de67b41780f74001b5709bec7f', '4c1b300d2ebb16dd2d8f7f861655bad7', '60febbcf0749bc018c0be5c9c1a29a47', '7ca57a754f4bc972a8b74b49795c997d', '64a3a556189b2822c437f16210931ee9', 'e27a4f17bfe4dc7a81e2cfd7aa61c61d', '7c0275d7c2acac756312d3553f38f8bd', '4ced64a9a6d49849734c6d8f1639f55d', '6900db8a667ea6a1427007814fa90a20', '14e96e24b54103b8366d07b905f8a645', '3d271756269ef7ab523eea2148121a1c', '467d25cbe49a5f45c6814570d105125b', 'd6f6f26df0a7c347996f07df8346a55d', 'accf7b2fa51734fcbdc66cd23cbf355f', '4cc1924795eec5638c66e95178561e2d', 'ef33cd8f6c68afab8bc29e5f95ac095e', '546e3ccfd2de9d5ee2d3a255ba3f2db9', '90457dbc4fb3d55a36dd8dafa67187a4', 'a9fc9a8b3343677f613ab5d72822b933', 'fb4ee2ae4f13089c266ad02894b38783', 'a4b4391b08863e6fdf362cf33abc8839', '917134dbd544bb5ecd3b8bafc8d0a618', '752471120ab0601f71583d9e19f39bb5', 'fd85e9c58bedb8c5fc787d2542eb5b0a', '609885913e5cbb1b3092c773f0c922a5', 'f363a2a3552f5a4602fa402a81dabfe0', 'b8a1d605e2a6937efc341a46b0674260', '8266d3bd79a0560b878394651e0cd5cf', '1cfe31801227085cb504a15940c0b97e', 'c7e12363a45b1366ec4a467a43ed9c97', '83fadf6508c47d544c457abf2c33aada', 'a5fb724bddd2002611a16437a7b6b4f9', '8ba91b0b5f7494516cb943c3b80c1ecd', 'ea49a03795858684ae522978b85a064', '7173335cf5f144da97d1bbee0839386f', '63aa3a472e5e18238350e22750bb562a', '90811b192fc7fa84d7051cbee5c58c67', 'c51dce037c294198d1f9f1268d73f867', '7437e95a29a740f23ba17f504cd8139f', 'eeb0053cbefd7f00a973e65e15fd25d6', '5a77a9df7ec311472ae44ac3a466ec93', '799cbf9cc43f375750b266846873c406', '24482ad15b73da4d59e69dcbe999de8d', 'd43ccc6c040a3e7d21293d49a7c5e099', '859396803d328b9624c346da27881926', 'bc004113b61015fcee55c99e44f6381f', '5eccf6d9c22b09c9ac8862533b2d0bb8', '4da00b3cee839b9fe716b0bde2f88c48', 'b9e85936face8c058c337622afc74863', 'ea3603dd9c5b94988e71a45b0154d2d2', 'ed67f92caa61d27d76bf2af280cc9536', '475b643ff2d693911fc38356a50af646', 'bd702beb4943e0437e738bb38d16b585', '17370d9bd6ed497056b2c5dc2d490f42', '81fb112d10027c0c88d177a2bf3c2815', '5d5ccd19adb6838380b992cd836ccbb3', 'a9f67446d67a8f7a443b49277ea908c', 'f847e982b72cedc6b0b8c39c40183aa3', '624a865afd40f7a9bb8b5e9d0c5b9bd3', '959b8ba6ccad27cfc96cd608c179810c', '97126e878f71a3b7ac8f179e36ba017d', '606249b8db53b68a73d0ea295ce44245', 'a4b88ac733cc1535f4a5663425fe4da8', '668a3ebcbc6b99d23c842f4f37349adb', '4e6c8e88dafb7fd068d1b6dcc13607bb', '60d704e20a3bc7a051b6a857fce65e45', '68d0f1ec0041e4a78e8840a6b26744e1', 'eb151ca9c0e31d615dd8c335bdbc9226', '44004fa5aa3bfcefea8f12b569728a30', '845f35eb10ba1e24b34786615ed616c6', 'a0527939d43360ecab37183ce7b4b645', 'cca225c922c768f72d2a2dbeafcdb8b9', '3926b0f07a8307d4052b3fa16154d2b0', '345d312eda9ec182500f6f5a0fdb797a', 'a6bd2725a7c380fe5377a72d4011adf9', '427ca8ba763e457eb58248ff4d1ffbf2', '82f7e7cf31c436d9b87424d65f651bf7', '1003de26f870d27f79887272a1eb3612', 'a16a9759172a861f219801169c016f2', 'aea34189d5f10ddd240d13763c2ece6e', 'b5743c68b2a17b7f714889a702f95cc0', '16203a4db6273e75520dbe41aa86b6a2', '8efcf9d860ef203bbe64a4951478bc22', 'e53b7d3cabc6027767239f48a1f4dbdb', '9f6a8b53c3f732f29dcaae233013da6', '3e6324b06adb3b40fadf1ca7ba3c303f', '5c1cbf017c024ae75739359dc13bba0', '1d5ee6fb6638145fbabf8b17f7324250', '474858183d18690196064b161eed1f46', '5a2567c48d7d3a4fde1beb6f8fcebe3c', '5f799a53ff8e12105cd8f5b4504c264c', '26101a51eea2755030296c4b901a7e54', '1501db9394d72942d97b7dafa9192ba', '29b529ba5e7a9c52af0a29f2577bf4f8', '46b061465e0509b2e9c54258e9909a91', 'a48b1e13303f9877caf85aafa9fcba13', 'd36ff7696f41755eb5f2b9e9faa1cfe5', '881444cb8364c15adf981347618519eb', 'cc8afe3554ccb6c958aebe92b8b26f8c', '1f507eb9fc535071172140a889ee32de', '8cc7dfd7926d45e3bfbd4db987849ef', '87c9d7b7da60b14596ee5d3067cb4986', 'fc640a211409d8cb311a489d87e1c2b9', 'c6e44e21c49f4d6f7cb046c67ca95d1b', 'dd79a46aa7eb3acb40ee5f06a0d945dd', '286bc560e5b574b904075717ffa46932', '82187adbb0e81374fbff441da262fde7', '61c4b8c3081200a0ff24871c8a70717e', 'e1b2cd334bd997485d93b7ecbd0b374a', '30ba05bb225dff88e88ee235ef4a8802', 'fff01fe00dae086650e48f265468e483', '84545f5df44427a69ec5450b7f56c512', 'c2ecc9cd4e12d4e316753ebe409208b3', 'ea90622f0bfc37efee99acd6d7e9e909', '501bb7a4f537530e105645f9ca38d68', '58970ad514beda104029daf0e8a44b6d', 'e2314842e8ba5b12397c5d1ae9e80e1c', 'fd2e4db898c1c9a3ecd98a27f942f779', 'f614ac5b82da8abc5874fb45ad33b552', 'ec9578ca06b7904e42e6c2e6586df874', '3c2fb1cc8a11428868a5add8193bd9d8', '49dab84e2887dba1dbd7f7433637b53f', 'c9230f25adc71d678bb206c1c41d4f10', '90f4aab5a3a117b92bcb9026681d56e4', 'b7b70e60b4e925f24d15cf948afb5fc', 'a618c5a476415a681d3b8c1d1cab404e', '3252152f62882448ab0c90d5d95a7b1a', '8942fd882585b56abd63d1f472f5e562', 'ff2a075b8494e3a36619fd4802cb1cdd', '30c8d71b39640d057ecdce0550443f54', '7c333b5a502e80b4c0a6748e0f0ade8c', 'cb5bee2d29d2a8b48135150f4bc4ea42', '62e1a9715995572b9f76e6bedc6f7ef4', '99ba0c92a5fe5acb3b29d7e24dd6bba9', 'b2adf8fb7a8824674124c6fb88f99a21', 'e880a701496090969c85351567e7bd3e', '49b656b5a03b13912234412825651da6', '580f301608fd85b80d664939b2a02a7a', '501e04aa3e34319b59a48fd9a655d7ed', 'd039bfaee998938fd6bb576157d7158a', '3b9c2221e0991419785dfe26af710552', '27683e89142044157870b1b45a5a7a07', 'b3d9a6020c9dbed7bf8d00201222e987', '9883f7d57a21d1df51b04118205db697', '657c9a5c87026d5fcb1de52daa5177a3', '12ff66784b4ae964475aa761827c2168', 'ae6ae51350881395bd19f07ce1636adc', '97edb8a6bcbd584845ef744e8ebb7da2', '365bec3d14f221a702d0eab81506ebf6', 'b77ca4e7d48146fe64995793e7e8a79f', 'b400ad119a30e7746d243d03e80c28bb', '8ef18aadcc21fa0f8d712f36212825fb', '18f8ab56cdb8431dc50372f7316f8c2a', 'f551e6521d8d53ff1db3277ef390628d', '38331f2585c3350a5496bcdaabed5707', 'ec02be46cc83b43fcc214b2983e7bc6f', '5807a3ced18e749c679d63ac1442a9c2', 'f511a42cb66da2beeaa058737432833', 'ad2c54de6df64e3c5be0f3fc8d9190cb', '5e36b252a693a675901038049b896a2f', 'bb72efef00ab3c779a7f7982bad73ba1', '491c8fb474a7ef1d99c6ff0124fb8fd1', '75bba2ddec580e2a5347b352ebaee44', 'c6abda9596747ddc85c8ae3a70d0b9ed', '917702b3221569bc5f8ebcd7cbfffbb9', 'a81e293e004c256c326bc349984e9d95', '188d8a4f82017b25b4efdb5da303c6dc', '39d57358f5ea7d754882e8dfbd5cf5d7', 'aeb3ac89912071e8f8c520261c9e7308', 'dd9dfd267e57a358dc1b31a60d68561f', 'd520041e8bebf619bcc8870893e539c0', '47a9df75b78c187edebc2a740b118dc8', '7ceda1081a2fc384486688abceceddb3', '14b232f1a0b83fb7a2fc84c561eb3d30', '9771cdb23efb4a47dbc77e17aeef57a4', '295f0157932ef19213aaceaa835135cf', 'd642e00fdbd8fa1df763492856f59512', 'a07efcbe636d0a09c7391720f0f9b20', '32018f86dda1145b45bf43f9ae9911a7', 'b978cbbd6d0dac95acc5147f21461bad', '2179e5386cc781214f6a568e1447a896', '4b4479d816603c0621e016696b344124', '49747cfa6d60ab2a43a4bc81093e83b7', '2d9d6cb7ba26a82a8e79435ea72d8dde', '67d601de795c03a142577f9c955d70fb', '1b262137fcd904bc11af8a8ba1f177dd', '569dfb32d282e89d3602f3cd8d49a34a', '3a13310d655a8e4abc532d235e2f8e6e', 'ce3a52089fd1e987bc51912ca4e7891b', '7e2b6787a593a4d88308ded777e21c80', 'c455b0588f4b3b03419c537b9c2089dc', 'a9175c666987ceef88d5718ab63377b5', 'd07aa0c400c154ff5673e728b5ed895b', '86b09df66b0d60ac38fbecc20d055718', 'eb87013a67a96f910b8d0f3ec815cb8a', '80338e7bb2ec8d99fc1df79ce8f6b087', 'e4bf91e2014cddd7f8a2c9b121e4046f', '1e304f5269a5d2b2cbc003d419ee906f', '32e8cdcf24cde4d4733417493f6326b3', 'af067051bedb3b40edcffc64cf3df62c', 'ca1d6062ba3d7e345b5b03b479ec6901', 'fd8b4244ee6ce0f8985e8e99b0949386', 'e5b47d4325f90410e6c34b23b3402c4a', '24c4179010e0e8a14070c33242cfd58c', 'e047e1f878bf503ef721029af79cb5b1', '3c5dbed835b2e88fc2555829bffc0ca5', '3b6da28ccd50a00e6d9b7dec43a48269', 'bbf89d3082bad3070da8126eb9ed27ff', '9fd8a46307e8b307bfc24bceab08ec6', '5bf4870336fdeadf7178fd748f2b1ab9', '9f8c3a184b7df6d2d5ccca9fbb0af944', '8dc132054079f87f3dff58b82602cdf', '353d45cd26fb46b7b60cfbc26bb1a741', '92e655463ed101f8053b6058d63140d5', 'dd47e22217e57a3f1304b44bb9acd80b', '60705218ce29389bb7181837d701556e', 'b9117ed1f5e1e01989913de7c952804f', 'bd4aed64aef87e300d94176421c6a78e', 'a4d04ccc2a360d21a60bb0e394e8bbfe', '3a40a10c505ba3813558800da9edc5fc', 'b42a8b1ff5de9ba3b655eecbaf972088', 'fa59a85772f78ddfa7177fec1fffd35d', 'dbc6b9d2fed6dcfeba2f332f641b8f8e', 'b69abcea9190965086d6e01a06cc990e', '8d249d0883b48293c65248b07141a82f', 'd12a815619ae93b1465c8ac91cdac075', '3f90d3f39377133922df8be491f0cce7', '95a8162e278c09ace00741727646fc9d', '251efc249cbbb4750fb50be9e9efcc81', '2cb9d98d2c9382626dfc9aeadba2fa27', '1eef20325998cbc85e76b4c233650493', '2f03bd353e20eab30634c8429563e549', 'b2077681de2814ebf48dbaf002bc624a', 'e51d382ce8da806d39e015b6f456fefc', 'b8f7d46291c942f50d397a42a99ead84', '3ed6374cb4f82857d5a859036f83b3b2', '74d989c0297dc3e101aea4abdfd94d5b', '6d4b02d8191180683585bd0ea36b0269', '6f549044f8f0a5ef8b0b97e370afe6b4', 'd03747e3e853d428937f11538169b915', 'e52e0fcc032ff8591f730f720a707e75', 'badec3bb1aea1f2d16e9e27f7582e5ba', '4078c8f76c1cdbd34edf83e5aff97d6c', '6c8dc5a74ad0b5faba9aab90907fef8e', 'f71444af04f17659a8ba8f1b26b29c2b', '5fb799c39e1c8a92f6c580ff516bdc', '1d2c446179423d3443a14e587d268fe3', 'b5c7a4fcb5866c5879dc578355d11d12', '511dc63330fa5d564eef8d2454df0a59', 'af2e0e384c12c94df3cdc4c3f3dd6c34', '9e5e19730042c4ac15f830ae6ba7ec6', '71151f9168b5d13752649ab20b4dc1c4', 'aa186692256d276810f01e0710be1a50', '7351c76c2cde8fcbfb31be173ca61a0c', '72a7821a50864b6f2e48a85a831cf62f', '71df8cda0f54c0d4de71570b21d84c3e', '7929062b1585f2a1760ddf3e111482fd', '3a2ba26e8ae585ba098f11a58e4bd2a8', '473a51eb60dc6bd0bf7fb567e30cdfdc', '341b0122654df1e21e6272ebc886a98b', 'd9ac19b9a2b4876bcfade0122bf8cefd', '3fe3c1523398d70e0e2eabdafa732396', '14b4177beae77ce96bc7b48c7cc639f5', 'b08c471ca0d7ec0529861af0e0046e4d', 'b271559280d146b1a33df0b471b28371', 'cb314e3a0f388046a67a550241217de5', '9d450744b1136725b08a063b7c2b1f40', 'eb549cbdce0944a2bc62af5ddbd3983', 'cbdeeaa25dad97594660c4c2ad02b618', '9db91f495e8f7160dc8c86b7710e68d4', 'fe6c01af1fb5198484722a4bbe83aa27', 'c2dff0711e4b5a8fe32a46a10600d24a', 'c3ed2295439357d70ca74c0e7031e9ef', '4c61c7f323542f5c7a6078411d121338', '3185fddd1b3012bc5de44aac1483ab61', '2c8d828df9b66f1c74bca988132d951', '549eb2252222bce97ed3fb560993d3d4', '6605c3982a615daa2b7f2769782b8d40', '4d97bfdee0cb6aeb466a81504def3bb0', 'aa82369967854325e783386e99e98a4f', '6f524fdd05155104b87fcf4a470af5e6', '544aba64b69d803c23923da4e6d407e', '8260fe9aa1848db48356f1004de7f874', 'd2a70a240d454504c529543efea2a6f8', 'cb54d501962073f6f0212ffa5204d197', '926cc2455349995fbcf355c2237ed58e', '23d7e7628f1f6b716bcb7610668e0ba0', 'a2e6fd078e47e73600e662975b84a5a9', '36da4ce6e0c348c073c988c7696a6924', '6f90c2012e153d120dbef8f38c27c436', 'dd62e58ac3c9bb58842e67af2908fc9b', 'b09618e9f8e3ea3c1abcd15313b6b429', '7a8354100908e6f954da0295213e3283', 'b6c870812065f829238cfb22911d0d6f', '3ad961fe0e25e42ce4147ce8fcec6874', '7b07a0e04cab09b6499216d4acd4a43e', '8284b9d64e16b913f0d96cdf3c26fa42', '4a620b7a83abbcfd04f5d7517c3b35b', 'f52f638756518f9af4a95cd874423357', '45c1dcf6ec0feacf3be49018d5d3f1cb', '173a92b3ebba4ef5d623a840d9b9ca09', 'f723097e4c26724b6243760e51acbad6', '8115d8a61728434966ed6b590a3fc6d1', '92bdbcdb124de07f682e480558b1f274', 'f6542bf23890b58b002bece1bc873a4', 'c585b714c7a57f4831b37de6374e528f', 'a0d8aeeb140df71b798c37d4cbd15a25', 'b3e6174782c97ec319d31a26ce993e27', 'a48178ae88f02873a420abb426f217e8', 'e7d4417837acf11f36e08b136df04539', 'b55e2f782bdf15016dac93dfa3421c07', 'd0eda710ae7a6f689eeff40e40216cd8', 'f00a06e28126b7451e93717d991d8bc6', '1aaf0b32955bee874e132dd3a7bc7860', '7e199c5885131a2579429c07f3215cbc', 'b51a60c4f5dd990bc9975c8fee9f3f1b', 'bf01c74257cfbe89a718273b28943bd9', '416753a41b66f99936f0ee1e3ea5e8c7', '56f340247c5976fbaaf3e3a4448f3be2', '898d85dc14263d094d3992f97d3c0801', '49054566063e1c30b0b5f0d65e123b99', '7306d33c4578fe7cfdb4e161eb2846ce', 'f1e18cf05d13fb20e8f0ea5f2c204448', '322baee188b18f03dc2774fb32a01eca', 'db25cce96959548b87d26a636528f228', 'e286d8d62d6b010bf6e11b675195bcd1', '29a24ae37bba88cf25279c96277e6afc', 'd8229181941d00eba434549ba520f814', '68d09a1406f4234b1bea8dcdd65d1bdc', '7b6a6d9630a8d24bdbc008442afffb72', '857a6688aa8e1bdc3ac43741e9030446', 'f5836cafceb2db9ba896c13e8ad892f7', '68954cf93849abd170963ed31d021d69', '329821f2309eceaa99f9fe34bcb3e970', '300fc107f1d9a5a0823afead351dc36c', 'a5fd9d0a594e971193d2f2e7864fe96', 'ff26ace44cfced9f9b329afc23aaeda6', 'cf7502c7dbcf2ece71b13f5da56b9d7a', '3a19d345bfb220d6c7c9f18e4c27ad4c', 'f927f30ba2d492cdfbcccaaa62ecefa0', '94a2cbaacdb0a26c1978096c6e435de', '63f11ee69f3a7854b4ed4564d8365987', 'a4efc174d7ab0cc41c52d7c76c5aa7da', '8cac09b7810d44fc46815f1c232c732a', 'a8b64765126c0b2858d1eb37746d607c', '83c5263b9ed603e1140c3d38324cef00', '2163d35da20708cfab4ca270359db22', '8389afc7c2a5183fde51dc0770030ac6', '4bf430a3fefc61203a697fda0626d0a9', '5ca77a0d369cea9c6210ffa12cd4c1b5', 'be44c25fb3252e8664d13fc717266b4f', '3ee9490fc317113d398b26fcf2acac1e', '193bd430d6895a58505246c0d43974e', 'c3f1054ca7c107f98f521b0c98cfc18e', 'f6e45fe774f7a0298276a9baf65a3bd9', 'e9ba4c4e26edb83304f166cd08e4180b', 'f38cf2529dff7caed32d207f32ececea', '2771bc769455dcb61b32de4517390784', '76ccf215912b9b41d2451f3d6f7a7f9c', '487f011b6884da89f54ea02b1b725e29', '556d153c5d15c2dbeee1c73962e773fa', 'bc27bbf5417cac831d8973896a824f2b', '26109349566acb2feeba1807b0a3e5e0', '1890ce7f4ef5c16a89ba04eef28c7756', '8d13da740331e468a71f9dd531c4ecd7', '4a29b54b8f763399fb9ae6de140c3c30', 'ac0205bfa7a64c1c359f1f1ce600902e', '10488b3700fa9d2db22961ab064e4d38', 'a03d48c9db15503bf18bd5b18fb448b', 'e74bba195f9352b25713a88b396b0944', 'f5655238b5a66cfca0b70933fc128192', 'f35b8388502c5a8835432590e9e767a7', '8b8db1964647d929af51d991536eda01', '932b8a9e0be89e19a4eecd373f673825', 'd687e0eda06f921b1b831c6c658b8b13', '5e788852f1ea103f71eef011cda67f54', '1cdc0d8e7a8fe872749da5e9b9073933', 'c56fd80ddf7f2ae2d322aa83aaa069a', '65a20afb7482f937087d62a5f8e6ae38', 'ebd6656fc228c34ff06925f4a9874677', 'c70414b5693a3f1c2db9b0b0523971fe', 'dd0dab5c34148ea33545de68e6a16305', 'f050dc9f3f67cbfd63af9aafef74483f', 'd08daa3417efdcbc837cb90ab99f2c50', '151b08343041002ae6741aa5e54e3966', '151a85ac32dd6bfdfb31d4aeba0ff3fe', '9015e0cf0b63dfd31ebd1c0c216910f7', 'e48b92a8b5dc924ed32ae02ee4267c62', '1889785395e4849e1db07829e74705a6', '79fa379118aea2f9983dab1a707afaca', 'ea6e124df2653b34f70b22c1b86505cd', 'fce86ef8121f54da04737c03bcd64301', '80376c3e6155234e4e1eb8a4f2fc1dc8', '80137c5de896f6ad4ccbc7e0151d6ca8', 'ef3579f36c7609ded02e55070535f0e3', '3396c47f03a786c3d1e5108ccb8edec3', '97159e619b8d88bdd837f7f7e738de43', '9bccadb3d0033a2b2ad4403184ea72f5', 'f252cb406d4c27e71414148175fe6878', '5dcf483c6ceb4cdf9de1648486f28706', '5e877ae08d481609c0a828aaa2ba9bb0'])"
      ]
     },
     "execution_count": 7,
     "metadata": {},
     "output_type": "execute_result"
    }
   ],
   "source": [
    "train_data.keys()"
   ]
  },
  {
   "cell_type": "code",
   "execution_count": 9,
   "metadata": {},
   "outputs": [
    {
     "name": "stdout",
     "output_type": "stream",
     "text": [
      "                                 ID  \\\n",
      "0  d7d392835f50664fc079f0f388e147a0   \n",
      "1  ee40b86368137b86f51806c9f105b34b   \n",
      "2  919bc742d9a22d65eab1f52b11656cab   \n",
      "3  15b97a08d65f22d97ca685686510b6ae   \n",
      "4  affa98421ef5c46ca7c8f246e0a134c1   \n",
      "\n",
      "                                               Tweet  Gender  \n",
      "0  @CSIFERROSCAN youch! Good things to know! Is t...    male  \n",
      "1  Donald the Menace #ThanksComey  https://t.co/j...  female  \n",
      "2  This seems super sketch / too good to be true:...    male  \n",
      "3  Just some texts with my dad about our Saturday...  female  \n",
      "4  Irrevocably love this talented human and so pr...  female  \n"
     ]
    }
   ],
   "source": [
    "# Read train xml files\n",
    "i=0\n",
    "tweets = pd.DataFrame(columns = [\"ID\", \"Tweet\", \"Gender\"])\n",
    "for k, v in train_data.items():\n",
    "    filepath = \"data/\"+k+\".xml\"\n",
    "#     print(filepath)\n",
    "    tree = ET.parse(filepath)\n",
    "    docs = tree.findall('./documents/document')\n",
    "#     docs = tree.find('./documents/document').text\n",
    "    tweet_text = ' '.join([doc.text for doc in docs])\n",
    "    tweets.loc[i] = [k, tweet_text, v]\n",
    "    i+=1\n",
    "    \n",
    "print(tweets.head())"
   ]
  },
  {
   "cell_type": "code",
   "execution_count": null,
   "metadata": {},
   "outputs": [],
   "source": [
    "Gender_encode = {\"Gender\":{\"male\":1, \"female\":0}}\n",
    "tweets.replace(Gender_encode, inplace = True)"
   ]
  },
  {
   "cell_type": "code",
   "execution_count": null,
   "metadata": {},
   "outputs": [],
   "source": [
    "tweets.head()"
   ]
  },
  {
   "cell_type": "code",
   "execution_count": null,
   "metadata": {},
   "outputs": [],
   "source": [
    "np.random.seed(3)\n",
    "msk = np.random.rand(len(tweets)) < 0.8\n",
    "train = tweets[msk].copy()\n",
    "test = tweets[~msk].copy()"
   ]
  },
  {
   "cell_type": "code",
   "execution_count": null,
   "metadata": {},
   "outputs": [],
   "source": [
    "train = tweets\n",
    "test = tweets_test"
   ]
  },
  {
   "cell_type": "code",
   "execution_count": null,
   "metadata": {
    "scrolled": true
   },
   "outputs": [],
   "source": [
    "train.shape\n",
    "test.shape"
   ]
  },
  {
   "cell_type": "code",
   "execution_count": null,
   "metadata": {},
   "outputs": [],
   "source": []
  },
  {
   "cell_type": "code",
   "execution_count": null,
   "metadata": {
    "scrolled": true
   },
   "outputs": [],
   "source": [
    "class LemmaTokenizer(object):\n",
    "    def __init__(self):\n",
    "        self.wnl=WordNetLemmatizer()\n",
    "    def __call__(self,doc):\n",
    "#         print(type(doc))\n",
    "        tokenizer = RegexpTokenizer(r\"\\w+\") \n",
    "        tokens = tokenizer.tokenize(doc)\n",
    "        tokenizer = RegexpTokenizer(r\"\\d+\")\n",
    "        number_tokens = tokenizer.tokenize(doc)\n",
    "        \n",
    "        tokens = [w for w in tokens if w not in number_tokens]\n",
    "#         print(len(word_tokenize(doc)))\n",
    "        rmstopwords = [x for x in tokens if x not in stopwords_list_570]\n",
    "#         print(len(rmstopwords))\n",
    "#         return [self.wnl.lemmatize(t) for t in word_tokenize(doc)]\n",
    "        return [self.wnl.lemmatize(t) for t in rmstopwords]"
   ]
  },
  {
   "cell_type": "code",
   "execution_count": null,
   "metadata": {},
   "outputs": [],
   "source": [
    "vectorizer=TfidfVectorizer(analyzer='word',input='content',\n",
    "                           lowercase=True,\n",
    "#                            token_pattern='(?u)\\\\b\\\\w\\\\w+\\\\b',\n",
    "#                            token_pattern='\\w+',\n",
    "#                            token_pattern=tokenizer,\n",
    "                           min_df=0,\n",
    "#                            ngram_range=(1,2),\n",
    "                           ngram_range=(1,1),\n",
    "                           tokenizer=LemmaTokenizer())"
   ]
  },
  {
   "cell_type": "code",
   "execution_count": null,
   "metadata": {},
   "outputs": [],
   "source": [
    "x_train=vectorizer.fit_transform(trainDocs)\n",
    "y_train=np.asarray(trainLabels)"
   ]
  },
  {
   "cell_type": "code",
   "execution_count": null,
   "metadata": {},
   "outputs": [],
   "source": [
    "x_test=vectorizer.transform(testDocs)\n",
    "# y_test=np.asarray(testLables)"
   ]
  },
  {
   "cell_type": "code",
   "execution_count": null,
   "metadata": {},
   "outputs": [],
   "source": [
    "print(len(vectorizer.get_feature_names()))\n",
    "# print(vectorizer.get_feature_names())"
   ]
  },
  {
   "cell_type": "code",
   "execution_count": null,
   "metadata": {},
   "outputs": [],
   "source": [
    "# x_train[0, :]\n",
    "print(x_train.todense())"
   ]
  },
  {
   "cell_type": "code",
   "execution_count": null,
   "metadata": {},
   "outputs": [],
   "source": [
    "trainDocs = train.Tweet.tolist()\n",
    "trainLabels = train.Gender.tolist()"
   ]
  },
  {
   "cell_type": "code",
   "execution_count": null,
   "metadata": {},
   "outputs": [],
   "source": [
    "testDocs = test.Tweet.tolist()\n",
    "# testLables = test.Gender.tolist()"
   ]
  },
  {
   "cell_type": "code",
   "execution_count": null,
   "metadata": {},
   "outputs": [],
   "source": []
  },
  {
   "cell_type": "code",
   "execution_count": null,
   "metadata": {},
   "outputs": [],
   "source": [
    "print(trainDocs)\n",
    "print(x_test.shape)\n",
    "print(y_train.shape)\n",
    "print(y_test.shape)"
   ]
  },
  {
   "cell_type": "code",
   "execution_count": null,
   "metadata": {},
   "outputs": [],
   "source": [
    "trainDocs = tweets.Tweet.tolist()\n",
    "trainLabels = tweets.Gender.tolist()"
   ]
  },
  {
   "cell_type": "code",
   "execution_count": null,
   "metadata": {},
   "outputs": [],
   "source": [
    "raw = trainDocs[0]"
   ]
  },
  {
   "cell_type": "code",
   "execution_count": null,
   "metadata": {},
   "outputs": [],
   "source": [
    "tokenizer = RegexpTokenizer(r\"\\w+\") \n",
    "tokens = tokenizer.tokenize(raw)"
   ]
  },
  {
   "cell_type": "code",
   "execution_count": null,
   "metadata": {},
   "outputs": [],
   "source": [
    "len(tokens)"
   ]
  },
  {
   "cell_type": "code",
   "execution_count": null,
   "metadata": {},
   "outputs": [],
   "source": [
    "tokenizer = RegexpTokenizer(r\"\\s+\", gaps = True) \n",
    "tokens = tokenizer.tokenize(raw)"
   ]
  },
  {
   "cell_type": "code",
   "execution_count": null,
   "metadata": {},
   "outputs": [],
   "source": [
    "tokens[:50]"
   ]
  },
  {
   "cell_type": "code",
   "execution_count": null,
   "metadata": {},
   "outputs": [],
   "source": [
    "print('VC93gMCzK5' in tokens)"
   ]
  },
  {
   "cell_type": "code",
   "execution_count": null,
   "metadata": {},
   "outputs": [],
   "source": [
    "stopwords_list_570 = []\n",
    "with open('./stopwords_en.txt') as f:\n",
    "    stopwords_list_570 = f.read().splitlines()"
   ]
  },
  {
   "cell_type": "code",
   "execution_count": null,
   "metadata": {},
   "outputs": [],
   "source": [
    "filtered_tokens = [w for w in tokens if w.lower() not in stopwords_list_570]\n",
    "filtered_tokens"
   ]
  },
  {
   "cell_type": "code",
   "execution_count": null,
   "metadata": {},
   "outputs": [],
   "source": [
    "len(filtered_tokens)"
   ]
  },
  {
   "cell_type": "code",
   "execution_count": null,
   "metadata": {},
   "outputs": [],
   "source": [
    "tokenizer = RegexpTokenizer(r\"\\d+\")\n",
    "number_tokens = tokenizer.tokenize(raw)"
   ]
  },
  {
   "cell_type": "code",
   "execution_count": null,
   "metadata": {},
   "outputs": [],
   "source": [
    "len(number_tokens)"
   ]
  },
  {
   "cell_type": "code",
   "execution_count": null,
   "metadata": {},
   "outputs": [],
   "source": [
    "tokens[:30]"
   ]
  },
  {
   "cell_type": "code",
   "execution_count": null,
   "metadata": {},
   "outputs": [],
   "source": [
    "[x for x in data.items()][:5]"
   ]
  },
  {
   "cell_type": "code",
   "execution_count": null,
   "metadata": {},
   "outputs": [],
   "source": [
    "filtered_tokens_2 = [w for w in filtered_tokens if w not in number_tokens]\n",
    "len(filtered_tokens_2)"
   ]
  },
  {
   "cell_type": "code",
   "execution_count": null,
   "metadata": {},
   "outputs": [],
   "source": [
    "from nltk.stem import WordNetLemmatizer\n",
    "lemmatizer = WordNetLemmatizer()\n",
    "print(['{0} -> {1}'.format(w, lemmatizer.lemmatize(w)) for w in filtered_tokens_2])\n",
    "lemmatized_tokens = [lemmatizer.lemmatize(w) for w in filtered_tokens_2]"
   ]
  },
  {
   "cell_type": "raw",
   "metadata": {},
   "source": [
    "from nltk.stem import SnowballStemmer\n",
    "stemmer = SnowballStemmer('english')\n",
    "['{0} -> {1}'.format(w, stemmer.stem(w)) for w in filtered_tokens_2]"
   ]
  },
  {
   "cell_type": "raw",
   "metadata": {},
   "source": [
    "from nltk.stem import LancasterStemmer\n",
    "stemmer = LancasterStemmer()\n",
    "['{0} -> {1}'.format(w, stemmer.stem(w)) for w in filtered_tokens_2]"
   ]
  },
  {
   "cell_type": "code",
   "execution_count": null,
   "metadata": {},
   "outputs": [],
   "source": [
    "from nltk.probability import *\n",
    "fd_1 = FreqDist(lemmatized_tokens)"
   ]
  },
  {
   "cell_type": "code",
   "execution_count": null,
   "metadata": {},
   "outputs": [],
   "source": [
    "len(lemmatized_tokens)\n",
    "lemmatized_tokens[:5]"
   ]
  },
  {
   "cell_type": "code",
   "execution_count": null,
   "metadata": {},
   "outputs": [],
   "source": [
    "fd_1.most_common(25)"
   ]
  },
  {
   "cell_type": "code",
   "execution_count": null,
   "metadata": {},
   "outputs": [],
   "source": [
    "fd_1.plot(25, cumulative=False)"
   ]
  },
  {
   "cell_type": "code",
   "execution_count": null,
   "metadata": {},
   "outputs": [],
   "source": [
    "from sklearn.feature_extraction.text import TfidfVectorizer\n",
    "tfidf = TfidfVectorizer(analyzer = \"word\")\n",
    "tfs = tfidf.fit_transform(lemmatized_tokens)\n",
    "tfs.shape"
   ]
  },
  {
   "cell_type": "code",
   "execution_count": null,
   "metadata": {},
   "outputs": [],
   "source": [
    "vocab = tfidf.get_feature_names()\n",
    "# for word, weight in zip(vocab, tfs.toarray()[0]):\n",
    "#     if weight > 0:\n",
    "#         print (word, \":\", weight)\n",
    "# print(len(vocab))\n",
    "# print(vocab)"
   ]
  },
  {
   "cell_type": "code",
   "execution_count": null,
   "metadata": {},
   "outputs": [],
   "source": []
  },
  {
   "cell_type": "code",
   "execution_count": null,
   "metadata": {},
   "outputs": [],
   "source": [
    "# Training: We use 3 different models and 5 fold cross validation to see which one is better\n",
    "models = [\n",
    "    LogisticRegression(),\n",
    "    BernoulliNB(),\n",
    "    LinearSVC(),\n",
    "    RandomForestClassifier()\n",
    "]\n",
    "CV = 10\n",
    "cv_df = pd.DataFrame(index=range(CV * len(models)))\n",
    "entries = []\n",
    "for model in models:\n",
    "     model_name = model.__class__.__name__\n",
    "     accuracies = cross_val_score(model, x_train, y_train, scoring='accuracy', cv=CV)\n",
    "     for fold_idx, accuracy in enumerate(accuracies):\n",
    "          entries.append((model_name, fold_idx, accuracy))\n",
    "cv_df = pd.DataFrame(entries, columns=['model_name', 'fold_idx', 'accuracy'])\n",
    "#cv_df\n",
    "import seaborn as sns\n",
    "import matplotlib.pyplot as plt\n",
    "sns.boxplot(x='model_name', y='accuracy', data=cv_df)\n",
    "sns.stripplot(x='model_name', y='accuracy', data=cv_df, \n",
    "              size=8, jitter=True, edgecolor=\"gray\", linewidth=2)\n",
    "plt.show()\n"
   ]
  },
  {
   "cell_type": "code",
   "execution_count": 67,
   "metadata": {},
   "outputs": [],
   "source": [
    "from scipy.sparse import dok_matrix\n",
    "import numpy as np\n",
    "import scipy as sp\n",
    "from scipy.sparse import csr_matrix, issparse"
   ]
  },
  {
   "cell_type": "code",
   "execution_count": 76,
   "metadata": {},
   "outputs": [],
   "source": [
    "X = np.array(x_test)\n",
    "X_train = sp.sparse.hstack([x_train]).toarray()\n"
   ]
  },
  {
   "cell_type": "code",
   "execution_count": 75,
   "metadata": {},
   "outputs": [
    {
     "ename": "KeyboardInterrupt",
     "evalue": "",
     "output_type": "error",
     "traceback": [
      "\u001b[0;31m---------------------------------------------------------------------------\u001b[0m",
      "\u001b[0;31mKeyboardInterrupt\u001b[0m                         Traceback (most recent call last)",
      "\u001b[0;32m<ipython-input-75-8434010977c8>\u001b[0m in \u001b[0;36m<module>\u001b[0;34m\u001b[0m\n\u001b[1;32m      1\u001b[0m \u001b[0mlda\u001b[0m \u001b[0;34m=\u001b[0m \u001b[0mLinearDiscriminantAnalysis\u001b[0m\u001b[0;34m(\u001b[0m\u001b[0;34m)\u001b[0m\u001b[0;34m\u001b[0m\u001b[0;34m\u001b[0m\u001b[0m\n\u001b[0;32m----> 2\u001b[0;31m \u001b[0mmodel\u001b[0m \u001b[0;34m=\u001b[0m \u001b[0mlda\u001b[0m\u001b[0;34m.\u001b[0m\u001b[0mfit\u001b[0m\u001b[0;34m(\u001b[0m\u001b[0mX_train\u001b[0m\u001b[0;34m,\u001b[0m \u001b[0my_train\u001b[0m\u001b[0;34m)\u001b[0m\u001b[0;34m\u001b[0m\u001b[0;34m\u001b[0m\u001b[0m\n\u001b[0m",
      "\u001b[0;32m~/opt/anaconda3/lib/python3.7/site-packages/sklearn/discriminant_analysis.py\u001b[0m in \u001b[0;36mfit\u001b[0;34m(self, X, y)\u001b[0m\n\u001b[1;32m    459\u001b[0m             \u001b[0;32mif\u001b[0m \u001b[0mself\u001b[0m\u001b[0;34m.\u001b[0m\u001b[0mshrinkage\u001b[0m \u001b[0;32mis\u001b[0m \u001b[0;32mnot\u001b[0m \u001b[0;32mNone\u001b[0m\u001b[0;34m:\u001b[0m\u001b[0;34m\u001b[0m\u001b[0;34m\u001b[0m\u001b[0m\n\u001b[1;32m    460\u001b[0m                 \u001b[0;32mraise\u001b[0m \u001b[0mNotImplementedError\u001b[0m\u001b[0;34m(\u001b[0m\u001b[0;34m'shrinkage not supported'\u001b[0m\u001b[0;34m)\u001b[0m\u001b[0;34m\u001b[0m\u001b[0;34m\u001b[0m\u001b[0m\n\u001b[0;32m--> 461\u001b[0;31m             \u001b[0mself\u001b[0m\u001b[0;34m.\u001b[0m\u001b[0m_solve_svd\u001b[0m\u001b[0;34m(\u001b[0m\u001b[0mX\u001b[0m\u001b[0;34m,\u001b[0m \u001b[0my\u001b[0m\u001b[0;34m)\u001b[0m\u001b[0;34m\u001b[0m\u001b[0;34m\u001b[0m\u001b[0m\n\u001b[0m\u001b[1;32m    462\u001b[0m         \u001b[0;32melif\u001b[0m \u001b[0mself\u001b[0m\u001b[0;34m.\u001b[0m\u001b[0msolver\u001b[0m \u001b[0;34m==\u001b[0m \u001b[0;34m'lsqr'\u001b[0m\u001b[0;34m:\u001b[0m\u001b[0;34m\u001b[0m\u001b[0;34m\u001b[0m\u001b[0m\n\u001b[1;32m    463\u001b[0m             \u001b[0mself\u001b[0m\u001b[0;34m.\u001b[0m\u001b[0m_solve_lsqr\u001b[0m\u001b[0;34m(\u001b[0m\u001b[0mX\u001b[0m\u001b[0;34m,\u001b[0m \u001b[0my\u001b[0m\u001b[0;34m,\u001b[0m \u001b[0mshrinkage\u001b[0m\u001b[0;34m=\u001b[0m\u001b[0mself\u001b[0m\u001b[0;34m.\u001b[0m\u001b[0mshrinkage\u001b[0m\u001b[0;34m)\u001b[0m\u001b[0;34m\u001b[0m\u001b[0;34m\u001b[0m\u001b[0m\n",
      "\u001b[0;32m~/opt/anaconda3/lib/python3.7/site-packages/sklearn/discriminant_analysis.py\u001b[0m in \u001b[0;36m_solve_svd\u001b[0;34m(self, X, y)\u001b[0m\n\u001b[1;32m    380\u001b[0m \u001b[0;34m\u001b[0m\u001b[0m\n\u001b[1;32m    381\u001b[0m         \u001b[0;31m# 2) Within variance scaling\u001b[0m\u001b[0;34m\u001b[0m\u001b[0;34m\u001b[0m\u001b[0;34m\u001b[0m\u001b[0m\n\u001b[0;32m--> 382\u001b[0;31m         \u001b[0mX\u001b[0m \u001b[0;34m=\u001b[0m \u001b[0mnp\u001b[0m\u001b[0;34m.\u001b[0m\u001b[0msqrt\u001b[0m\u001b[0;34m(\u001b[0m\u001b[0mfac\u001b[0m\u001b[0;34m)\u001b[0m \u001b[0;34m*\u001b[0m \u001b[0;34m(\u001b[0m\u001b[0mXc\u001b[0m \u001b[0;34m/\u001b[0m \u001b[0mstd\u001b[0m\u001b[0;34m)\u001b[0m\u001b[0;34m\u001b[0m\u001b[0;34m\u001b[0m\u001b[0m\n\u001b[0m\u001b[1;32m    383\u001b[0m         \u001b[0;31m# SVD of centered (within)scaled data\u001b[0m\u001b[0;34m\u001b[0m\u001b[0;34m\u001b[0m\u001b[0;34m\u001b[0m\u001b[0m\n\u001b[1;32m    384\u001b[0m         \u001b[0mU\u001b[0m\u001b[0;34m,\u001b[0m \u001b[0mS\u001b[0m\u001b[0;34m,\u001b[0m \u001b[0mV\u001b[0m \u001b[0;34m=\u001b[0m \u001b[0mlinalg\u001b[0m\u001b[0;34m.\u001b[0m\u001b[0msvd\u001b[0m\u001b[0;34m(\u001b[0m\u001b[0mX\u001b[0m\u001b[0;34m,\u001b[0m \u001b[0mfull_matrices\u001b[0m\u001b[0;34m=\u001b[0m\u001b[0;32mFalse\u001b[0m\u001b[0;34m)\u001b[0m\u001b[0;34m\u001b[0m\u001b[0;34m\u001b[0m\u001b[0m\n",
      "\u001b[0;31mKeyboardInterrupt\u001b[0m: "
     ]
    }
   ],
   "source": [
    "lda = LinearDiscriminantAnalysis()\n",
    "model = lda.fit(X_train, y_train)"
   ]
  },
  {
   "cell_type": "code",
   "execution_count": 54,
   "metadata": {},
   "outputs": [
    {
     "name": "stderr",
     "output_type": "stream",
     "text": [
      "/Users/ajaymenon/opt/anaconda3/lib/python3.7/site-packages/sklearn/linear_model/logistic.py:433: FutureWarning: Default solver will be changed to 'lbfgs' in 0.22. Specify a solver to silence this warning.\n",
      "  FutureWarning)\n"
     ]
    },
    {
     "name": "stdout",
     "output_type": "stream",
     "text": [
      "LogisticRegression\n",
      "[[228 101]\n",
      " [ 51 225]]\n",
      "Accuracy: 0.7487603305785124\n",
      "Macro Precision: 0.7536941750775117\n",
      "Macro Recall: 0.7541132549226905\n",
      "Macro F1 score:0.7487541528239202\n",
      "MCC:0.5078072570724977\n",
      "BernoulliNB\n",
      "[[232  97]\n",
      " [ 62 214]]\n",
      "Accuracy: 0.7371900826446282\n",
      "Macro Precision: 0.7386092700745893\n",
      "Macro Recall: 0.7402647460464297\n",
      "Macro F1 score:0.7369572410247717\n",
      "MCC:0.47887115460756313\n",
      "LinearSVC\n",
      "[[246  83]\n",
      " [ 49 227]]\n",
      "Accuracy: 0.7818181818181819\n",
      "Macro Precision: 0.7830781848004373\n",
      "Macro Recall: 0.7850920664287917\n",
      "Macro F1 score:0.7816027828826464\n",
      "MCC:0.5681666821124521\n"
     ]
    },
    {
     "name": "stderr",
     "output_type": "stream",
     "text": [
      "/Users/ajaymenon/opt/anaconda3/lib/python3.7/site-packages/sklearn/ensemble/forest.py:246: FutureWarning: The default value of n_estimators will change from 10 in version 0.20 to 100 in 0.22.\n",
      "  \"10 in version 0.20 to 100 in 0.22.\", FutureWarning)\n"
     ]
    },
    {
     "name": "stdout",
     "output_type": "stream",
     "text": [
      "RandomForestClassifier\n",
      "[[233  96]\n",
      " [100 176]]\n",
      "Accuracy: 0.6760330578512397\n",
      "Macro Precision: 0.6733792616145557\n",
      "Macro Recall: 0.6729439231751905\n",
      "Macro F1 score:0.6731316294352436\n",
      "MCC:0.3463229111730206\n",
      "KNeighborsClassifier\n",
      "[[151 178]\n",
      " [ 84 192]]\n",
      "Accuracy: 0.5669421487603306\n",
      "Macro Precision: 0.5807360552041403\n",
      "Macro Recall: 0.5773093696312938\n",
      "Macro F1 score:0.5649441187449223\n",
      "MCC:0.15800827237014425\n"
     ]
    },
    {
     "ename": "TypeError",
     "evalue": "A sparse matrix was passed, but dense data is required. Use X.toarray() to convert to a dense numpy array.",
     "output_type": "error",
     "traceback": [
      "\u001b[0;31m---------------------------------------------------------------------------\u001b[0m",
      "\u001b[0;31mTypeError\u001b[0m                                 Traceback (most recent call last)",
      "\u001b[0;32m<ipython-input-54-01bb91f61889>\u001b[0m in \u001b[0;36m<module>\u001b[0;34m\u001b[0m\n\u001b[1;32m     10\u001b[0m \u001b[0;32mfor\u001b[0m \u001b[0mclf\u001b[0m \u001b[0;32min\u001b[0m \u001b[0mmodels\u001b[0m\u001b[0;34m:\u001b[0m\u001b[0;34m\u001b[0m\u001b[0;34m\u001b[0m\u001b[0m\n\u001b[1;32m     11\u001b[0m     \u001b[0mmodel_name\u001b[0m \u001b[0;34m=\u001b[0m \u001b[0mclf\u001b[0m\u001b[0;34m.\u001b[0m\u001b[0m__class__\u001b[0m\u001b[0;34m.\u001b[0m\u001b[0m__name__\u001b[0m\u001b[0;34m\u001b[0m\u001b[0;34m\u001b[0m\u001b[0m\n\u001b[0;32m---> 12\u001b[0;31m     \u001b[0mclf\u001b[0m\u001b[0;34m.\u001b[0m\u001b[0mfit\u001b[0m\u001b[0;34m(\u001b[0m\u001b[0mx_train\u001b[0m\u001b[0;34m,\u001b[0m \u001b[0my_train\u001b[0m\u001b[0;34m)\u001b[0m\u001b[0;34m\u001b[0m\u001b[0;34m\u001b[0m\u001b[0m\n\u001b[0m\u001b[1;32m     13\u001b[0m     \u001b[0mprint\u001b[0m\u001b[0;34m(\u001b[0m\u001b[0mmodel_name\u001b[0m\u001b[0;34m)\u001b[0m\u001b[0;34m\u001b[0m\u001b[0;34m\u001b[0m\u001b[0m\n\u001b[1;32m     14\u001b[0m     \u001b[0;31m# Do the prediction\u001b[0m\u001b[0;34m\u001b[0m\u001b[0;34m\u001b[0m\u001b[0;34m\u001b[0m\u001b[0m\n",
      "\u001b[0;32m~/opt/anaconda3/lib/python3.7/site-packages/sklearn/discriminant_analysis.py\u001b[0m in \u001b[0;36mfit\u001b[0;34m(self, X, y)\u001b[0m\n\u001b[1;32m    427\u001b[0m             \u001b[0mTarget\u001b[0m \u001b[0mvalues\u001b[0m\u001b[0;34m.\u001b[0m\u001b[0;34m\u001b[0m\u001b[0;34m\u001b[0m\u001b[0m\n\u001b[1;32m    428\u001b[0m         \"\"\"\n\u001b[0;32m--> 429\u001b[0;31m         \u001b[0mX\u001b[0m\u001b[0;34m,\u001b[0m \u001b[0my\u001b[0m \u001b[0;34m=\u001b[0m \u001b[0mcheck_X_y\u001b[0m\u001b[0;34m(\u001b[0m\u001b[0mX\u001b[0m\u001b[0;34m,\u001b[0m \u001b[0my\u001b[0m\u001b[0;34m,\u001b[0m \u001b[0mensure_min_samples\u001b[0m\u001b[0;34m=\u001b[0m\u001b[0;36m2\u001b[0m\u001b[0;34m,\u001b[0m \u001b[0mestimator\u001b[0m\u001b[0;34m=\u001b[0m\u001b[0mself\u001b[0m\u001b[0;34m)\u001b[0m\u001b[0;34m\u001b[0m\u001b[0;34m\u001b[0m\u001b[0m\n\u001b[0m\u001b[1;32m    430\u001b[0m         \u001b[0mself\u001b[0m\u001b[0;34m.\u001b[0m\u001b[0mclasses_\u001b[0m \u001b[0;34m=\u001b[0m \u001b[0munique_labels\u001b[0m\u001b[0;34m(\u001b[0m\u001b[0my\u001b[0m\u001b[0;34m)\u001b[0m\u001b[0;34m\u001b[0m\u001b[0;34m\u001b[0m\u001b[0m\n\u001b[1;32m    431\u001b[0m         \u001b[0mn_samples\u001b[0m\u001b[0;34m,\u001b[0m \u001b[0m_\u001b[0m \u001b[0;34m=\u001b[0m \u001b[0mX\u001b[0m\u001b[0;34m.\u001b[0m\u001b[0mshape\u001b[0m\u001b[0;34m\u001b[0m\u001b[0;34m\u001b[0m\u001b[0m\n",
      "\u001b[0;32m~/opt/anaconda3/lib/python3.7/site-packages/sklearn/utils/validation.py\u001b[0m in \u001b[0;36mcheck_X_y\u001b[0;34m(X, y, accept_sparse, accept_large_sparse, dtype, order, copy, force_all_finite, ensure_2d, allow_nd, multi_output, ensure_min_samples, ensure_min_features, y_numeric, warn_on_dtype, estimator)\u001b[0m\n\u001b[1;32m    754\u001b[0m                     \u001b[0mensure_min_features\u001b[0m\u001b[0;34m=\u001b[0m\u001b[0mensure_min_features\u001b[0m\u001b[0;34m,\u001b[0m\u001b[0;34m\u001b[0m\u001b[0;34m\u001b[0m\u001b[0m\n\u001b[1;32m    755\u001b[0m                     \u001b[0mwarn_on_dtype\u001b[0m\u001b[0;34m=\u001b[0m\u001b[0mwarn_on_dtype\u001b[0m\u001b[0;34m,\u001b[0m\u001b[0;34m\u001b[0m\u001b[0;34m\u001b[0m\u001b[0m\n\u001b[0;32m--> 756\u001b[0;31m                     estimator=estimator)\n\u001b[0m\u001b[1;32m    757\u001b[0m     \u001b[0;32mif\u001b[0m \u001b[0mmulti_output\u001b[0m\u001b[0;34m:\u001b[0m\u001b[0;34m\u001b[0m\u001b[0;34m\u001b[0m\u001b[0m\n\u001b[1;32m    758\u001b[0m         y = check_array(y, 'csr', force_all_finite=True, ensure_2d=False,\n",
      "\u001b[0;32m~/opt/anaconda3/lib/python3.7/site-packages/sklearn/utils/validation.py\u001b[0m in \u001b[0;36mcheck_array\u001b[0;34m(array, accept_sparse, accept_large_sparse, dtype, order, copy, force_all_finite, ensure_2d, allow_nd, ensure_min_samples, ensure_min_features, warn_on_dtype, estimator)\u001b[0m\n\u001b[1;32m    515\u001b[0m                                       \u001b[0mdtype\u001b[0m\u001b[0;34m=\u001b[0m\u001b[0mdtype\u001b[0m\u001b[0;34m,\u001b[0m \u001b[0mcopy\u001b[0m\u001b[0;34m=\u001b[0m\u001b[0mcopy\u001b[0m\u001b[0;34m,\u001b[0m\u001b[0;34m\u001b[0m\u001b[0;34m\u001b[0m\u001b[0m\n\u001b[1;32m    516\u001b[0m                                       \u001b[0mforce_all_finite\u001b[0m\u001b[0;34m=\u001b[0m\u001b[0mforce_all_finite\u001b[0m\u001b[0;34m,\u001b[0m\u001b[0;34m\u001b[0m\u001b[0;34m\u001b[0m\u001b[0m\n\u001b[0;32m--> 517\u001b[0;31m                                       accept_large_sparse=accept_large_sparse)\n\u001b[0m\u001b[1;32m    518\u001b[0m     \u001b[0;32melse\u001b[0m\u001b[0;34m:\u001b[0m\u001b[0;34m\u001b[0m\u001b[0;34m\u001b[0m\u001b[0m\n\u001b[1;32m    519\u001b[0m         \u001b[0;31m# If np.array(..) gives ComplexWarning, then we convert the warning\u001b[0m\u001b[0;34m\u001b[0m\u001b[0;34m\u001b[0m\u001b[0;34m\u001b[0m\u001b[0m\n",
      "\u001b[0;32m~/opt/anaconda3/lib/python3.7/site-packages/sklearn/utils/validation.py\u001b[0m in \u001b[0;36m_ensure_sparse_format\u001b[0;34m(spmatrix, accept_sparse, dtype, copy, force_all_finite, accept_large_sparse)\u001b[0m\n\u001b[1;32m    316\u001b[0m \u001b[0;34m\u001b[0m\u001b[0m\n\u001b[1;32m    317\u001b[0m     \u001b[0;32mif\u001b[0m \u001b[0maccept_sparse\u001b[0m \u001b[0;32mis\u001b[0m \u001b[0;32mFalse\u001b[0m\u001b[0;34m:\u001b[0m\u001b[0;34m\u001b[0m\u001b[0;34m\u001b[0m\u001b[0m\n\u001b[0;32m--> 318\u001b[0;31m         raise TypeError('A sparse matrix was passed, but dense '\n\u001b[0m\u001b[1;32m    319\u001b[0m                         \u001b[0;34m'data is required. Use X.toarray() to '\u001b[0m\u001b[0;34m\u001b[0m\u001b[0;34m\u001b[0m\u001b[0m\n\u001b[1;32m    320\u001b[0m                         'convert to a dense numpy array.')\n",
      "\u001b[0;31mTypeError\u001b[0m: A sparse matrix was passed, but dense data is required. Use X.toarray() to convert to a dense numpy array."
     ]
    }
   ],
   "source": [
    "models = [\n",
    "    LogisticRegression(),\n",
    "    BernoulliNB(),\n",
    "    LinearSVC(),\n",
    "    RandomForestClassifier(),\n",
    "    KNeighborsClassifier(n_neighbors=1),\n",
    "    LinearDiscriminantAnalysis()\n",
    "]\n",
    "\n",
    "for clf in models:\n",
    "    model_name = clf.__class__.__name__\n",
    "    clf.fit(x_train, y_train)\n",
    "    print(model_name)\n",
    "    # Do the prediction\n",
    "    y_predict=clf.predict(x_test)\n",
    "    print(confusion_matrix(y_test,y_predict))\n",
    "    recall=recall_score(y_test,y_predict,average='macro')\n",
    "    precision=precision_score(y_test,y_predict,average='macro')\n",
    "    f1score=f1_score(y_test,y_predict,average='macro')\n",
    "    accuracy=accuracy_score(y_test,y_predict)\n",
    "    matthews = matthews_corrcoef(y_test,y_predict) \n",
    "    print('Accuracy: '+ str(accuracy))\n",
    "    print('Macro Precision: '+ str(precision))\n",
    "    print('Macro Recall: '+ str(recall))\n",
    "    print('Macro F1 score:'+ str(f1score))\n",
    "    print('MCC:'+ str(matthews))\n"
   ]
  },
  {
   "cell_type": "code",
   "execution_count": null,
   "metadata": {},
   "outputs": [
    {
     "name": "stderr",
     "output_type": "stream",
     "text": [
      "/Users/ajaymenon/opt/anaconda3/lib/python3.7/site-packages/sklearn/discriminant_analysis.py:692: UserWarning: Variables are collinear\n",
      "  warnings.warn(\"Variables are collinear\")\n"
     ]
    }
   ],
   "source": [
    "models = [\n",
    "    QuadraticDiscriminantAnalysis(),\n",
    "    LinearDiscriminantAnalysis()\n",
    "]\n",
    "\n",
    "for clf in models:\n",
    "    model_name = clf.__class__.__name__\n",
    "    clf.fit(X_train, y_train)\n",
    "    print(model_name)\n",
    "    # Do the prediction\n",
    "    y_predict=clf.predict(X)\n",
    "    print(confusion_matrix(y_test,y_predict))\n",
    "    recall=recall_score(y_test,y_predict,average='macro')\n",
    "    precision=precision_score(y_test,y_predict,average='macro')\n",
    "    f1score=f1_score(y_test,y_predict,average='macro')\n",
    "    accuracy=accuracy_score(y_test,y_predict)\n",
    "    matthews = matthews_corrcoef(y_test,y_predict) \n",
    "    print('Accuracy: '+ str(accuracy))\n",
    "    print('Macro Precision: '+ str(precision))\n",
    "    print('Macro Recall: '+ str(recall))\n",
    "    print('Macro F1 score:'+ str(f1score))\n",
    "    print('MCC:'+ str(matthews))"
   ]
  },
  {
   "cell_type": "code",
   "execution_count": null,
   "metadata": {},
   "outputs": [],
   "source": [
    "models = [\n",
    "    LinearSVC(),\n",
    "]\n",
    "\n",
    "for clf in models:\n",
    "    model_name = clf.__class__.__name__\n",
    "    clf.fit(x_train, y_train)\n",
    "    y_predict=clf.predict(x_test)\n",
    "\n",
    "y_predict"
   ]
  },
  {
   "cell_type": "code",
   "execution_count": null,
   "metadata": {},
   "outputs": [],
   "source": [
    "# tweets_test.head()\n",
    "# type(y_predict)\n",
    "final_csv = tweets_test[['ID','Gender']]\n",
    "final_csv.rename(columns = {'ID':'id', 'Gender':'gender'}, inplace = True)\n",
    "final_csv.gender = y_predict\n",
    "final_csv.head()\n"
   ]
  },
  {
   "cell_type": "code",
   "execution_count": null,
   "metadata": {},
   "outputs": [],
   "source": [
    "final_csv.to_csv('pred_labels.csv', index = False)"
   ]
  },
  {
   "cell_type": "code",
   "execution_count": null,
   "metadata": {},
   "outputs": [],
   "source": [
    "print(x_train.shape)\n",
    "print(x_test.shape)\n",
    "print(y_train.shape)\n",
    "# print(y_test.shape)"
   ]
  }
 ],
 "metadata": {
  "kernelspec": {
   "display_name": "Python 3",
   "language": "python",
   "name": "python3"
  },
  "language_info": {
   "codemirror_mode": {
    "name": "ipython",
    "version": 3
   },
   "file_extension": ".py",
   "mimetype": "text/x-python",
   "name": "python",
   "nbconvert_exporter": "python",
   "pygments_lexer": "ipython3",
   "version": "3.8.3"
  }
 },
 "nbformat": 4,
 "nbformat_minor": 2
}
